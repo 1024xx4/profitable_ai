{
 "cells": [
  {
   "cell_type": "code",
   "execution_count": 1,
   "metadata": {
    "collapsed": true
   },
   "outputs": [],
   "source": [
    "# 余分な Warning を非表示にする\n",
    "import warnings\n",
    "\n",
    "warnings.filterwarnings('ignore')\n",
    "\n",
    "# Library の import\n",
    "import pandas as pd\n",
    "import numpy as np\n",
    "import matplotlib.pyplot as plt\n",
    "\n",
    "# matplotlib に日本語化\n",
    "import japanize_matplotlib\n",
    "\n",
    "# DataFrame 表示用関数\n",
    "from IPython.display import display\n",
    "\n",
    "# 表示 Option 調整\n",
    "# NumPy の浮動小数点の表示精度\n",
    "np.set_printoptions(suppress=True, precision=4)\n",
    "# pandas での浮動小数点の表示速度\n",
    "pd.options.display.float_format = '{:.4f}'.format\n",
    "# DataFrame ですべての項目を表示\n",
    "pd.set_option('display.max_columns', None)\n",
    "# Graph の Default Font 指定\n",
    "plt.rcParams['font.size'] = 14\n",
    "# 乱数の種\n",
    "random_seed = 123"
   ]
  },
  {
   "cell_type": "markdown",
   "source": [
    "#### Original URL\n",
    "https://archive.ics.uci.edu/ml/datasets/bike+sharing+dataset\n",
    "##### ZIP Data\n",
    "https://archive.ics.uci.edu/ml/machine-learning-databases/00275/Bike-Sharing-Dataset.zip\n",
    "\n",
    "### Data 項目 Memo\n",
    "instant: Index\n",
    "dteday: 日付（yy-mm-dd）\n",
    "season: 季節（1: 冬, 2: 春, 3: 夏, 4: 秋）\n",
    "yr: 年(0: 2011,, 1: 2012）\n",
    "mnth: 月（1 - 12）\n",
    "hr: 時間(0 - 23）\n",
    "holiday: 祝日\n",
    "weekday: 曜日（0-6）\n",
    "workingday: 勤務日（1: 勤務日, 0: 休日）\n",
    "weathersit: 天気（1: 晴れから曇り, 2: 霧, 3: 小雨, 4: 大雨）\n",
    "temp: 気温（正規化済み）\n",
    "atemp: 体感気温（正規化済）\n",
    "hum: 湿度（正規化済）\n",
    "windspeed: 風速（正規化済）\n",
    "casual: 臨時利用者数\n",
    "registered: 登録利用者数\n",
    "cnt: 全体利用者数\n",
    "\n",
    "## 入力変数\n",
    "日付、季節、年、月、祝日、曜日、勤務日、天気、気温、体感温度、湿度、風速\n",
    "## 目的変数\n",
    "臨時 User 利用数、登録 User 利用数、全体 User 利用数\n",
    "\n",
    "### Point\n",
    "- 入力変数の１つに含まれている「日付」。どう扱うかが重要な Point になる。\n",
    "\n",
    "### 実装方針\n",
    "目的変数が３つあるので3種類の Model を作ることも可能だが実装が煩雑になる為、目的変数を１つに絞り込むことにする。\n",
    "数が大きく全体への影響も大きな「登録 User 利用数」に絞り込んで実装を行なう、とす。\n",
    "\n",
    "### 予測結果の Business 活用案\n",
    "- 係員の配置数を変更することによる効率化\n",
    "- 見込み利用数が在庫を上回った場合の予備の自転車の配備\n",
    "\n",
    "どちらも予測が正確に立てられれば、System 化などは特に考えず人海戦術での対応が可能と思われる。"
   ],
   "metadata": {
    "collapsed": false,
    "pycharm": {
     "name": "#%% md\n"
    }
   }
  },
  {
   "cell_type": "code",
   "execution_count": null,
   "outputs": [],
   "source": [],
   "metadata": {
    "collapsed": false,
    "pycharm": {
     "name": "#%%\n"
    }
   }
  }
 ],
 "metadata": {
  "kernelspec": {
   "display_name": "Python 3",
   "language": "python",
   "name": "python3"
  },
  "language_info": {
   "codemirror_mode": {
    "name": "ipython",
    "version": 2
   },
   "file_extension": ".py",
   "mimetype": "text/x-python",
   "name": "python",
   "nbconvert_exporter": "python",
   "pygments_lexer": "ipython2",
   "version": "2.7.6"
  }
 },
 "nbformat": 4,
 "nbformat_minor": 0
}