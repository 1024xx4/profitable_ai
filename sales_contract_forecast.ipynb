{
 "cells": [
  {
   "cell_type": "code",
   "execution_count": 1,
   "outputs": [],
   "source": [
    "# 共通事前処理\n",
    "\n",
    "# 余分な Warning を非常にする\n",
    "import warnings\n",
    "\n",
    "warnings.filterwarnings('ignore')\n",
    "\n",
    "# Library の import\n",
    "import pandas as pd\n",
    "import numpy as np\n",
    "import matplotlib.pyplot as plt\n",
    "\n",
    "# Originals\n",
    "from sklearn.model_selection import train_test_split\n",
    "from sklearn.linear_model import LogisticRegression\n",
    "from sklearn.tree import DecisionTreeClassifier\n",
    "from sklearn.ensemble import RandomForestClassifier\n",
    "from xgboost import XGBClassifier\n",
    "from sklearn.model_selection import StratifiedKFold\n",
    "from sklearn.model_selection import cross_val_score\n",
    "from sklearn.metrics import confusion_matrix\n",
    "from sklearn.metrics import precision_recall_fscore_support\n",
    "import seaborn as sns\n",
    "\n",
    "# matplotlib 日本語化対応\n",
    "import japanize_matplotlib\n",
    "\n",
    "# DataFrame 表示用関数\n",
    "from IPython.display import display\n",
    "\n",
    "# 表示 Option の調整\n",
    "# NumPy の浮動小数点の表示精度\n",
    "np.set_printoptions(suppress=True, precision=4)\n",
    "# pandas での浮動小数点の表示精度\n",
    "pd.options.display.float_format = '{:.4f}'.format\n",
    "# DataFrame ですべての項目を表示\n",
    "pd.set_option('display.max_columns', None)\n",
    "# Graph の Default Font 指定\n",
    "plt.rcParams['font.size'] = 14\n",
    "# 乱数の種\n",
    "random_seed = 123"
   ],
   "metadata": {
    "collapsed": false,
    "pycharm": {
     "name": "#%%\n"
    }
   }
  },
  {
   "cell_type": "markdown",
   "source": [
    "# 営業成約予測（分類） Model"
   ],
   "metadata": {
    "collapsed": false
   }
  },
  {
   "cell_type": "markdown",
   "source": [
    "## Data の読み込みから Data の確認まで"
   ],
   "metadata": {
    "collapsed": false
   }
  },
  {
   "cell_type": "markdown",
   "source": [
    "### Data 読み込み"
   ],
   "metadata": {
    "collapsed": false
   }
  },
  {
   "cell_type": "markdown",
   "source": [
    "#### 公開 DataSet を DataFrame に読み込み"
   ],
   "metadata": {
    "collapsed": false,
    "pycharm": {
     "name": "#%% md\n"
    }
   }
  },
  {
   "cell_type": "code",
   "execution_count": 2,
   "outputs": [],
   "source": [
    "# 公開 Data の Download と解凍\n",
    "# !wget https://archive.ics.uci.edu/ml/machine-learning-databases/00222/bank.zip -O bank.zip | tail -n 1\n",
    "# !unzip -o bank.zip | tail -n 1"
   ],
   "metadata": {
    "collapsed": false,
    "pycharm": {
     "name": "#%%\n"
    }
   }
  },
  {
   "cell_type": "code",
   "execution_count": 2,
   "outputs": [],
   "source": [
    "# bank-full.csv を DataFrame に読み込み\n",
    "df_all = pd.read_csv('bank-full.csv', sep=';') # 項目の区切り文字が Comma ではなく SemiCoron になっている為 `sep=';'` で区切り文字を指定。"
   ],
   "metadata": {
    "collapsed": false,
    "pycharm": {
     "name": "#%%\n"
    }
   }
  },
  {
   "cell_type": "code",
   "execution_count": 3,
   "outputs": [],
   "source": [
    "# 項目名を日本語に置き換える\n",
    "columns = ['年齢', '職業', '婚姻', '学歴', '債務不履行', '平均残高', '住宅_Loan', '個人_Loan', '連絡手段', '最終通話日', '最終通話月', '最終通話秒数', '通話回数_販促中', '前回販促後_経過日数', '通話回数_販促前', '前回販促結果', '今回販促結果']\n",
    "\n",
    "df_all.columns = columns"
   ],
   "metadata": {
    "collapsed": false,
    "pycharm": {
     "name": "#%%\n"
    }
   }
  },
  {
   "cell_type": "markdown",
   "source": [
    "#### DataFrame の内容確認"
   ],
   "metadata": {
    "collapsed": false,
    "pycharm": {
     "name": "#%% md\n"
    }
   }
  },
  {
   "cell_type": "code",
   "execution_count": 4,
   "outputs": [
    {
     "data": {
      "text/plain": "   年齢            職業       婚姻         学歴 債務不履行  平均残高 住宅_Loan 個人_Loan     連絡手段  \\\n0  58    management  married   tertiary    no  2143     yes      no  unknown   \n1  44    technician   single  secondary    no    29     yes      no  unknown   \n2  33  entrepreneur  married  secondary    no     2     yes     yes  unknown   \n3  47   blue-collar  married    unknown    no  1506     yes      no  unknown   \n4  33       unknown   single    unknown    no     1      no      no  unknown   \n\n   最終通話日 最終通話月  最終通話秒数  通話回数_販促中  前回販促後_経過日数  通話回数_販促前   前回販促結果 今回販促結果  \n0      5   may     261         1          -1         0  unknown     no  \n1      5   may     151         1          -1         0  unknown     no  \n2      5   may      76         1          -1         0  unknown     no  \n3      5   may      92         1          -1         0  unknown     no  \n4      5   may     198         1          -1         0  unknown     no  ",
      "text/html": "<div>\n<style scoped>\n    .dataframe tbody tr th:only-of-type {\n        vertical-align: middle;\n    }\n\n    .dataframe tbody tr th {\n        vertical-align: top;\n    }\n\n    .dataframe thead th {\n        text-align: right;\n    }\n</style>\n<table border=\"1\" class=\"dataframe\">\n  <thead>\n    <tr style=\"text-align: right;\">\n      <th></th>\n      <th>年齢</th>\n      <th>職業</th>\n      <th>婚姻</th>\n      <th>学歴</th>\n      <th>債務不履行</th>\n      <th>平均残高</th>\n      <th>住宅_Loan</th>\n      <th>個人_Loan</th>\n      <th>連絡手段</th>\n      <th>最終通話日</th>\n      <th>最終通話月</th>\n      <th>最終通話秒数</th>\n      <th>通話回数_販促中</th>\n      <th>前回販促後_経過日数</th>\n      <th>通話回数_販促前</th>\n      <th>前回販促結果</th>\n      <th>今回販促結果</th>\n    </tr>\n  </thead>\n  <tbody>\n    <tr>\n      <th>0</th>\n      <td>58</td>\n      <td>management</td>\n      <td>married</td>\n      <td>tertiary</td>\n      <td>no</td>\n      <td>2143</td>\n      <td>yes</td>\n      <td>no</td>\n      <td>unknown</td>\n      <td>5</td>\n      <td>may</td>\n      <td>261</td>\n      <td>1</td>\n      <td>-1</td>\n      <td>0</td>\n      <td>unknown</td>\n      <td>no</td>\n    </tr>\n    <tr>\n      <th>1</th>\n      <td>44</td>\n      <td>technician</td>\n      <td>single</td>\n      <td>secondary</td>\n      <td>no</td>\n      <td>29</td>\n      <td>yes</td>\n      <td>no</td>\n      <td>unknown</td>\n      <td>5</td>\n      <td>may</td>\n      <td>151</td>\n      <td>1</td>\n      <td>-1</td>\n      <td>0</td>\n      <td>unknown</td>\n      <td>no</td>\n    </tr>\n    <tr>\n      <th>2</th>\n      <td>33</td>\n      <td>entrepreneur</td>\n      <td>married</td>\n      <td>secondary</td>\n      <td>no</td>\n      <td>2</td>\n      <td>yes</td>\n      <td>yes</td>\n      <td>unknown</td>\n      <td>5</td>\n      <td>may</td>\n      <td>76</td>\n      <td>1</td>\n      <td>-1</td>\n      <td>0</td>\n      <td>unknown</td>\n      <td>no</td>\n    </tr>\n    <tr>\n      <th>3</th>\n      <td>47</td>\n      <td>blue-collar</td>\n      <td>married</td>\n      <td>unknown</td>\n      <td>no</td>\n      <td>1506</td>\n      <td>yes</td>\n      <td>no</td>\n      <td>unknown</td>\n      <td>5</td>\n      <td>may</td>\n      <td>92</td>\n      <td>1</td>\n      <td>-1</td>\n      <td>0</td>\n      <td>unknown</td>\n      <td>no</td>\n    </tr>\n    <tr>\n      <th>4</th>\n      <td>33</td>\n      <td>unknown</td>\n      <td>single</td>\n      <td>unknown</td>\n      <td>no</td>\n      <td>1</td>\n      <td>no</td>\n      <td>no</td>\n      <td>unknown</td>\n      <td>5</td>\n      <td>may</td>\n      <td>198</td>\n      <td>1</td>\n      <td>-1</td>\n      <td>0</td>\n      <td>unknown</td>\n      <td>no</td>\n    </tr>\n  </tbody>\n</table>\n</div>"
     },
     "metadata": {},
     "output_type": "display_data"
    }
   ],
   "source": [
    "display(df_all.head())"
   ],
   "metadata": {
    "collapsed": false,
    "pycharm": {
     "name": "#%%\n"
    }
   }
  },
  {
   "cell_type": "markdown",
   "source": [
    "かなりの項目値が Text Data になっている。\n",
    "機械学習 Model に入力できるような項目値が数値だけからなる Data に変換していく。"
   ],
   "metadata": {
    "collapsed": false,
    "pycharm": {
     "name": "#%% md\n"
    }
   }
  },
  {
   "cell_type": "markdown",
   "source": [
    "#### Data の確認"
   ],
   "metadata": {
    "collapsed": false,
    "pycharm": {
     "name": "#%% md\n"
    }
   }
  },
  {
   "cell_type": "code",
   "execution_count": 5,
   "outputs": [
    {
     "name": "stdout",
     "output_type": "stream",
     "text": [
      "(45211, 17)\n",
      "\n",
      "no     39922\n",
      "yes     5289\n",
      "Name: 今回販促結果, dtype: int64\n",
      "\n",
      "営業成功率: 0.1170\n"
     ]
    }
   ],
   "source": [
    "# 学習 Data の件数と項目数確認\n",
    "print(df_all.shape)\n",
    "print()\n",
    "\n",
    "# 「今回販促結果」の値の分布確認\n",
    "print(df_all['今回販促結果'].value_counts())\n",
    "print()\n",
    "\n",
    "# 営業成功率\n",
    "rate = df_all['今回販促結果'].value_counts()['yes']/len(df_all)\n",
    "print(f'営業成功率: {rate:.4f}')"
   ],
   "metadata": {
    "collapsed": false,
    "pycharm": {
     "name": "#%%\n"
    }
   }
  },
  {
   "cell_type": "markdown",
   "source": [
    "#### 欠損値の確認"
   ],
   "metadata": {
    "collapsed": false,
    "pycharm": {
     "name": "#%% md\n"
    }
   }
  },
  {
   "cell_type": "code",
   "execution_count": 6,
   "outputs": [
    {
     "name": "stdout",
     "output_type": "stream",
     "text": [
      "年齢            0\n",
      "職業            0\n",
      "婚姻            0\n",
      "学歴            0\n",
      "債務不履行         0\n",
      "平均残高          0\n",
      "住宅_Loan       0\n",
      "個人_Loan       0\n",
      "連絡手段          0\n",
      "最終通話日         0\n",
      "最終通話月         0\n",
      "最終通話秒数        0\n",
      "通話回数_販促中      0\n",
      "前回販促後_経過日数    0\n",
      "通話回数_販促前      0\n",
      "前回販促結果        0\n",
      "今回販促結果        0\n",
      "dtype: int64\n"
     ]
    }
   ],
   "source": [
    "# 欠損値の確認\n",
    "print(df_all.isnull().sum())"
   ],
   "metadata": {
    "collapsed": false,
    "pycharm": {
     "name": "#%%\n"
    }
   }
  },
  {
   "cell_type": "markdown",
   "source": [
    "欠損値は一切なく、対応不要。"
   ],
   "metadata": {
    "collapsed": false,
    "pycharm": {
     "name": "#%% md\n"
    }
   }
  },
  {
   "cell_type": "markdown",
   "source": [
    "## Data 前処理と Data 分割"
   ],
   "metadata": {
    "collapsed": false,
    "pycharm": {
     "name": "#%% md\n"
    }
   }
  },
  {
   "cell_type": "markdown",
   "source": [
    "### Data 前処理"
   ],
   "metadata": {
    "collapsed": false,
    "pycharm": {
     "name": "#%% md\n"
    }
   }
  },
  {
   "cell_type": "markdown",
   "source": [
    "#### 前処理 Step 1\n",
    "Text の Label を持つ項目を One-Hot encoding する。\n",
    "enc関数を利用して処理を進める。"
   ],
   "metadata": {
    "collapsed": false,
    "pycharm": {
     "name": "#%% md\n"
    }
   }
  },
  {
   "cell_type": "code",
   "execution_count": 7,
   "outputs": [
    {
     "data": {
      "text/plain": "   年齢 債務不履行  平均残高 住宅_Loan 個人_Loan  最終通話日 最終通話月  最終通話秒数  通話回数_販促中  前回販促後_経過日数  \\\n0  58    no  2143     yes      no      5   may     261         1          -1   \n1  44    no    29     yes      no      5   may     151         1          -1   \n2  33    no     2     yes     yes      5   may      76         1          -1   \n3  47    no  1506     yes      no      5   may      92         1          -1   \n4  33    no     1      no      no      5   may     198         1          -1   \n\n   通話回数_販促前 今回販促結果  職業_admin.  職業_blue-collar  職業_entrepreneur  職業_housemaid  \\\n0         0     no          0               0                0             0   \n1         0     no          0               0                0             0   \n2         0     no          0               0                1             0   \n3         0     no          0               1                0             0   \n4         0     no          0               0                0             0   \n\n   職業_management  職業_retired  職業_self-employed  職業_services  職業_student  \\\n0              1           0                 0            0           0   \n1              0           0                 0            0           0   \n2              0           0                 0            0           0   \n3              0           0                 0            0           0   \n4              0           0                 0            0           0   \n\n   職業_technician  職業_unemployed  職業_unknown  婚姻_divorced  婚姻_married  \\\n0              0              0           0            0           1   \n1              1              0           0            0           0   \n2              0              0           0            0           1   \n3              0              0           0            0           1   \n4              0              0           1            0           0   \n\n   婚姻_single  学歴_primary  学歴_secondary  学歴_tertiary  学歴_unknown  \\\n0          0           0             0            1           0   \n1          1           0             1            0           0   \n2          0           0             1            0           0   \n3          0           0             0            0           1   \n4          1           0             0            0           1   \n\n   連絡手段_cellular  連絡手段_telephone  連絡手段_unknown  前回販促結果_failure  前回販促結果_other  \\\n0              0               0             1               0             0   \n1              0               0             1               0             0   \n2              0               0             1               0             0   \n3              0               0             1               0             0   \n4              0               0             1               0             0   \n\n   前回販促結果_success  前回販促結果_unknown  \n0               0               1  \n1               0               1  \n2               0               1  \n3               0               1  \n4               0               1  ",
      "text/html": "<div>\n<style scoped>\n    .dataframe tbody tr th:only-of-type {\n        vertical-align: middle;\n    }\n\n    .dataframe tbody tr th {\n        vertical-align: top;\n    }\n\n    .dataframe thead th {\n        text-align: right;\n    }\n</style>\n<table border=\"1\" class=\"dataframe\">\n  <thead>\n    <tr style=\"text-align: right;\">\n      <th></th>\n      <th>年齢</th>\n      <th>債務不履行</th>\n      <th>平均残高</th>\n      <th>住宅_Loan</th>\n      <th>個人_Loan</th>\n      <th>最終通話日</th>\n      <th>最終通話月</th>\n      <th>最終通話秒数</th>\n      <th>通話回数_販促中</th>\n      <th>前回販促後_経過日数</th>\n      <th>通話回数_販促前</th>\n      <th>今回販促結果</th>\n      <th>職業_admin.</th>\n      <th>職業_blue-collar</th>\n      <th>職業_entrepreneur</th>\n      <th>職業_housemaid</th>\n      <th>職業_management</th>\n      <th>職業_retired</th>\n      <th>職業_self-employed</th>\n      <th>職業_services</th>\n      <th>職業_student</th>\n      <th>職業_technician</th>\n      <th>職業_unemployed</th>\n      <th>職業_unknown</th>\n      <th>婚姻_divorced</th>\n      <th>婚姻_married</th>\n      <th>婚姻_single</th>\n      <th>学歴_primary</th>\n      <th>学歴_secondary</th>\n      <th>学歴_tertiary</th>\n      <th>学歴_unknown</th>\n      <th>連絡手段_cellular</th>\n      <th>連絡手段_telephone</th>\n      <th>連絡手段_unknown</th>\n      <th>前回販促結果_failure</th>\n      <th>前回販促結果_other</th>\n      <th>前回販促結果_success</th>\n      <th>前回販促結果_unknown</th>\n    </tr>\n  </thead>\n  <tbody>\n    <tr>\n      <th>0</th>\n      <td>58</td>\n      <td>no</td>\n      <td>2143</td>\n      <td>yes</td>\n      <td>no</td>\n      <td>5</td>\n      <td>may</td>\n      <td>261</td>\n      <td>1</td>\n      <td>-1</td>\n      <td>0</td>\n      <td>no</td>\n      <td>0</td>\n      <td>0</td>\n      <td>0</td>\n      <td>0</td>\n      <td>1</td>\n      <td>0</td>\n      <td>0</td>\n      <td>0</td>\n      <td>0</td>\n      <td>0</td>\n      <td>0</td>\n      <td>0</td>\n      <td>0</td>\n      <td>1</td>\n      <td>0</td>\n      <td>0</td>\n      <td>0</td>\n      <td>1</td>\n      <td>0</td>\n      <td>0</td>\n      <td>0</td>\n      <td>1</td>\n      <td>0</td>\n      <td>0</td>\n      <td>0</td>\n      <td>1</td>\n    </tr>\n    <tr>\n      <th>1</th>\n      <td>44</td>\n      <td>no</td>\n      <td>29</td>\n      <td>yes</td>\n      <td>no</td>\n      <td>5</td>\n      <td>may</td>\n      <td>151</td>\n      <td>1</td>\n      <td>-1</td>\n      <td>0</td>\n      <td>no</td>\n      <td>0</td>\n      <td>0</td>\n      <td>0</td>\n      <td>0</td>\n      <td>0</td>\n      <td>0</td>\n      <td>0</td>\n      <td>0</td>\n      <td>0</td>\n      <td>1</td>\n      <td>0</td>\n      <td>0</td>\n      <td>0</td>\n      <td>0</td>\n      <td>1</td>\n      <td>0</td>\n      <td>1</td>\n      <td>0</td>\n      <td>0</td>\n      <td>0</td>\n      <td>0</td>\n      <td>1</td>\n      <td>0</td>\n      <td>0</td>\n      <td>0</td>\n      <td>1</td>\n    </tr>\n    <tr>\n      <th>2</th>\n      <td>33</td>\n      <td>no</td>\n      <td>2</td>\n      <td>yes</td>\n      <td>yes</td>\n      <td>5</td>\n      <td>may</td>\n      <td>76</td>\n      <td>1</td>\n      <td>-1</td>\n      <td>0</td>\n      <td>no</td>\n      <td>0</td>\n      <td>0</td>\n      <td>1</td>\n      <td>0</td>\n      <td>0</td>\n      <td>0</td>\n      <td>0</td>\n      <td>0</td>\n      <td>0</td>\n      <td>0</td>\n      <td>0</td>\n      <td>0</td>\n      <td>0</td>\n      <td>1</td>\n      <td>0</td>\n      <td>0</td>\n      <td>1</td>\n      <td>0</td>\n      <td>0</td>\n      <td>0</td>\n      <td>0</td>\n      <td>1</td>\n      <td>0</td>\n      <td>0</td>\n      <td>0</td>\n      <td>1</td>\n    </tr>\n    <tr>\n      <th>3</th>\n      <td>47</td>\n      <td>no</td>\n      <td>1506</td>\n      <td>yes</td>\n      <td>no</td>\n      <td>5</td>\n      <td>may</td>\n      <td>92</td>\n      <td>1</td>\n      <td>-1</td>\n      <td>0</td>\n      <td>no</td>\n      <td>0</td>\n      <td>1</td>\n      <td>0</td>\n      <td>0</td>\n      <td>0</td>\n      <td>0</td>\n      <td>0</td>\n      <td>0</td>\n      <td>0</td>\n      <td>0</td>\n      <td>0</td>\n      <td>0</td>\n      <td>0</td>\n      <td>1</td>\n      <td>0</td>\n      <td>0</td>\n      <td>0</td>\n      <td>0</td>\n      <td>1</td>\n      <td>0</td>\n      <td>0</td>\n      <td>1</td>\n      <td>0</td>\n      <td>0</td>\n      <td>0</td>\n      <td>1</td>\n    </tr>\n    <tr>\n      <th>4</th>\n      <td>33</td>\n      <td>no</td>\n      <td>1</td>\n      <td>no</td>\n      <td>no</td>\n      <td>5</td>\n      <td>may</td>\n      <td>198</td>\n      <td>1</td>\n      <td>-1</td>\n      <td>0</td>\n      <td>no</td>\n      <td>0</td>\n      <td>0</td>\n      <td>0</td>\n      <td>0</td>\n      <td>0</td>\n      <td>0</td>\n      <td>0</td>\n      <td>0</td>\n      <td>0</td>\n      <td>0</td>\n      <td>0</td>\n      <td>1</td>\n      <td>0</td>\n      <td>0</td>\n      <td>1</td>\n      <td>0</td>\n      <td>0</td>\n      <td>0</td>\n      <td>1</td>\n      <td>0</td>\n      <td>0</td>\n      <td>1</td>\n      <td>0</td>\n      <td>0</td>\n      <td>0</td>\n      <td>1</td>\n    </tr>\n  </tbody>\n</table>\n</div>"
     },
     "execution_count": 7,
     "metadata": {},
     "output_type": "execute_result"
    }
   ],
   "source": [
    "# get_dummies 関数で Category 値を One-Hot encoding\n",
    "\n",
    "# 項目を One-Hot encoding するための関数\n",
    "def enc(df, column):\n",
    "    df_dummy = pd.get_dummies(df[column], prefix=column)\n",
    "    df = pd.concat([df.drop([column], axis=1), df_dummy], axis=1)\n",
    "    return df\n",
    "\n",
    "\n",
    "df_all2 = df_all.copy()\n",
    "columns = ['職業', '婚姻', '学歴', '連絡手段', '前回販促結果']\n",
    "for col in columns:\n",
    "    df_all2 = enc(df_all2, col)\n",
    "\n",
    "# 結果確認\n",
    "df_all2.head()"
   ],
   "metadata": {
    "collapsed": false,
    "pycharm": {
     "name": "#%%\n"
    }
   }
  },
  {
   "cell_type": "markdown",
   "source": [
    "One-Hot encoding した項目は、元の項目ごとに新しい項目ができ、値が１か０を取るようになっている。"
   ],
   "metadata": {
    "collapsed": false,
    "pycharm": {
     "name": "#%% md\n"
    }
   }
  },
  {
   "cell_type": "markdown",
   "source": [
    "#### 前処理 Step 2"
   ],
   "metadata": {
    "collapsed": false,
    "pycharm": {
     "name": "#%% md\n"
    }
   }
  },
  {
   "cell_type": "code",
   "execution_count": 8,
   "outputs": [
    {
     "data": {
      "text/plain": "   年齢  債務不履行  平均残高  住宅_Loan  個人_Loan  最終通話日 最終通話月  最終通話秒数  通話回数_販促中  \\\n0  58      0  2143        1        0      5   may     261         1   \n1  44      0    29        1        0      5   may     151         1   \n2  33      0     2        1        1      5   may      76         1   \n3  47      0  1506        1        0      5   may      92         1   \n4  33      0     1        0        0      5   may     198         1   \n\n   前回販促後_経過日数  通話回数_販促前  今回販促結果  職業_admin.  職業_blue-collar  職業_entrepreneur  \\\n0          -1         0       0          0               0                0   \n1          -1         0       0          0               0                0   \n2          -1         0       0          0               0                1   \n3          -1         0       0          0               1                0   \n4          -1         0       0          0               0                0   \n\n   職業_housemaid  職業_management  職業_retired  職業_self-employed  職業_services  \\\n0             0              1           0                 0            0   \n1             0              0           0                 0            0   \n2             0              0           0                 0            0   \n3             0              0           0                 0            0   \n4             0              0           0                 0            0   \n\n   職業_student  職業_technician  職業_unemployed  職業_unknown  婚姻_divorced  \\\n0           0              0              0           0            0   \n1           0              1              0           0            0   \n2           0              0              0           0            0   \n3           0              0              0           0            0   \n4           0              0              0           1            0   \n\n   婚姻_married  婚姻_single  学歴_primary  学歴_secondary  学歴_tertiary  学歴_unknown  \\\n0           1          0           0             0            1           0   \n1           0          1           0             1            0           0   \n2           1          0           0             1            0           0   \n3           1          0           0             0            0           1   \n4           0          1           0             0            0           1   \n\n   連絡手段_cellular  連絡手段_telephone  連絡手段_unknown  前回販促結果_failure  前回販促結果_other  \\\n0              0               0             1               0             0   \n1              0               0             1               0             0   \n2              0               0             1               0             0   \n3              0               0             1               0             0   \n4              0               0             1               0             0   \n\n   前回販促結果_success  前回販促結果_unknown  \n0               0               1  \n1               0               1  \n2               0               1  \n3               0               1  \n4               0               1  ",
      "text/html": "<div>\n<style scoped>\n    .dataframe tbody tr th:only-of-type {\n        vertical-align: middle;\n    }\n\n    .dataframe tbody tr th {\n        vertical-align: top;\n    }\n\n    .dataframe thead th {\n        text-align: right;\n    }\n</style>\n<table border=\"1\" class=\"dataframe\">\n  <thead>\n    <tr style=\"text-align: right;\">\n      <th></th>\n      <th>年齢</th>\n      <th>債務不履行</th>\n      <th>平均残高</th>\n      <th>住宅_Loan</th>\n      <th>個人_Loan</th>\n      <th>最終通話日</th>\n      <th>最終通話月</th>\n      <th>最終通話秒数</th>\n      <th>通話回数_販促中</th>\n      <th>前回販促後_経過日数</th>\n      <th>通話回数_販促前</th>\n      <th>今回販促結果</th>\n      <th>職業_admin.</th>\n      <th>職業_blue-collar</th>\n      <th>職業_entrepreneur</th>\n      <th>職業_housemaid</th>\n      <th>職業_management</th>\n      <th>職業_retired</th>\n      <th>職業_self-employed</th>\n      <th>職業_services</th>\n      <th>職業_student</th>\n      <th>職業_technician</th>\n      <th>職業_unemployed</th>\n      <th>職業_unknown</th>\n      <th>婚姻_divorced</th>\n      <th>婚姻_married</th>\n      <th>婚姻_single</th>\n      <th>学歴_primary</th>\n      <th>学歴_secondary</th>\n      <th>学歴_tertiary</th>\n      <th>学歴_unknown</th>\n      <th>連絡手段_cellular</th>\n      <th>連絡手段_telephone</th>\n      <th>連絡手段_unknown</th>\n      <th>前回販促結果_failure</th>\n      <th>前回販促結果_other</th>\n      <th>前回販促結果_success</th>\n      <th>前回販促結果_unknown</th>\n    </tr>\n  </thead>\n  <tbody>\n    <tr>\n      <th>0</th>\n      <td>58</td>\n      <td>0</td>\n      <td>2143</td>\n      <td>1</td>\n      <td>0</td>\n      <td>5</td>\n      <td>may</td>\n      <td>261</td>\n      <td>1</td>\n      <td>-1</td>\n      <td>0</td>\n      <td>0</td>\n      <td>0</td>\n      <td>0</td>\n      <td>0</td>\n      <td>0</td>\n      <td>1</td>\n      <td>0</td>\n      <td>0</td>\n      <td>0</td>\n      <td>0</td>\n      <td>0</td>\n      <td>0</td>\n      <td>0</td>\n      <td>0</td>\n      <td>1</td>\n      <td>0</td>\n      <td>0</td>\n      <td>0</td>\n      <td>1</td>\n      <td>0</td>\n      <td>0</td>\n      <td>0</td>\n      <td>1</td>\n      <td>0</td>\n      <td>0</td>\n      <td>0</td>\n      <td>1</td>\n    </tr>\n    <tr>\n      <th>1</th>\n      <td>44</td>\n      <td>0</td>\n      <td>29</td>\n      <td>1</td>\n      <td>0</td>\n      <td>5</td>\n      <td>may</td>\n      <td>151</td>\n      <td>1</td>\n      <td>-1</td>\n      <td>0</td>\n      <td>0</td>\n      <td>0</td>\n      <td>0</td>\n      <td>0</td>\n      <td>0</td>\n      <td>0</td>\n      <td>0</td>\n      <td>0</td>\n      <td>0</td>\n      <td>0</td>\n      <td>1</td>\n      <td>0</td>\n      <td>0</td>\n      <td>0</td>\n      <td>0</td>\n      <td>1</td>\n      <td>0</td>\n      <td>1</td>\n      <td>0</td>\n      <td>0</td>\n      <td>0</td>\n      <td>0</td>\n      <td>1</td>\n      <td>0</td>\n      <td>0</td>\n      <td>0</td>\n      <td>1</td>\n    </tr>\n    <tr>\n      <th>2</th>\n      <td>33</td>\n      <td>0</td>\n      <td>2</td>\n      <td>1</td>\n      <td>1</td>\n      <td>5</td>\n      <td>may</td>\n      <td>76</td>\n      <td>1</td>\n      <td>-1</td>\n      <td>0</td>\n      <td>0</td>\n      <td>0</td>\n      <td>0</td>\n      <td>1</td>\n      <td>0</td>\n      <td>0</td>\n      <td>0</td>\n      <td>0</td>\n      <td>0</td>\n      <td>0</td>\n      <td>0</td>\n      <td>0</td>\n      <td>0</td>\n      <td>0</td>\n      <td>1</td>\n      <td>0</td>\n      <td>0</td>\n      <td>1</td>\n      <td>0</td>\n      <td>0</td>\n      <td>0</td>\n      <td>0</td>\n      <td>1</td>\n      <td>0</td>\n      <td>0</td>\n      <td>0</td>\n      <td>1</td>\n    </tr>\n    <tr>\n      <th>3</th>\n      <td>47</td>\n      <td>0</td>\n      <td>1506</td>\n      <td>1</td>\n      <td>0</td>\n      <td>5</td>\n      <td>may</td>\n      <td>92</td>\n      <td>1</td>\n      <td>-1</td>\n      <td>0</td>\n      <td>0</td>\n      <td>0</td>\n      <td>1</td>\n      <td>0</td>\n      <td>0</td>\n      <td>0</td>\n      <td>0</td>\n      <td>0</td>\n      <td>0</td>\n      <td>0</td>\n      <td>0</td>\n      <td>0</td>\n      <td>0</td>\n      <td>0</td>\n      <td>1</td>\n      <td>0</td>\n      <td>0</td>\n      <td>0</td>\n      <td>0</td>\n      <td>1</td>\n      <td>0</td>\n      <td>0</td>\n      <td>1</td>\n      <td>0</td>\n      <td>0</td>\n      <td>0</td>\n      <td>1</td>\n    </tr>\n    <tr>\n      <th>4</th>\n      <td>33</td>\n      <td>0</td>\n      <td>1</td>\n      <td>0</td>\n      <td>0</td>\n      <td>5</td>\n      <td>may</td>\n      <td>198</td>\n      <td>1</td>\n      <td>-1</td>\n      <td>0</td>\n      <td>0</td>\n      <td>0</td>\n      <td>0</td>\n      <td>0</td>\n      <td>0</td>\n      <td>0</td>\n      <td>0</td>\n      <td>0</td>\n      <td>0</td>\n      <td>0</td>\n      <td>0</td>\n      <td>0</td>\n      <td>1</td>\n      <td>0</td>\n      <td>0</td>\n      <td>1</td>\n      <td>0</td>\n      <td>0</td>\n      <td>0</td>\n      <td>1</td>\n      <td>0</td>\n      <td>0</td>\n      <td>1</td>\n      <td>0</td>\n      <td>0</td>\n      <td>0</td>\n      <td>1</td>\n    </tr>\n  </tbody>\n</table>\n</div>"
     },
     "execution_count": 8,
     "metadata": {},
     "output_type": "execute_result"
    }
   ],
   "source": [
    "# yes/no を 1/0 に置換\n",
    "\n",
    "# ２値(yes/no)の値を（1/0)に置換する関数\n",
    "def enc_bin(df, column):\n",
    "    df[column] = df[column].map(dict(yes=1, no=0))\n",
    "    return df\n",
    "\n",
    "columns = ['債務不履行', '住宅_Loan', '個人_Loan', '今回販促結果']\n",
    "for col in columns:\n",
    "    df_all2 = enc_bin(df_all2, col)\n",
    "\n",
    "# 結果確認\n",
    "df_all2.head()"
   ],
   "metadata": {
    "collapsed": false,
    "pycharm": {
     "name": "#%%\n"
    }
   }
  },
  {
   "cell_type": "markdown",
   "source": [
    "#### 前処理 Step 3"
   ],
   "metadata": {
    "collapsed": false,
    "pycharm": {
     "name": "#%% md\n"
    }
   }
  },
  {
   "cell_type": "markdown",
   "source": [
    "最終通話月も One-Hot encoding すべきだが項目数が12個、増えてしまう。\n",
    "月の間の数字は連続性で表現できるので数値１項目で表現する"
   ],
   "metadata": {
    "collapsed": false,
    "pycharm": {
     "name": "#%% md\n"
    }
   }
  },
  {
   "cell_type": "code",
   "execution_count": 9,
   "outputs": [
    {
     "data": {
      "text/plain": "   年齢  債務不履行  平均残高  住宅_Loan  個人_Loan  最終通話日  最終通話月  最終通話秒数  通話回数_販促中  \\\n0  58      0  2143        1        0      5      5     261         1   \n1  44      0    29        1        0      5      5     151         1   \n2  33      0     2        1        1      5      5      76         1   \n3  47      0  1506        1        0      5      5      92         1   \n4  33      0     1        0        0      5      5     198         1   \n\n   前回販促後_経過日数  通話回数_販促前  今回販促結果  職業_admin.  職業_blue-collar  職業_entrepreneur  \\\n0          -1         0       0          0               0                0   \n1          -1         0       0          0               0                0   \n2          -1         0       0          0               0                1   \n3          -1         0       0          0               1                0   \n4          -1         0       0          0               0                0   \n\n   職業_housemaid  職業_management  職業_retired  職業_self-employed  職業_services  \\\n0             0              1           0                 0            0   \n1             0              0           0                 0            0   \n2             0              0           0                 0            0   \n3             0              0           0                 0            0   \n4             0              0           0                 0            0   \n\n   職業_student  職業_technician  職業_unemployed  職業_unknown  婚姻_divorced  \\\n0           0              0              0           0            0   \n1           0              1              0           0            0   \n2           0              0              0           0            0   \n3           0              0              0           0            0   \n4           0              0              0           1            0   \n\n   婚姻_married  婚姻_single  学歴_primary  学歴_secondary  学歴_tertiary  学歴_unknown  \\\n0           1          0           0             0            1           0   \n1           0          1           0             1            0           0   \n2           1          0           0             1            0           0   \n3           1          0           0             0            0           1   \n4           0          1           0             0            0           1   \n\n   連絡手段_cellular  連絡手段_telephone  連絡手段_unknown  前回販促結果_failure  前回販促結果_other  \\\n0              0               0             1               0             0   \n1              0               0             1               0             0   \n2              0               0             1               0             0   \n3              0               0             1               0             0   \n4              0               0             1               0             0   \n\n   前回販促結果_success  前回販促結果_unknown  \n0               0               1  \n1               0               1  \n2               0               1  \n3               0               1  \n4               0               1  ",
      "text/html": "<div>\n<style scoped>\n    .dataframe tbody tr th:only-of-type {\n        vertical-align: middle;\n    }\n\n    .dataframe tbody tr th {\n        vertical-align: top;\n    }\n\n    .dataframe thead th {\n        text-align: right;\n    }\n</style>\n<table border=\"1\" class=\"dataframe\">\n  <thead>\n    <tr style=\"text-align: right;\">\n      <th></th>\n      <th>年齢</th>\n      <th>債務不履行</th>\n      <th>平均残高</th>\n      <th>住宅_Loan</th>\n      <th>個人_Loan</th>\n      <th>最終通話日</th>\n      <th>最終通話月</th>\n      <th>最終通話秒数</th>\n      <th>通話回数_販促中</th>\n      <th>前回販促後_経過日数</th>\n      <th>通話回数_販促前</th>\n      <th>今回販促結果</th>\n      <th>職業_admin.</th>\n      <th>職業_blue-collar</th>\n      <th>職業_entrepreneur</th>\n      <th>職業_housemaid</th>\n      <th>職業_management</th>\n      <th>職業_retired</th>\n      <th>職業_self-employed</th>\n      <th>職業_services</th>\n      <th>職業_student</th>\n      <th>職業_technician</th>\n      <th>職業_unemployed</th>\n      <th>職業_unknown</th>\n      <th>婚姻_divorced</th>\n      <th>婚姻_married</th>\n      <th>婚姻_single</th>\n      <th>学歴_primary</th>\n      <th>学歴_secondary</th>\n      <th>学歴_tertiary</th>\n      <th>学歴_unknown</th>\n      <th>連絡手段_cellular</th>\n      <th>連絡手段_telephone</th>\n      <th>連絡手段_unknown</th>\n      <th>前回販促結果_failure</th>\n      <th>前回販促結果_other</th>\n      <th>前回販促結果_success</th>\n      <th>前回販促結果_unknown</th>\n    </tr>\n  </thead>\n  <tbody>\n    <tr>\n      <th>0</th>\n      <td>58</td>\n      <td>0</td>\n      <td>2143</td>\n      <td>1</td>\n      <td>0</td>\n      <td>5</td>\n      <td>5</td>\n      <td>261</td>\n      <td>1</td>\n      <td>-1</td>\n      <td>0</td>\n      <td>0</td>\n      <td>0</td>\n      <td>0</td>\n      <td>0</td>\n      <td>0</td>\n      <td>1</td>\n      <td>0</td>\n      <td>0</td>\n      <td>0</td>\n      <td>0</td>\n      <td>0</td>\n      <td>0</td>\n      <td>0</td>\n      <td>0</td>\n      <td>1</td>\n      <td>0</td>\n      <td>0</td>\n      <td>0</td>\n      <td>1</td>\n      <td>0</td>\n      <td>0</td>\n      <td>0</td>\n      <td>1</td>\n      <td>0</td>\n      <td>0</td>\n      <td>0</td>\n      <td>1</td>\n    </tr>\n    <tr>\n      <th>1</th>\n      <td>44</td>\n      <td>0</td>\n      <td>29</td>\n      <td>1</td>\n      <td>0</td>\n      <td>5</td>\n      <td>5</td>\n      <td>151</td>\n      <td>1</td>\n      <td>-1</td>\n      <td>0</td>\n      <td>0</td>\n      <td>0</td>\n      <td>0</td>\n      <td>0</td>\n      <td>0</td>\n      <td>0</td>\n      <td>0</td>\n      <td>0</td>\n      <td>0</td>\n      <td>0</td>\n      <td>1</td>\n      <td>0</td>\n      <td>0</td>\n      <td>0</td>\n      <td>0</td>\n      <td>1</td>\n      <td>0</td>\n      <td>1</td>\n      <td>0</td>\n      <td>0</td>\n      <td>0</td>\n      <td>0</td>\n      <td>1</td>\n      <td>0</td>\n      <td>0</td>\n      <td>0</td>\n      <td>1</td>\n    </tr>\n    <tr>\n      <th>2</th>\n      <td>33</td>\n      <td>0</td>\n      <td>2</td>\n      <td>1</td>\n      <td>1</td>\n      <td>5</td>\n      <td>5</td>\n      <td>76</td>\n      <td>1</td>\n      <td>-1</td>\n      <td>0</td>\n      <td>0</td>\n      <td>0</td>\n      <td>0</td>\n      <td>1</td>\n      <td>0</td>\n      <td>0</td>\n      <td>0</td>\n      <td>0</td>\n      <td>0</td>\n      <td>0</td>\n      <td>0</td>\n      <td>0</td>\n      <td>0</td>\n      <td>0</td>\n      <td>1</td>\n      <td>0</td>\n      <td>0</td>\n      <td>1</td>\n      <td>0</td>\n      <td>0</td>\n      <td>0</td>\n      <td>0</td>\n      <td>1</td>\n      <td>0</td>\n      <td>0</td>\n      <td>0</td>\n      <td>1</td>\n    </tr>\n    <tr>\n      <th>3</th>\n      <td>47</td>\n      <td>0</td>\n      <td>1506</td>\n      <td>1</td>\n      <td>0</td>\n      <td>5</td>\n      <td>5</td>\n      <td>92</td>\n      <td>1</td>\n      <td>-1</td>\n      <td>0</td>\n      <td>0</td>\n      <td>0</td>\n      <td>1</td>\n      <td>0</td>\n      <td>0</td>\n      <td>0</td>\n      <td>0</td>\n      <td>0</td>\n      <td>0</td>\n      <td>0</td>\n      <td>0</td>\n      <td>0</td>\n      <td>0</td>\n      <td>0</td>\n      <td>1</td>\n      <td>0</td>\n      <td>0</td>\n      <td>0</td>\n      <td>0</td>\n      <td>1</td>\n      <td>0</td>\n      <td>0</td>\n      <td>1</td>\n      <td>0</td>\n      <td>0</td>\n      <td>0</td>\n      <td>1</td>\n    </tr>\n    <tr>\n      <th>4</th>\n      <td>33</td>\n      <td>0</td>\n      <td>1</td>\n      <td>0</td>\n      <td>0</td>\n      <td>5</td>\n      <td>5</td>\n      <td>198</td>\n      <td>1</td>\n      <td>-1</td>\n      <td>0</td>\n      <td>0</td>\n      <td>0</td>\n      <td>0</td>\n      <td>0</td>\n      <td>0</td>\n      <td>0</td>\n      <td>0</td>\n      <td>0</td>\n      <td>0</td>\n      <td>0</td>\n      <td>0</td>\n      <td>0</td>\n      <td>1</td>\n      <td>0</td>\n      <td>0</td>\n      <td>1</td>\n      <td>0</td>\n      <td>0</td>\n      <td>0</td>\n      <td>1</td>\n      <td>0</td>\n      <td>0</td>\n      <td>1</td>\n      <td>0</td>\n      <td>0</td>\n      <td>0</td>\n      <td>1</td>\n    </tr>\n  </tbody>\n</table>\n</div>"
     },
     "execution_count": 9,
     "metadata": {},
     "output_type": "execute_result"
    }
   ],
   "source": [
    "# 月（jan, feb...）を1, 2... に置換\n",
    "\n",
    "month_dict = dict(jan=1, feb=2, mar=3, apr=4, may=5, jun=6, jul=7, aug=8, sep=9, oct=10, nov=11, dec=12)\n",
    "\n",
    "def enc_month(df, column):\n",
    "    df[column] = df[column].map(month_dict)\n",
    "    return df\n",
    "\n",
    "df_all2 = enc_month(df_all2, '最終通話月')\n",
    "\n",
    "# 結果確認\n",
    "df_all2.head()"
   ],
   "metadata": {
    "collapsed": false,
    "pycharm": {
     "name": "#%%\n"
    }
   }
  },
  {
   "cell_type": "markdown",
   "source": [
    "すべての項目が数値に。＝機械学習 Model の入力 Data ができる形"
   ],
   "metadata": {
    "collapsed": false
   }
  },
  {
   "cell_type": "markdown",
   "source": [
    "### Data 分割"
   ],
   "metadata": {
    "collapsed": false,
    "pycharm": {
     "name": "#%% md\n"
    }
   }
  },
  {
   "cell_type": "code",
   "execution_count": 10,
   "outputs": [],
   "source": [
    "# 入力 Data と正解 Data の分割\n",
    "x = df_all2.drop('今回販促結果', axis=1)\n",
    "y = df_all2['今回販促結果'].values\n",
    "\n",
    "# 訓練 Data と検証 Data の分割\n",
    "# 訓練 Data 60% 検証 Data 40% の比率で分割する\n",
    "test_size = 0.4\n",
    "\n",
    "x_train, x_test, y_train, y_test = train_test_split(x, y, test_size=test_size, random_state=random_seed, stratify=y)"
   ],
   "metadata": {
    "collapsed": false,
    "pycharm": {
     "name": "#%%\n"
    }
   }
  },
  {
   "cell_type": "markdown",
   "source": [
    "## Algorithm 選択\n",
    "公差検定法を利用して最適な Alogrithm を調べていく。"
   ],
   "metadata": {
    "collapsed": false,
    "pycharm": {
     "name": "#%% md\n"
    }
   }
  },
  {
   "cell_type": "code",
   "execution_count": 11,
   "outputs": [],
   "source": [
    "# 候補 Algorithm の List 化\n",
    "\n",
    "# Logistic 回帰\n",
    "algorithm1 = LogisticRegression(random_state=random_seed)\n",
    "\n",
    "# 決定木\n",
    "algorithm2 = DecisionTreeClassifier(random_state=random_seed)\n",
    "\n",
    "# Random Forest\n",
    "algorithm3 = RandomForestClassifier(random_state=random_seed)\n",
    "\n",
    "# XGBoost\n",
    "algorithm4 = XGBClassifier(random_state=random_seed)\n",
    "\n",
    "algorithms = [algorithm1, algorithm2, algorithm3, algorithm4]"
   ],
   "metadata": {
    "collapsed": false,
    "pycharm": {
     "name": "#%%\n"
    }
   }
  },
  {
   "cell_type": "code",
   "execution_count": 12,
   "outputs": [
    {
     "name": "stdout",
     "output_type": "stream",
     "text": [
      "平均 Score: 0.8325 個別 Score: [0.8276 0.8287 0.8412] LogisticRegression\n",
      "平均 Score: 0.6958 個別 Score: [0.6917 0.7023 0.6935] DecisionTreeClassifier\n",
      "平均 Score: 0.9200 個別 Score: [0.9259 0.9196 0.9145] RandomForestClassifier\n",
      "[05:14:17] WARNING: ../src/learner.cc:1115: Starting in XGBoost 1.3.0, the default evaluation metric used with the objective 'binary:logistic' was changed from 'error' to 'logloss'. Explicitly set eval_metric if you'd like to restore the old behavior.\n",
      "[05:14:18] WARNING: ../src/learner.cc:1115: Starting in XGBoost 1.3.0, the default evaluation metric used with the objective 'binary:logistic' was changed from 'error' to 'logloss'. Explicitly set eval_metric if you'd like to restore the old behavior.\n",
      "[05:14:20] WARNING: ../src/learner.cc:1115: Starting in XGBoost 1.3.0, the default evaluation metric used with the objective 'binary:logistic' was changed from 'error' to 'logloss'. Explicitly set eval_metric if you'd like to restore the old behavior.\n",
      "平均 Score: 0.9256 個別 Score: [0.9263 0.9272 0.9234] XGBClassifier\n"
     ]
    }
   ],
   "source": [
    "# 公差検定法を用いて最適な Algorithm の選択\n",
    "stratifiedkfold = StratifiedKFold(n_splits=3)\n",
    "\n",
    "for algorithm in algorithms:\n",
    "    # 公差検定法の実行\n",
    "    scores = cross_val_score(algorithm, x_train, y_train, cv=stratifiedkfold, scoring='roc_auc')\n",
    "    score = scores.mean()\n",
    "    name = algorithm.__class__.__name__\n",
    "    print(f'平均 Score: {score:.4f} 個別 Score: {scores} {name}')"
   ],
   "metadata": {
    "collapsed": false,
    "pycharm": {
     "name": "#%%\n"
    }
   }
  },
  {
   "cell_type": "markdown",
   "source": [
    "※ 今回の Model では、正解 Data １と０の比率が Unbalance になっていて精度だけ見ても良い Algorithm が見つからない可能性があるため 「ROC AUC 値（ROC 曲線下の面積）」を使用。\n",
    "\n",
    "結果として「XGBoost」が１番良かった為、XGBoost を採用する。"
   ],
   "metadata": {
    "collapsed": false,
    "pycharm": {
     "name": "#%% md\n"
    }
   }
  },
  {
   "cell_type": "code",
   "execution_count": 13,
   "outputs": [
    {
     "name": "stdout",
     "output_type": "stream",
     "text": [
      "[05:14:28] WARNING: ../src/learner.cc:1115: Starting in XGBoost 1.3.0, the default evaluation metric used with the objective 'binary:logistic' was changed from 'error' to 'logloss'. Explicitly set eval_metric if you'd like to restore the old behavior.\n"
     ]
    }
   ],
   "source": [
    "# Algorithm 選択\n",
    "# XGBoost を利用\n",
    "algorithm = XGBClassifier(random_state=random_seed)\n",
    "\n",
    "# 学習\n",
    "algorithm.fit(x_train, y_train)\n",
    "\n",
    "# 予測\n",
    "y_pred = algorithm.predict(x_test)"
   ],
   "metadata": {
    "collapsed": false,
    "pycharm": {
     "name": "#%%\n"
    }
   }
  },
  {
   "cell_type": "markdown",
   "source": [
    "y の予測結果 `y_pred` を使って Model を評価する\n",
    "- 混合行列\n",
    "- 適合率\n",
    "- 再現率\n",
    "- Ｆ値\n",
    "\n",
    "を表示する"
   ],
   "metadata": {
    "collapsed": false,
    "pycharm": {
     "name": "#%% md\n"
    }
   }
  },
  {
   "cell_type": "code",
   "execution_count": 14,
   "outputs": [],
   "source": [
    "# 混同行列表示関数\n",
    "def make_cm(matrix, columns):\n",
    "    # matrix numpy 配列\n",
    "\n",
    "    # columns 項目名 List\n",
    "    n = len(columns)\n",
    "\n",
    "    # 正解 Data を ｎ回繰り返す List 生成\n",
    "    act = ['正解 Data'] * n\n",
    "    pred = ['予測結果'] * n\n",
    "\n",
    "    # DataFrame 生成\n",
    "    cm = pd.DataFrame(matrix, columns=[pred, columns], index=[act, columns])\n",
    "    return cm"
   ],
   "metadata": {
    "collapsed": false,
    "pycharm": {
     "name": "#%%\n"
    }
   }
  },
  {
   "cell_type": "code",
   "execution_count": 15,
   "outputs": [
    {
     "data": {
      "text/plain": "             予測結果      \n               失敗    成功\n正解 Data 失敗  15371   598\n        成功   1102  1014",
      "text/html": "<div>\n<style scoped>\n    .dataframe tbody tr th:only-of-type {\n        vertical-align: middle;\n    }\n\n    .dataframe tbody tr th {\n        vertical-align: top;\n    }\n\n    .dataframe thead tr th {\n        text-align: left;\n    }\n</style>\n<table border=\"1\" class=\"dataframe\">\n  <thead>\n    <tr>\n      <th></th>\n      <th></th>\n      <th colspan=\"2\" halign=\"left\">予測結果</th>\n    </tr>\n    <tr>\n      <th></th>\n      <th></th>\n      <th>失敗</th>\n      <th>成功</th>\n    </tr>\n  </thead>\n  <tbody>\n    <tr>\n      <th rowspan=\"2\" valign=\"top\">正解 Data</th>\n      <th>失敗</th>\n      <td>15371</td>\n      <td>598</td>\n    </tr>\n    <tr>\n      <th>成功</th>\n      <td>1102</td>\n      <td>1014</td>\n    </tr>\n  </tbody>\n</table>\n</div>"
     },
     "metadata": {},
     "output_type": "display_data"
    },
    {
     "name": "stdout",
     "output_type": "stream",
     "text": [
      "適合率: 0.6290 再現率: 0.4792 Ｆ値: 0.5440\n"
     ]
    }
   ],
   "source": [
    "# 評価\n",
    "\n",
    "# 混同行列を出力\n",
    "df_matrix = make_cm(confusion_matrix(y_test, y_pred), ['失敗', '成功'])\n",
    "display(df_matrix)\n",
    "\n",
    "# 適合率・再現率・Ｆ値\n",
    "precision, recall, fscore, _ = precision_recall_fscore_support(y_test, y_pred, average='binary')\n",
    "print(f'適合率: {precision:.4f} 再現率: {recall:.4f} Ｆ値: {fscore:.4f}')"
   ],
   "metadata": {
    "collapsed": false,
    "pycharm": {
     "name": "#%%\n"
    }
   }
  },
  {
   "cell_type": "markdown",
   "source": [
    "適合率は、「62.9%」。Random に approach した場合、11.7%しかなかった営業の成功率が６倍になったと考えられ、営業効率という観点では大成功といえる。\n",
    "\n",
    "今回の Model で抽出した見込み顧客は合計で「1,612人（=598+1014）」。\n",
    "営業担当者がたくさんいて、もっと多くの顧客に営業できるという状況も想定して判断基準を甘くして、より多くの候補を挙げれるように Tuning を行なう。"
   ],
   "metadata": {
    "collapsed": false,
    "pycharm": {
     "name": "#%% md\n"
    }
   }
  },
  {
   "cell_type": "markdown",
   "source": [
    "## Tuning\n",
    "Model 内部の確率値をうまく用いて **「もう少し判断の基準を甘くして、より多くの候補を挙げること」**を実現する"
   ],
   "metadata": {
    "collapsed": false,
    "pycharm": {
     "name": "#%% md\n"
    }
   }
  },
  {
   "cell_type": "markdown",
   "source": [
    "今回の Model から予測結果の確率値を取り出し、正解 Data が成功（y=1）と失敗（y=0）に Group 分けして、それぞれの度数分布の Graph を表示してみる。"
   ],
   "metadata": {
    "collapsed": false,
    "pycharm": {
     "name": "#%% md\n"
    }
   }
  },
  {
   "cell_type": "code",
   "execution_count": 16,
   "outputs": [
    {
     "data": {
      "text/plain": "<Figure size 432x432 with 1 Axes>",
      "image/png": "[encoded data removed]"
     },
     "metadata": {
      "needs_background": "light"
     },
     "output_type": "display_data"
    }
   ],
   "source": [
    "# 確率の度数分布の Graph\n",
    "\n",
    "# y=0 の化率値取得\n",
    "y_proba0 = algorithm.predict_proba(x_test)[:, 1]\n",
    "\n",
    "# y_test=0 と y_test=1 で Data 分割\n",
    "y0 = y_proba0[y_test == 0]\n",
    "y1 = y_proba0[y_test == 1]\n",
    "\n",
    "# 散布図描画\n",
    "plt.figure(figsize=(6, 6))\n",
    "plt.title('確率の度数分布')\n",
    "sns.distplot(y1, kde=False, norm_hist=True, bins=50, color='b', label='成功')\n",
    "sns.distplot(y0, kde=False, norm_hist=True, bins=50, color='k', label='失敗')\n",
    "plt.xlabel('確率値')\n",
    "plt.legend()\n",
    "plt.show()"
   ],
   "metadata": {
    "collapsed": false,
    "pycharm": {
     "name": "#%%\n"
    }
   }
  },
  {
   "cell_type": "markdown",
   "source": [
    "Default 0.5 の閾値をもう少し左に移動させてもそれほど成功率は悪くならず、切り捨てられる成功 Case が減らせそう。\n",
    "上記を行なうためには、閾値を Parameters にした形で予測する必要がある。"
   ],
   "metadata": {
    "collapsed": false,
    "pycharm": {
     "name": "#%% md\n"
    }
   }
  },
  {
   "cell_type": "code",
   "execution_count": 17,
   "outputs": [],
   "source": [
    "# 閾値を変更した場合の予測関数の定義\n",
    "def pred(algorithm, x, thres):\n",
    "    # 確率分布の取得（行列）\n",
    "    y_proba = algorithm.predict_proba(x)\n",
    "\n",
    "    # 予測結果１の確率値\n",
    "    y_proba1 = y_proba[:, 1]\n",
    "\n",
    "    # 予測結果１の確率 > 閾値\n",
    "    y_pred = (y_proba1 > thres).astype(int)\n",
    "    return y_pred"
   ],
   "metadata": {
    "collapsed": false,
    "pycharm": {
     "name": "#%%\n"
    }
   }
  },
  {
   "cell_type": "code",
   "execution_count": 21,
   "outputs": [
    {
     "name": "stdout",
     "output_type": "stream",
     "text": [
      "閾値: 0.50 陽性予測: 1612 適合率: 0.6290 再現率: 0.4792 Ｆ値: 0.5440\n",
      "閾値: 0.45 陽性予測: 1839 適合率: 0.6117 再現率: 0.5317 Ｆ値: 0.5689\n",
      "閾値: 0.40 陽性予測: 2041 適合率: 0.6022 再現率: 0.5808 Ｆ値: 0.5913\n",
      "閾値: 0.35 陽性予測: 2304 適合率: 0.5820 再現率: 0.6337 Ｆ値: 0.6068\n",
      "閾値: 0.30 陽性予測: 2544 適合率: 0.5688 再現率: 0.6838 Ｆ値: 0.6210\n",
      "閾値: 0.25 陽性予測: 2831 適合率: 0.5440 再現率: 0.7278 Ｆ値: 0.6226\n",
      "閾値: 0.20 陽性予測: 3184 適合率: 0.5135 再現率: 0.7727 Ｆ値: 0.6170\n",
      "閾値: 0.15 陽性予測: 3616 適合率: 0.4806 再現率: 0.8214 Ｆ値: 0.6064\n",
      "閾値: 0.10 陽性予測: 4277 適合率: 0.4361 再現率: 0.8814 Ｆ値: 0.5835\n",
      "閾値: 0.05 陽性予測: 5519 適合率: 0.3629 再現率: 0.9466 Ｆ値: 0.5247\n"
     ]
    }
   ],
   "source": [
    "# 閾値を 0.05 刻みに変化させて、適合率、再現率、Ｆ値を計算する\n",
    "thres_list = np.arange(0.5, 0, -0.05)\n",
    "\n",
    "for thres in thres_list:\n",
    "    y_pred = pred(algorithm, x_test, thres)\n",
    "    pred_sum = y_pred.sum()\n",
    "    precision, recall, fscore, _ = precision_recall_fscore_support(y_test, y_pred, average='binary')\n",
    "    print(f'閾値: {thres:.2f} 陽性予測: {pred_sum} 適合率: {precision:.4f} 再現率: {recall:.4f} Ｆ値: {fscore:.4f}')"
   ],
   "metadata": {
    "collapsed": false,
    "pycharm": {
     "name": "#%%\n"
    }
   }
  },
  {
   "cell_type": "markdown",
   "source": [
    "業務観点での関心事である陽性（この場合成功）の値から見た\n",
    "- 適合率\n",
    "- 再現率\n",
    "には Trade-off の関係がある。\n",
    "２つの値の Balance ちょうどよい地点を見る目安としてＦ値を使用する。\n",
    "今回は、この考えに沿ってＦ値が最適になっている\n",
    "\n",
    "**閾値 0.25**\n",
    "\n",
    "とした結果を Model の最終出力とする。"
   ],
   "metadata": {
    "collapsed": false,
    "pycharm": {
     "name": "#%% md\n"
    }
   }
  },
  {
   "cell_type": "markdown",
   "source": [
    "閾値 0.25 で混合行列などを表示してみる。"
   ],
   "metadata": {
    "collapsed": false,
    "pycharm": {
     "name": "#%% md\n"
    }
   }
  },
  {
   "cell_type": "code",
   "execution_count": 22,
   "outputs": [
    {
     "data": {
      "text/plain": "             予測結果      \n               失敗    成功\n正解 Data 失敗  14678  1291\n        成功    576  1540",
      "text/html": "<div>\n<style scoped>\n    .dataframe tbody tr th:only-of-type {\n        vertical-align: middle;\n    }\n\n    .dataframe tbody tr th {\n        vertical-align: top;\n    }\n\n    .dataframe thead tr th {\n        text-align: left;\n    }\n</style>\n<table border=\"1\" class=\"dataframe\">\n  <thead>\n    <tr>\n      <th></th>\n      <th></th>\n      <th colspan=\"2\" halign=\"left\">予測結果</th>\n    </tr>\n    <tr>\n      <th></th>\n      <th></th>\n      <th>失敗</th>\n      <th>成功</th>\n    </tr>\n  </thead>\n  <tbody>\n    <tr>\n      <th rowspan=\"2\" valign=\"top\">正解 Data</th>\n      <th>失敗</th>\n      <td>14678</td>\n      <td>1291</td>\n    </tr>\n    <tr>\n      <th>成功</th>\n      <td>576</td>\n      <td>1540</td>\n    </tr>\n  </tbody>\n</table>\n</div>"
     },
     "metadata": {},
     "output_type": "display_data"
    },
    {
     "name": "stdout",
     "output_type": "stream",
     "text": [
      "適合率: 0.5440 再現率: 0.7278 Ｆ値: 0.6226\n"
     ]
    }
   ],
   "source": [
    "# Ｆ値を最大にする閾値は、0.25\n",
    "y_final = pred(algorithm, x_test, 0.25)\n",
    "\n",
    "# 混合行列を出力\n",
    "df_matrix2 = make_cm(confusion_matrix(y_test, y_final), ['失敗', '成功'])\n",
    "display(df_matrix2)\n",
    "\n",
    "# 適合率、再現率、f1 値を計算\n",
    "precision, recall, fscore, _ = precision_recall_fscore_support(y_test, y_final, average='binary')\n",
    "print(f'適合率: {precision:.4f} 再現率: {recall:.4f} Ｆ値: {fscore:.4f}')"
   ],
   "metadata": {
    "collapsed": false,
    "pycharm": {
     "name": "#%%\n"
    }
   }
  },
  {
   "cell_type": "markdown",
   "source": [
    "前回の分析との対比\n",
    "\n",
    "| 前回          | 今回          |\n",
    "|-------------|-------------|\n",
    "| 適合率: 0.6290 | 適合率: 0.5440 |\n",
    "| 再現率: 0.4792 | 再現率: 0.7278 |\n",
    "\n",
    "成約できる見込み客の取りこぼしが減少\n",
    "- 再現率が 47.92% から 72.78% に増加\n",
    "\n",
    "Model が予想を外す率もそこまで低くなっていない\n",
    "- 適合率が 62.9% から 54.4%\n",
    "\n",
    "Model そのものを加工しなくても、解釈（閾値）の工夫で業務としてより効果的な結果を出すことが可能なことを確認。"
   ],
   "metadata": {
    "collapsed": false,
    "pycharm": {
     "name": "#%% md\n"
    }
   }
  },
  {
   "cell_type": "code",
   "execution_count": null,
   "outputs": [],
   "source": [],
   "metadata": {
    "collapsed": false,
    "pycharm": {
     "name": "#%%\n"
    }
   }
  }
 ],
 "metadata": {
  "kernelspec": {
   "display_name": "Python 3",
   "language": "python",
   "name": "python3"
  },
  "language_info": {
   "codemirror_mode": {
    "name": "ipython",
    "version": 2
   },
   "file_extension": ".py",
   "mimetype": "text/x-python",
   "name": "python",
   "nbconvert_exporter": "python",
   "pygments_lexer": "ipython2",
   "version": "2.7.6"
  }
 },
 "nbformat": 4,
 "nbformat_minor": 0
}