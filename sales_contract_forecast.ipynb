{
 "cells": [
  {
   "cell_type": "markdown",
   "metadata": {
    "collapsed": true,
    "pycharm": {
     "name": "#%% md\n"
    }
   },
   "source": [
    "# 営業成約予測（分類） Model"
   ]
  },
  {
   "cell_type": "markdown",
   "source": [
    "## Data の読み込みから Data の確認まで"
   ],
   "metadata": {
    "collapsed": false,
    "pycharm": {
     "name": "#%% md\n"
    }
   }
  },
  {
   "cell_type": "markdown",
   "source": [
    "### Data 読み込み"
   ],
   "metadata": {
    "collapsed": false,
    "pycharm": {
     "name": "#%% md\n"
    }
   }
  },
  {
   "cell_type": "code",
   "execution_count": 1,
   "outputs": [],
   "source": [
    "# 共通事前処理\n",
    "\n",
    "# 余分な Warning を非常にする\n",
    "import warnings\n",
    "\n",
    "warnings.filterwarnings('ignore')\n",
    "\n",
    "# Library の import\n",
    "import pandas as pd\n",
    "import numpy as np\n",
    "import matplotlib.pyplot as plt\n",
    "\n",
    "# matplotlib 日本語化対応\n",
    "import japanize_matplotlib\n",
    "\n",
    "# DataFrame 表示用関数\n",
    "from IPython.display import display\n",
    "\n",
    "# 表示 Option の調整\n",
    "# NumPy の浮動小数点の表示精度\n",
    "np.set_printoptions(suppress=True, precision=4)\n",
    "# pandas での浮動小数点の表示精度\n",
    "pd.options.display.float_format = '{:.4f}'.format\n",
    "# DataFrame ですべての項目を表示\n",
    "pd.set_option('display.max_columns', None)\n",
    "# Graph の Default Font 指定\n",
    "plt.rcParams['font.size'] = 14\n",
    "# 乱数の種\n",
    "random_seed = 123"
   ],
   "metadata": {
    "collapsed": false,
    "pycharm": {
     "name": "#%%\n"
    }
   }
  },
  {
   "cell_type": "markdown",
   "source": [
    "#### 公開 DataSet を DataFrame に読み込み"
   ],
   "metadata": {
    "collapsed": false,
    "pycharm": {
     "name": "#%% md\n"
    }
   }
  },
  {
   "cell_type": "code",
   "execution_count": 2,
   "outputs": [],
   "source": [
    "# 公開 Data の Download と解凍\n",
    "# !wget https://archive.ics.uci.edu/ml/machine-learning-databases/00222/bank.zip -O bank.zip | tail -n 1\n",
    "# !unzip -o bank.zip | tail -n 1"
   ],
   "metadata": {
    "collapsed": false,
    "pycharm": {
     "name": "#%%\n"
    }
   }
  },
  {
   "cell_type": "code",
   "execution_count": 3,
   "outputs": [],
   "source": [
    "# bank-full.csv を DataFrame に読み込み\n",
    "df_all = pd.read_csv('bank-full.csv', sep=';') # 項目の区切り文字が Comma ではなく SemiCoron になっている為 `sep=';'` で区切り文字を指定。"
   ],
   "metadata": {
    "collapsed": false,
    "pycharm": {
     "name": "#%%\n"
    }
   }
  },
  {
   "cell_type": "code",
   "execution_count": 4,
   "outputs": [],
   "source": [
    "# 項目名を日本語に置き換える\n",
    "columns = ['年齢', '職業', '婚姻', '学歴', '債務不履行', '平均残高', '住宅_Loan', '個人_Loan', '連絡手段', '最終通話日', '最終通話月', '最終通話秒数', '通話回数_販促中', '前回販促後_経過日数', '通話回数_販促前', '前回販促結果', '今回販促結果']\n",
    "\n",
    "df_all.columns = columns"
   ],
   "metadata": {
    "collapsed": false,
    "pycharm": {
     "name": "#%%\n"
    }
   }
  },
  {
   "cell_type": "markdown",
   "source": [
    "#### DataFrame の内容確認"
   ],
   "metadata": {
    "collapsed": false,
    "pycharm": {
     "name": "#%% md\n"
    }
   }
  },
  {
   "cell_type": "code",
   "execution_count": 5,
   "outputs": [
    {
     "data": {
      "text/plain": "   年齢            職業       婚姻         学歴 債務不履行  平均残高 住宅_Loan 個人_Loan     連絡手段  \\\n0  58    management  married   tertiary    no  2143     yes      no  unknown   \n1  44    technician   single  secondary    no    29     yes      no  unknown   \n2  33  entrepreneur  married  secondary    no     2     yes     yes  unknown   \n3  47   blue-collar  married    unknown    no  1506     yes      no  unknown   \n4  33       unknown   single    unknown    no     1      no      no  unknown   \n\n   最終通話日 最終通話月  最終通話秒数  通話回数_販促中  前回販促後_経過日数  通話回数_販促前   前回販促結果 今回販促結果  \n0      5   may     261         1          -1         0  unknown     no  \n1      5   may     151         1          -1         0  unknown     no  \n2      5   may      76         1          -1         0  unknown     no  \n3      5   may      92         1          -1         0  unknown     no  \n4      5   may     198         1          -1         0  unknown     no  ",
      "text/html": "<div>\n<style scoped>\n    .dataframe tbody tr th:only-of-type {\n        vertical-align: middle;\n    }\n\n    .dataframe tbody tr th {\n        vertical-align: top;\n    }\n\n    .dataframe thead th {\n        text-align: right;\n    }\n</style>\n<table border=\"1\" class=\"dataframe\">\n  <thead>\n    <tr style=\"text-align: right;\">\n      <th></th>\n      <th>年齢</th>\n      <th>職業</th>\n      <th>婚姻</th>\n      <th>学歴</th>\n      <th>債務不履行</th>\n      <th>平均残高</th>\n      <th>住宅_Loan</th>\n      <th>個人_Loan</th>\n      <th>連絡手段</th>\n      <th>最終通話日</th>\n      <th>最終通話月</th>\n      <th>最終通話秒数</th>\n      <th>通話回数_販促中</th>\n      <th>前回販促後_経過日数</th>\n      <th>通話回数_販促前</th>\n      <th>前回販促結果</th>\n      <th>今回販促結果</th>\n    </tr>\n  </thead>\n  <tbody>\n    <tr>\n      <th>0</th>\n      <td>58</td>\n      <td>management</td>\n      <td>married</td>\n      <td>tertiary</td>\n      <td>no</td>\n      <td>2143</td>\n      <td>yes</td>\n      <td>no</td>\n      <td>unknown</td>\n      <td>5</td>\n      <td>may</td>\n      <td>261</td>\n      <td>1</td>\n      <td>-1</td>\n      <td>0</td>\n      <td>unknown</td>\n      <td>no</td>\n    </tr>\n    <tr>\n      <th>1</th>\n      <td>44</td>\n      <td>technician</td>\n      <td>single</td>\n      <td>secondary</td>\n      <td>no</td>\n      <td>29</td>\n      <td>yes</td>\n      <td>no</td>\n      <td>unknown</td>\n      <td>5</td>\n      <td>may</td>\n      <td>151</td>\n      <td>1</td>\n      <td>-1</td>\n      <td>0</td>\n      <td>unknown</td>\n      <td>no</td>\n    </tr>\n    <tr>\n      <th>2</th>\n      <td>33</td>\n      <td>entrepreneur</td>\n      <td>married</td>\n      <td>secondary</td>\n      <td>no</td>\n      <td>2</td>\n      <td>yes</td>\n      <td>yes</td>\n      <td>unknown</td>\n      <td>5</td>\n      <td>may</td>\n      <td>76</td>\n      <td>1</td>\n      <td>-1</td>\n      <td>0</td>\n      <td>unknown</td>\n      <td>no</td>\n    </tr>\n    <tr>\n      <th>3</th>\n      <td>47</td>\n      <td>blue-collar</td>\n      <td>married</td>\n      <td>unknown</td>\n      <td>no</td>\n      <td>1506</td>\n      <td>yes</td>\n      <td>no</td>\n      <td>unknown</td>\n      <td>5</td>\n      <td>may</td>\n      <td>92</td>\n      <td>1</td>\n      <td>-1</td>\n      <td>0</td>\n      <td>unknown</td>\n      <td>no</td>\n    </tr>\n    <tr>\n      <th>4</th>\n      <td>33</td>\n      <td>unknown</td>\n      <td>single</td>\n      <td>unknown</td>\n      <td>no</td>\n      <td>1</td>\n      <td>no</td>\n      <td>no</td>\n      <td>unknown</td>\n      <td>5</td>\n      <td>may</td>\n      <td>198</td>\n      <td>1</td>\n      <td>-1</td>\n      <td>0</td>\n      <td>unknown</td>\n      <td>no</td>\n    </tr>\n  </tbody>\n</table>\n</div>"
     },
     "metadata": {},
     "output_type": "display_data"
    }
   ],
   "source": [
    "display(df_all.head())"
   ],
   "metadata": {
    "collapsed": false,
    "pycharm": {
     "name": "#%%\n"
    }
   }
  },
  {
   "cell_type": "markdown",
   "source": [
    "かなりの項目値が Text Data になっている。\n",
    "機械学習 Model に入力できるような項目値が数値だけからなる Data に変換していく。"
   ],
   "metadata": {
    "collapsed": false,
    "pycharm": {
     "name": "#%% md\n"
    }
   }
  },
  {
   "cell_type": "markdown",
   "source": [
    "#### Data の確認"
   ],
   "metadata": {
    "collapsed": false,
    "pycharm": {
     "name": "#%% md\n"
    }
   }
  },
  {
   "cell_type": "code",
   "execution_count": 6,
   "outputs": [
    {
     "name": "stdout",
     "output_type": "stream",
     "text": [
      "(45211, 17)\n",
      "\n",
      "no     39922\n",
      "yes     5289\n",
      "Name: 今回販促結果, dtype: int64\n",
      "\n",
      "営業成功率: 0.1170\n"
     ]
    }
   ],
   "source": [
    "# 学習 Data の件数と項目数確認\n",
    "print(df_all.shape)\n",
    "print()\n",
    "\n",
    "# 「今回販促結果」の値の分布確認\n",
    "print(df_all['今回販促結果'].value_counts())\n",
    "print()\n",
    "\n",
    "# 営業成功率\n",
    "rate = df_all['今回販促結果'].value_counts()['yes']/len(df_all)\n",
    "print(f'営業成功率: {rate:.4f}')"
   ],
   "metadata": {
    "collapsed": false,
    "pycharm": {
     "name": "#%%\n"
    }
   }
  },
  {
   "cell_type": "markdown",
   "source": [
    "#### 欠損値の確認"
   ],
   "metadata": {
    "collapsed": false,
    "pycharm": {
     "name": "#%% md\n"
    }
   }
  },
  {
   "cell_type": "code",
   "execution_count": 7,
   "outputs": [
    {
     "name": "stdout",
     "output_type": "stream",
     "text": [
      "年齢            0\n",
      "職業            0\n",
      "婚姻            0\n",
      "学歴            0\n",
      "債務不履行         0\n",
      "平均残高          0\n",
      "住宅_Loan       0\n",
      "個人_Loan       0\n",
      "連絡手段          0\n",
      "最終通話日         0\n",
      "最終通話月         0\n",
      "最終通話秒数        0\n",
      "通話回数_販促中      0\n",
      "前回販促後_経過日数    0\n",
      "通話回数_販促前      0\n",
      "前回販促結果        0\n",
      "今回販促結果        0\n",
      "dtype: int64\n"
     ]
    }
   ],
   "source": [
    "# 欠損値の確認\n",
    "print(df_all.isnull().sum())"
   ],
   "metadata": {
    "collapsed": false,
    "pycharm": {
     "name": "#%%\n"
    }
   }
  },
  {
   "cell_type": "markdown",
   "source": [
    "欠損値は一切なく、対応不要。"
   ],
   "metadata": {
    "collapsed": false,
    "pycharm": {
     "name": "#%% md\n"
    }
   }
  },
  {
   "cell_type": "markdown",
   "source": [
    "## Data 前処理と Data 分割"
   ],
   "metadata": {
    "collapsed": false,
    "pycharm": {
     "name": "#%% md\n"
    }
   }
  },
  {
   "cell_type": "markdown",
   "source": [
    "### Data 前処理"
   ],
   "metadata": {
    "collapsed": false,
    "pycharm": {
     "name": "#%% md\n"
    }
   }
  },
  {
   "cell_type": "markdown",
   "source": [
    "#### 前処理 Step 1\n",
    "Text の Label を持つ項目を One-Hot encoding する。\n",
    "enc関数を利用して処理を進める。"
   ],
   "metadata": {
    "collapsed": false,
    "pycharm": {
     "name": "#%% md\n"
    }
   }
  },
  {
   "cell_type": "code",
   "execution_count": 8,
   "outputs": [
    {
     "data": {
      "text/plain": "   年齢 債務不履行  平均残高 住宅_Loan 個人_Loan  最終通話日 最終通話月  最終通話秒数  通話回数_販促中  前回販促後_経過日数  \\\n0  58    no  2143     yes      no      5   may     261         1          -1   \n1  44    no    29     yes      no      5   may     151         1          -1   \n2  33    no     2     yes     yes      5   may      76         1          -1   \n3  47    no  1506     yes      no      5   may      92         1          -1   \n4  33    no     1      no      no      5   may     198         1          -1   \n\n   通話回数_販促前 今回販促結果  職業_admin.  職業_blue-collar  職業_entrepreneur  職業_housemaid  \\\n0         0     no          0               0                0             0   \n1         0     no          0               0                0             0   \n2         0     no          0               0                1             0   \n3         0     no          0               1                0             0   \n4         0     no          0               0                0             0   \n\n   職業_management  職業_retired  職業_self-employed  職業_services  職業_student  \\\n0              1           0                 0            0           0   \n1              0           0                 0            0           0   \n2              0           0                 0            0           0   \n3              0           0                 0            0           0   \n4              0           0                 0            0           0   \n\n   職業_technician  職業_unemployed  職業_unknown  婚姻_divorced  婚姻_married  \\\n0              0              0           0            0           1   \n1              1              0           0            0           0   \n2              0              0           0            0           1   \n3              0              0           0            0           1   \n4              0              0           1            0           0   \n\n   婚姻_single  学歴_primary  学歴_secondary  学歴_tertiary  学歴_unknown  \\\n0          0           0             0            1           0   \n1          1           0             1            0           0   \n2          0           0             1            0           0   \n3          0           0             0            0           1   \n4          1           0             0            0           1   \n\n   連絡手段_cellular  連絡手段_telephone  連絡手段_unknown  前回販促結果_failure  前回販促結果_other  \\\n0              0               0             1               0             0   \n1              0               0             1               0             0   \n2              0               0             1               0             0   \n3              0               0             1               0             0   \n4              0               0             1               0             0   \n\n   前回販促結果_success  前回販促結果_unknown  \n0               0               1  \n1               0               1  \n2               0               1  \n3               0               1  \n4               0               1  ",
      "text/html": "<div>\n<style scoped>\n    .dataframe tbody tr th:only-of-type {\n        vertical-align: middle;\n    }\n\n    .dataframe tbody tr th {\n        vertical-align: top;\n    }\n\n    .dataframe thead th {\n        text-align: right;\n    }\n</style>\n<table border=\"1\" class=\"dataframe\">\n  <thead>\n    <tr style=\"text-align: right;\">\n      <th></th>\n      <th>年齢</th>\n      <th>債務不履行</th>\n      <th>平均残高</th>\n      <th>住宅_Loan</th>\n      <th>個人_Loan</th>\n      <th>最終通話日</th>\n      <th>最終通話月</th>\n      <th>最終通話秒数</th>\n      <th>通話回数_販促中</th>\n      <th>前回販促後_経過日数</th>\n      <th>通話回数_販促前</th>\n      <th>今回販促結果</th>\n      <th>職業_admin.</th>\n      <th>職業_blue-collar</th>\n      <th>職業_entrepreneur</th>\n      <th>職業_housemaid</th>\n      <th>職業_management</th>\n      <th>職業_retired</th>\n      <th>職業_self-employed</th>\n      <th>職業_services</th>\n      <th>職業_student</th>\n      <th>職業_technician</th>\n      <th>職業_unemployed</th>\n      <th>職業_unknown</th>\n      <th>婚姻_divorced</th>\n      <th>婚姻_married</th>\n      <th>婚姻_single</th>\n      <th>学歴_primary</th>\n      <th>学歴_secondary</th>\n      <th>学歴_tertiary</th>\n      <th>学歴_unknown</th>\n      <th>連絡手段_cellular</th>\n      <th>連絡手段_telephone</th>\n      <th>連絡手段_unknown</th>\n      <th>前回販促結果_failure</th>\n      <th>前回販促結果_other</th>\n      <th>前回販促結果_success</th>\n      <th>前回販促結果_unknown</th>\n    </tr>\n  </thead>\n  <tbody>\n    <tr>\n      <th>0</th>\n      <td>58</td>\n      <td>no</td>\n      <td>2143</td>\n      <td>yes</td>\n      <td>no</td>\n      <td>5</td>\n      <td>may</td>\n      <td>261</td>\n      <td>1</td>\n      <td>-1</td>\n      <td>0</td>\n      <td>no</td>\n      <td>0</td>\n      <td>0</td>\n      <td>0</td>\n      <td>0</td>\n      <td>1</td>\n      <td>0</td>\n      <td>0</td>\n      <td>0</td>\n      <td>0</td>\n      <td>0</td>\n      <td>0</td>\n      <td>0</td>\n      <td>0</td>\n      <td>1</td>\n      <td>0</td>\n      <td>0</td>\n      <td>0</td>\n      <td>1</td>\n      <td>0</td>\n      <td>0</td>\n      <td>0</td>\n      <td>1</td>\n      <td>0</td>\n      <td>0</td>\n      <td>0</td>\n      <td>1</td>\n    </tr>\n    <tr>\n      <th>1</th>\n      <td>44</td>\n      <td>no</td>\n      <td>29</td>\n      <td>yes</td>\n      <td>no</td>\n      <td>5</td>\n      <td>may</td>\n      <td>151</td>\n      <td>1</td>\n      <td>-1</td>\n      <td>0</td>\n      <td>no</td>\n      <td>0</td>\n      <td>0</td>\n      <td>0</td>\n      <td>0</td>\n      <td>0</td>\n      <td>0</td>\n      <td>0</td>\n      <td>0</td>\n      <td>0</td>\n      <td>1</td>\n      <td>0</td>\n      <td>0</td>\n      <td>0</td>\n      <td>0</td>\n      <td>1</td>\n      <td>0</td>\n      <td>1</td>\n      <td>0</td>\n      <td>0</td>\n      <td>0</td>\n      <td>0</td>\n      <td>1</td>\n      <td>0</td>\n      <td>0</td>\n      <td>0</td>\n      <td>1</td>\n    </tr>\n    <tr>\n      <th>2</th>\n      <td>33</td>\n      <td>no</td>\n      <td>2</td>\n      <td>yes</td>\n      <td>yes</td>\n      <td>5</td>\n      <td>may</td>\n      <td>76</td>\n      <td>1</td>\n      <td>-1</td>\n      <td>0</td>\n      <td>no</td>\n      <td>0</td>\n      <td>0</td>\n      <td>1</td>\n      <td>0</td>\n      <td>0</td>\n      <td>0</td>\n      <td>0</td>\n      <td>0</td>\n      <td>0</td>\n      <td>0</td>\n      <td>0</td>\n      <td>0</td>\n      <td>0</td>\n      <td>1</td>\n      <td>0</td>\n      <td>0</td>\n      <td>1</td>\n      <td>0</td>\n      <td>0</td>\n      <td>0</td>\n      <td>0</td>\n      <td>1</td>\n      <td>0</td>\n      <td>0</td>\n      <td>0</td>\n      <td>1</td>\n    </tr>\n    <tr>\n      <th>3</th>\n      <td>47</td>\n      <td>no</td>\n      <td>1506</td>\n      <td>yes</td>\n      <td>no</td>\n      <td>5</td>\n      <td>may</td>\n      <td>92</td>\n      <td>1</td>\n      <td>-1</td>\n      <td>0</td>\n      <td>no</td>\n      <td>0</td>\n      <td>1</td>\n      <td>0</td>\n      <td>0</td>\n      <td>0</td>\n      <td>0</td>\n      <td>0</td>\n      <td>0</td>\n      <td>0</td>\n      <td>0</td>\n      <td>0</td>\n      <td>0</td>\n      <td>0</td>\n      <td>1</td>\n      <td>0</td>\n      <td>0</td>\n      <td>0</td>\n      <td>0</td>\n      <td>1</td>\n      <td>0</td>\n      <td>0</td>\n      <td>1</td>\n      <td>0</td>\n      <td>0</td>\n      <td>0</td>\n      <td>1</td>\n    </tr>\n    <tr>\n      <th>4</th>\n      <td>33</td>\n      <td>no</td>\n      <td>1</td>\n      <td>no</td>\n      <td>no</td>\n      <td>5</td>\n      <td>may</td>\n      <td>198</td>\n      <td>1</td>\n      <td>-1</td>\n      <td>0</td>\n      <td>no</td>\n      <td>0</td>\n      <td>0</td>\n      <td>0</td>\n      <td>0</td>\n      <td>0</td>\n      <td>0</td>\n      <td>0</td>\n      <td>0</td>\n      <td>0</td>\n      <td>0</td>\n      <td>0</td>\n      <td>1</td>\n      <td>0</td>\n      <td>0</td>\n      <td>1</td>\n      <td>0</td>\n      <td>0</td>\n      <td>0</td>\n      <td>1</td>\n      <td>0</td>\n      <td>0</td>\n      <td>1</td>\n      <td>0</td>\n      <td>0</td>\n      <td>0</td>\n      <td>1</td>\n    </tr>\n  </tbody>\n</table>\n</div>"
     },
     "execution_count": 8,
     "metadata": {},
     "output_type": "execute_result"
    }
   ],
   "source": [
    "# get_dummies 関数で Category 値を One-Hot encoding\n",
    "\n",
    "# 項目を One-Hot encoding するための関数\n",
    "def enc(df, column):\n",
    "    df_dummy = pd.get_dummies(df[column], prefix=column)\n",
    "    df = pd.concat([df.drop([column], axis=1), df_dummy], axis=1)\n",
    "    return df\n",
    "\n",
    "\n",
    "df_all2 = df_all.copy()\n",
    "columns = ['職業', '婚姻', '学歴', '連絡手段', '前回販促結果']\n",
    "for col in columns:\n",
    "    df_all2 = enc(df_all2, col)\n",
    "\n",
    "# 結果確認\n",
    "df_all2.head()"
   ],
   "metadata": {
    "collapsed": false,
    "pycharm": {
     "name": "#%%\n"
    }
   }
  },
  {
   "cell_type": "markdown",
   "source": [
    "One-Hot encoding した項目は、元の項目ごとに新しい項目ができ、値が１か０を取るようになっている。"
   ],
   "metadata": {
    "collapsed": false,
    "pycharm": {
     "name": "#%% md\n"
    }
   }
  },
  {
   "cell_type": "markdown",
   "source": [
    "#### 前処理 Step 2"
   ],
   "metadata": {
    "collapsed": false,
    "pycharm": {
     "name": "#%% md\n"
    }
   }
  },
  {
   "cell_type": "code",
   "execution_count": 9,
   "outputs": [
    {
     "data": {
      "text/plain": "   年齢  債務不履行  平均残高  住宅_Loan  個人_Loan  最終通話日 最終通話月  最終通話秒数  通話回数_販促中  \\\n0  58      0  2143        1        0      5   may     261         1   \n1  44      0    29        1        0      5   may     151         1   \n2  33      0     2        1        1      5   may      76         1   \n3  47      0  1506        1        0      5   may      92         1   \n4  33      0     1        0        0      5   may     198         1   \n\n   前回販促後_経過日数  通話回数_販促前  今回販促結果  職業_admin.  職業_blue-collar  職業_entrepreneur  \\\n0          -1         0       0          0               0                0   \n1          -1         0       0          0               0                0   \n2          -1         0       0          0               0                1   \n3          -1         0       0          0               1                0   \n4          -1         0       0          0               0                0   \n\n   職業_housemaid  職業_management  職業_retired  職業_self-employed  職業_services  \\\n0             0              1           0                 0            0   \n1             0              0           0                 0            0   \n2             0              0           0                 0            0   \n3             0              0           0                 0            0   \n4             0              0           0                 0            0   \n\n   職業_student  職業_technician  職業_unemployed  職業_unknown  婚姻_divorced  \\\n0           0              0              0           0            0   \n1           0              1              0           0            0   \n2           0              0              0           0            0   \n3           0              0              0           0            0   \n4           0              0              0           1            0   \n\n   婚姻_married  婚姻_single  学歴_primary  学歴_secondary  学歴_tertiary  学歴_unknown  \\\n0           1          0           0             0            1           0   \n1           0          1           0             1            0           0   \n2           1          0           0             1            0           0   \n3           1          0           0             0            0           1   \n4           0          1           0             0            0           1   \n\n   連絡手段_cellular  連絡手段_telephone  連絡手段_unknown  前回販促結果_failure  前回販促結果_other  \\\n0              0               0             1               0             0   \n1              0               0             1               0             0   \n2              0               0             1               0             0   \n3              0               0             1               0             0   \n4              0               0             1               0             0   \n\n   前回販促結果_success  前回販促結果_unknown  \n0               0               1  \n1               0               1  \n2               0               1  \n3               0               1  \n4               0               1  ",
      "text/html": "<div>\n<style scoped>\n    .dataframe tbody tr th:only-of-type {\n        vertical-align: middle;\n    }\n\n    .dataframe tbody tr th {\n        vertical-align: top;\n    }\n\n    .dataframe thead th {\n        text-align: right;\n    }\n</style>\n<table border=\"1\" class=\"dataframe\">\n  <thead>\n    <tr style=\"text-align: right;\">\n      <th></th>\n      <th>年齢</th>\n      <th>債務不履行</th>\n      <th>平均残高</th>\n      <th>住宅_Loan</th>\n      <th>個人_Loan</th>\n      <th>最終通話日</th>\n      <th>最終通話月</th>\n      <th>最終通話秒数</th>\n      <th>通話回数_販促中</th>\n      <th>前回販促後_経過日数</th>\n      <th>通話回数_販促前</th>\n      <th>今回販促結果</th>\n      <th>職業_admin.</th>\n      <th>職業_blue-collar</th>\n      <th>職業_entrepreneur</th>\n      <th>職業_housemaid</th>\n      <th>職業_management</th>\n      <th>職業_retired</th>\n      <th>職業_self-employed</th>\n      <th>職業_services</th>\n      <th>職業_student</th>\n      <th>職業_technician</th>\n      <th>職業_unemployed</th>\n      <th>職業_unknown</th>\n      <th>婚姻_divorced</th>\n      <th>婚姻_married</th>\n      <th>婚姻_single</th>\n      <th>学歴_primary</th>\n      <th>学歴_secondary</th>\n      <th>学歴_tertiary</th>\n      <th>学歴_unknown</th>\n      <th>連絡手段_cellular</th>\n      <th>連絡手段_telephone</th>\n      <th>連絡手段_unknown</th>\n      <th>前回販促結果_failure</th>\n      <th>前回販促結果_other</th>\n      <th>前回販促結果_success</th>\n      <th>前回販促結果_unknown</th>\n    </tr>\n  </thead>\n  <tbody>\n    <tr>\n      <th>0</th>\n      <td>58</td>\n      <td>0</td>\n      <td>2143</td>\n      <td>1</td>\n      <td>0</td>\n      <td>5</td>\n      <td>may</td>\n      <td>261</td>\n      <td>1</td>\n      <td>-1</td>\n      <td>0</td>\n      <td>0</td>\n      <td>0</td>\n      <td>0</td>\n      <td>0</td>\n      <td>0</td>\n      <td>1</td>\n      <td>0</td>\n      <td>0</td>\n      <td>0</td>\n      <td>0</td>\n      <td>0</td>\n      <td>0</td>\n      <td>0</td>\n      <td>0</td>\n      <td>1</td>\n      <td>0</td>\n      <td>0</td>\n      <td>0</td>\n      <td>1</td>\n      <td>0</td>\n      <td>0</td>\n      <td>0</td>\n      <td>1</td>\n      <td>0</td>\n      <td>0</td>\n      <td>0</td>\n      <td>1</td>\n    </tr>\n    <tr>\n      <th>1</th>\n      <td>44</td>\n      <td>0</td>\n      <td>29</td>\n      <td>1</td>\n      <td>0</td>\n      <td>5</td>\n      <td>may</td>\n      <td>151</td>\n      <td>1</td>\n      <td>-1</td>\n      <td>0</td>\n      <td>0</td>\n      <td>0</td>\n      <td>0</td>\n      <td>0</td>\n      <td>0</td>\n      <td>0</td>\n      <td>0</td>\n      <td>0</td>\n      <td>0</td>\n      <td>0</td>\n      <td>1</td>\n      <td>0</td>\n      <td>0</td>\n      <td>0</td>\n      <td>0</td>\n      <td>1</td>\n      <td>0</td>\n      <td>1</td>\n      <td>0</td>\n      <td>0</td>\n      <td>0</td>\n      <td>0</td>\n      <td>1</td>\n      <td>0</td>\n      <td>0</td>\n      <td>0</td>\n      <td>1</td>\n    </tr>\n    <tr>\n      <th>2</th>\n      <td>33</td>\n      <td>0</td>\n      <td>2</td>\n      <td>1</td>\n      <td>1</td>\n      <td>5</td>\n      <td>may</td>\n      <td>76</td>\n      <td>1</td>\n      <td>-1</td>\n      <td>0</td>\n      <td>0</td>\n      <td>0</td>\n      <td>0</td>\n      <td>1</td>\n      <td>0</td>\n      <td>0</td>\n      <td>0</td>\n      <td>0</td>\n      <td>0</td>\n      <td>0</td>\n      <td>0</td>\n      <td>0</td>\n      <td>0</td>\n      <td>0</td>\n      <td>1</td>\n      <td>0</td>\n      <td>0</td>\n      <td>1</td>\n      <td>0</td>\n      <td>0</td>\n      <td>0</td>\n      <td>0</td>\n      <td>1</td>\n      <td>0</td>\n      <td>0</td>\n      <td>0</td>\n      <td>1</td>\n    </tr>\n    <tr>\n      <th>3</th>\n      <td>47</td>\n      <td>0</td>\n      <td>1506</td>\n      <td>1</td>\n      <td>0</td>\n      <td>5</td>\n      <td>may</td>\n      <td>92</td>\n      <td>1</td>\n      <td>-1</td>\n      <td>0</td>\n      <td>0</td>\n      <td>0</td>\n      <td>1</td>\n      <td>0</td>\n      <td>0</td>\n      <td>0</td>\n      <td>0</td>\n      <td>0</td>\n      <td>0</td>\n      <td>0</td>\n      <td>0</td>\n      <td>0</td>\n      <td>0</td>\n      <td>0</td>\n      <td>1</td>\n      <td>0</td>\n      <td>0</td>\n      <td>0</td>\n      <td>0</td>\n      <td>1</td>\n      <td>0</td>\n      <td>0</td>\n      <td>1</td>\n      <td>0</td>\n      <td>0</td>\n      <td>0</td>\n      <td>1</td>\n    </tr>\n    <tr>\n      <th>4</th>\n      <td>33</td>\n      <td>0</td>\n      <td>1</td>\n      <td>0</td>\n      <td>0</td>\n      <td>5</td>\n      <td>may</td>\n      <td>198</td>\n      <td>1</td>\n      <td>-1</td>\n      <td>0</td>\n      <td>0</td>\n      <td>0</td>\n      <td>0</td>\n      <td>0</td>\n      <td>0</td>\n      <td>0</td>\n      <td>0</td>\n      <td>0</td>\n      <td>0</td>\n      <td>0</td>\n      <td>0</td>\n      <td>0</td>\n      <td>1</td>\n      <td>0</td>\n      <td>0</td>\n      <td>1</td>\n      <td>0</td>\n      <td>0</td>\n      <td>0</td>\n      <td>1</td>\n      <td>0</td>\n      <td>0</td>\n      <td>1</td>\n      <td>0</td>\n      <td>0</td>\n      <td>0</td>\n      <td>1</td>\n    </tr>\n  </tbody>\n</table>\n</div>"
     },
     "execution_count": 9,
     "metadata": {},
     "output_type": "execute_result"
    }
   ],
   "source": [
    "# yes/no を 1/0 に置換\n",
    "\n",
    "# ２値(yes/no)の値を（1/0)に置換する関数\n",
    "def enc_bin(df, column):\n",
    "    df[column] = df[column].map(dict(yes=1, no=0))\n",
    "    return df\n",
    "\n",
    "columns = ['債務不履行', '住宅_Loan', '個人_Loan', '今回販促結果']\n",
    "for col in columns:\n",
    "    df_all2 = enc_bin(df_all2, col)\n",
    "\n",
    "# 結果確認\n",
    "df_all2.head()"
   ],
   "metadata": {
    "collapsed": false,
    "pycharm": {
     "name": "#%%\n"
    }
   }
  },
  {
   "cell_type": "markdown",
   "source": [
    "#### 前処理 Step 3"
   ],
   "metadata": {
    "collapsed": false,
    "pycharm": {
     "name": "#%% md\n"
    }
   }
  },
  {
   "cell_type": "markdown",
   "source": [
    "最終通話月も One-Hot encoding すべきだが項目数が12個、増えてしまう。\n",
    "月の間の数字は連続性で表現できるので数値１項目で表現する"
   ],
   "metadata": {
    "collapsed": false,
    "pycharm": {
     "name": "#%% md\n"
    }
   }
  },
  {
   "cell_type": "code",
   "execution_count": 11,
   "outputs": [
    {
     "data": {
      "text/plain": "   年齢  債務不履行  平均残高  住宅_Loan  個人_Loan  最終通話日  最終通話月  最終通話秒数  通話回数_販促中  \\\n0  58      0  2143        1        0      5    NaN     261         1   \n1  44      0    29        1        0      5    NaN     151         1   \n2  33      0     2        1        1      5    NaN      76         1   \n3  47      0  1506        1        0      5    NaN      92         1   \n4  33      0     1        0        0      5    NaN     198         1   \n\n   前回販促後_経過日数  通話回数_販促前  今回販促結果  職業_admin.  職業_blue-collar  職業_entrepreneur  \\\n0          -1         0       0          0               0                0   \n1          -1         0       0          0               0                0   \n2          -1         0       0          0               0                1   \n3          -1         0       0          0               1                0   \n4          -1         0       0          0               0                0   \n\n   職業_housemaid  職業_management  職業_retired  職業_self-employed  職業_services  \\\n0             0              1           0                 0            0   \n1             0              0           0                 0            0   \n2             0              0           0                 0            0   \n3             0              0           0                 0            0   \n4             0              0           0                 0            0   \n\n   職業_student  職業_technician  職業_unemployed  職業_unknown  婚姻_divorced  \\\n0           0              0              0           0            0   \n1           0              1              0           0            0   \n2           0              0              0           0            0   \n3           0              0              0           0            0   \n4           0              0              0           1            0   \n\n   婚姻_married  婚姻_single  学歴_primary  学歴_secondary  学歴_tertiary  学歴_unknown  \\\n0           1          0           0             0            1           0   \n1           0          1           0             1            0           0   \n2           1          0           0             1            0           0   \n3           1          0           0             0            0           1   \n4           0          1           0             0            0           1   \n\n   連絡手段_cellular  連絡手段_telephone  連絡手段_unknown  前回販促結果_failure  前回販促結果_other  \\\n0              0               0             1               0             0   \n1              0               0             1               0             0   \n2              0               0             1               0             0   \n3              0               0             1               0             0   \n4              0               0             1               0             0   \n\n   前回販促結果_success  前回販促結果_unknown  \n0               0               1  \n1               0               1  \n2               0               1  \n3               0               1  \n4               0               1  ",
      "text/html": "<div>\n<style scoped>\n    .dataframe tbody tr th:only-of-type {\n        vertical-align: middle;\n    }\n\n    .dataframe tbody tr th {\n        vertical-align: top;\n    }\n\n    .dataframe thead th {\n        text-align: right;\n    }\n</style>\n<table border=\"1\" class=\"dataframe\">\n  <thead>\n    <tr style=\"text-align: right;\">\n      <th></th>\n      <th>年齢</th>\n      <th>債務不履行</th>\n      <th>平均残高</th>\n      <th>住宅_Loan</th>\n      <th>個人_Loan</th>\n      <th>最終通話日</th>\n      <th>最終通話月</th>\n      <th>最終通話秒数</th>\n      <th>通話回数_販促中</th>\n      <th>前回販促後_経過日数</th>\n      <th>通話回数_販促前</th>\n      <th>今回販促結果</th>\n      <th>職業_admin.</th>\n      <th>職業_blue-collar</th>\n      <th>職業_entrepreneur</th>\n      <th>職業_housemaid</th>\n      <th>職業_management</th>\n      <th>職業_retired</th>\n      <th>職業_self-employed</th>\n      <th>職業_services</th>\n      <th>職業_student</th>\n      <th>職業_technician</th>\n      <th>職業_unemployed</th>\n      <th>職業_unknown</th>\n      <th>婚姻_divorced</th>\n      <th>婚姻_married</th>\n      <th>婚姻_single</th>\n      <th>学歴_primary</th>\n      <th>学歴_secondary</th>\n      <th>学歴_tertiary</th>\n      <th>学歴_unknown</th>\n      <th>連絡手段_cellular</th>\n      <th>連絡手段_telephone</th>\n      <th>連絡手段_unknown</th>\n      <th>前回販促結果_failure</th>\n      <th>前回販促結果_other</th>\n      <th>前回販促結果_success</th>\n      <th>前回販促結果_unknown</th>\n    </tr>\n  </thead>\n  <tbody>\n    <tr>\n      <th>0</th>\n      <td>58</td>\n      <td>0</td>\n      <td>2143</td>\n      <td>1</td>\n      <td>0</td>\n      <td>5</td>\n      <td>NaN</td>\n      <td>261</td>\n      <td>1</td>\n      <td>-1</td>\n      <td>0</td>\n      <td>0</td>\n      <td>0</td>\n      <td>0</td>\n      <td>0</td>\n      <td>0</td>\n      <td>1</td>\n      <td>0</td>\n      <td>0</td>\n      <td>0</td>\n      <td>0</td>\n      <td>0</td>\n      <td>0</td>\n      <td>0</td>\n      <td>0</td>\n      <td>1</td>\n      <td>0</td>\n      <td>0</td>\n      <td>0</td>\n      <td>1</td>\n      <td>0</td>\n      <td>0</td>\n      <td>0</td>\n      <td>1</td>\n      <td>0</td>\n      <td>0</td>\n      <td>0</td>\n      <td>1</td>\n    </tr>\n    <tr>\n      <th>1</th>\n      <td>44</td>\n      <td>0</td>\n      <td>29</td>\n      <td>1</td>\n      <td>0</td>\n      <td>5</td>\n      <td>NaN</td>\n      <td>151</td>\n      <td>1</td>\n      <td>-1</td>\n      <td>0</td>\n      <td>0</td>\n      <td>0</td>\n      <td>0</td>\n      <td>0</td>\n      <td>0</td>\n      <td>0</td>\n      <td>0</td>\n      <td>0</td>\n      <td>0</td>\n      <td>0</td>\n      <td>1</td>\n      <td>0</td>\n      <td>0</td>\n      <td>0</td>\n      <td>0</td>\n      <td>1</td>\n      <td>0</td>\n      <td>1</td>\n      <td>0</td>\n      <td>0</td>\n      <td>0</td>\n      <td>0</td>\n      <td>1</td>\n      <td>0</td>\n      <td>0</td>\n      <td>0</td>\n      <td>1</td>\n    </tr>\n    <tr>\n      <th>2</th>\n      <td>33</td>\n      <td>0</td>\n      <td>2</td>\n      <td>1</td>\n      <td>1</td>\n      <td>5</td>\n      <td>NaN</td>\n      <td>76</td>\n      <td>1</td>\n      <td>-1</td>\n      <td>0</td>\n      <td>0</td>\n      <td>0</td>\n      <td>0</td>\n      <td>1</td>\n      <td>0</td>\n      <td>0</td>\n      <td>0</td>\n      <td>0</td>\n      <td>0</td>\n      <td>0</td>\n      <td>0</td>\n      <td>0</td>\n      <td>0</td>\n      <td>0</td>\n      <td>1</td>\n      <td>0</td>\n      <td>0</td>\n      <td>1</td>\n      <td>0</td>\n      <td>0</td>\n      <td>0</td>\n      <td>0</td>\n      <td>1</td>\n      <td>0</td>\n      <td>0</td>\n      <td>0</td>\n      <td>1</td>\n    </tr>\n    <tr>\n      <th>3</th>\n      <td>47</td>\n      <td>0</td>\n      <td>1506</td>\n      <td>1</td>\n      <td>0</td>\n      <td>5</td>\n      <td>NaN</td>\n      <td>92</td>\n      <td>1</td>\n      <td>-1</td>\n      <td>0</td>\n      <td>0</td>\n      <td>0</td>\n      <td>1</td>\n      <td>0</td>\n      <td>0</td>\n      <td>0</td>\n      <td>0</td>\n      <td>0</td>\n      <td>0</td>\n      <td>0</td>\n      <td>0</td>\n      <td>0</td>\n      <td>0</td>\n      <td>0</td>\n      <td>1</td>\n      <td>0</td>\n      <td>0</td>\n      <td>0</td>\n      <td>0</td>\n      <td>1</td>\n      <td>0</td>\n      <td>0</td>\n      <td>1</td>\n      <td>0</td>\n      <td>0</td>\n      <td>0</td>\n      <td>1</td>\n    </tr>\n    <tr>\n      <th>4</th>\n      <td>33</td>\n      <td>0</td>\n      <td>1</td>\n      <td>0</td>\n      <td>0</td>\n      <td>5</td>\n      <td>NaN</td>\n      <td>198</td>\n      <td>1</td>\n      <td>-1</td>\n      <td>0</td>\n      <td>0</td>\n      <td>0</td>\n      <td>0</td>\n      <td>0</td>\n      <td>0</td>\n      <td>0</td>\n      <td>0</td>\n      <td>0</td>\n      <td>0</td>\n      <td>0</td>\n      <td>0</td>\n      <td>0</td>\n      <td>1</td>\n      <td>0</td>\n      <td>0</td>\n      <td>1</td>\n      <td>0</td>\n      <td>0</td>\n      <td>0</td>\n      <td>1</td>\n      <td>0</td>\n      <td>0</td>\n      <td>1</td>\n      <td>0</td>\n      <td>0</td>\n      <td>0</td>\n      <td>1</td>\n    </tr>\n  </tbody>\n</table>\n</div>"
     },
     "execution_count": 11,
     "metadata": {},
     "output_type": "execute_result"
    }
   ],
   "source": [
    "# 月（jan, feb...）を1, 2... に置換\n",
    "\n",
    "month_dict = dict(jan=1, feb=2, mar=3, apr=4, may=5, jun=6, jul=7, aug=8, sep=9, oct=10, nov=11, dec=12)\n",
    "\n",
    "def enc_month(df, column):\n",
    "    df[column] = df[column].map(month_dict)\n",
    "    return df\n",
    "\n",
    "df_all2 = enc_month(df_all2, '最終通話月')\n",
    "\n",
    "# 結果確認\n",
    "df_all2.head()"
   ],
   "metadata": {
    "collapsed": false,
    "pycharm": {
     "name": "#%%\n"
    }
   }
  },
  {
   "cell_type": "markdown",
   "source": [
    "すべての項目が数値に。＝機械学習 Model の入力 Data ができる形"
   ],
   "metadata": {
    "collapsed": false
   }
  },
  {
   "cell_type": "code",
   "execution_count": null,
   "outputs": [],
   "source": [],
   "metadata": {
    "collapsed": false,
    "pycharm": {
     "name": "#%%\n"
    }
   }
  }
 ],
 "metadata": {
  "kernelspec": {
   "display_name": "Python 3",
   "language": "python",
   "name": "python3"
  },
  "language_info": {
   "codemirror_mode": {
    "name": "ipython",
    "version": 2
   },
   "file_extension": ".py",
   "mimetype": "text/x-python",
   "name": "python",
   "nbconvert_exporter": "python",
   "pygments_lexer": "ipython2",
   "version": "2.7.6"
  }
 },
 "nbformat": 4,
 "nbformat_minor": 0
}