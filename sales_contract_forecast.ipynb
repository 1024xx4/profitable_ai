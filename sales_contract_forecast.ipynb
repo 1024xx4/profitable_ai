{
 "cells": [
  {
   "cell_type": "markdown",
   "metadata": {
    "collapsed": true,
    "pycharm": {
     "name": "#%% md\n"
    }
   },
   "source": [
    "## 営業成約予測（分類） Model"
   ]
  },
  {
   "cell_type": "code",
   "execution_count": 1,
   "outputs": [],
   "source": [
    "# 共通事前処理\n",
    "\n",
    "# 余分な Warning を非常にする\n",
    "import warnings\n",
    "\n",
    "warnings.filterwarnings('ignore')\n",
    "\n",
    "# Library の import\n",
    "import pandas as pd\n",
    "import numpy as np\n",
    "import matplotlib.pyplot as plt\n",
    "\n",
    "# matplotlib 日本語化対応\n",
    "import japanize_matplotlib\n",
    "\n",
    "# DataFrame 表示用関数\n",
    "from IPython.display import display\n",
    "\n",
    "# 表示 Option の調整\n",
    "# NumPy の浮動小数点の表示精度\n",
    "np.set_printoptions(suppress=True, precision=4)\n",
    "# pandas での浮動小数点の表示精度\n",
    "pd.options.display.float_format = '{:.4f}'.format\n",
    "# DataFrame ですべての項目を表示\n",
    "pd.set_option('display.max_columns', None)\n",
    "# Graph の Default Font 指定\n",
    "plt.rcParams['font.size'] = 14\n",
    "# 乱数の種\n",
    "random_seed = 123"
   ],
   "metadata": {
    "collapsed": false,
    "pycharm": {
     "name": "#%%\n"
    }
   }
  },
  {
   "cell_type": "markdown",
   "source": [
    "### 公開 DataSet を DataFrame に読み込み"
   ],
   "metadata": {
    "collapsed": false,
    "pycharm": {
     "name": "#%% md\n"
    }
   }
  },
  {
   "cell_type": "code",
   "execution_count": 2,
   "outputs": [],
   "source": [
    "# 公開 Data の Download と解凍\n",
    "# !wget https://archive.ics.uci.edu/ml/machine-learning-databases/00222/bank.zip -O bank.zip | tail -n 1\n",
    "# !unzip -o bank.zip | tail -n 1"
   ],
   "metadata": {
    "collapsed": false,
    "pycharm": {
     "name": "#%%\n"
    }
   }
  },
  {
   "cell_type": "code",
   "execution_count": 3,
   "outputs": [],
   "source": [
    "# bank-full.csv を DataFrame に読み込み\n",
    "df_all = pd.read_csv('bank-full.csv', sep=';') # 項目の区切り文字が Comma ではなく SemiCoron になっている為 `sep=';'` で区切り文字を指定。"
   ],
   "metadata": {
    "collapsed": false,
    "pycharm": {
     "name": "#%%\n"
    }
   }
  },
  {
   "cell_type": "code",
   "execution_count": 4,
   "outputs": [],
   "source": [
    "# 項目名を日本語に置き換える\n",
    "columns = ['年齢', '職業', '婚姻', '学歴', '債務不履行', '平均残高', '住宅_Loan', '個人_Loan', '連絡手段', '最終通話日', '最終通話月', '最終通話秒数', '通話回数_販促中', '前回販促後_経過日数', '通話回数_販促前', '前回販促結果', '今回販促結果']\n",
    "\n",
    "df_all.columns = columns"
   ],
   "metadata": {
    "collapsed": false,
    "pycharm": {
     "name": "#%%\n"
    }
   }
  },
  {
   "cell_type": "markdown",
   "source": [
    "## DataFrame の内容確認"
   ],
   "metadata": {
    "collapsed": false,
    "pycharm": {
     "name": "#%% md\n"
    }
   }
  },
  {
   "cell_type": "code",
   "execution_count": 5,
   "outputs": [
    {
     "data": {
      "text/plain": "   年齢            職業       婚姻         学歴 債務不履行  平均残高 住宅_Loan 個人_Loan     連絡手段  \\\n0  58    management  married   tertiary    no  2143     yes      no  unknown   \n1  44    technician   single  secondary    no    29     yes      no  unknown   \n2  33  entrepreneur  married  secondary    no     2     yes     yes  unknown   \n3  47   blue-collar  married    unknown    no  1506     yes      no  unknown   \n4  33       unknown   single    unknown    no     1      no      no  unknown   \n\n   最終通話日 最終通話月  最終通話秒数  通話回数_販促中  前回販促後_経過日数  通話回数_販促前   前回販促結果 今回販促結果  \n0      5   may     261         1          -1         0  unknown     no  \n1      5   may     151         1          -1         0  unknown     no  \n2      5   may      76         1          -1         0  unknown     no  \n3      5   may      92         1          -1         0  unknown     no  \n4      5   may     198         1          -1         0  unknown     no  ",
      "text/html": "<div>\n<style scoped>\n    .dataframe tbody tr th:only-of-type {\n        vertical-align: middle;\n    }\n\n    .dataframe tbody tr th {\n        vertical-align: top;\n    }\n\n    .dataframe thead th {\n        text-align: right;\n    }\n</style>\n<table border=\"1\" class=\"dataframe\">\n  <thead>\n    <tr style=\"text-align: right;\">\n      <th></th>\n      <th>年齢</th>\n      <th>職業</th>\n      <th>婚姻</th>\n      <th>学歴</th>\n      <th>債務不履行</th>\n      <th>平均残高</th>\n      <th>住宅_Loan</th>\n      <th>個人_Loan</th>\n      <th>連絡手段</th>\n      <th>最終通話日</th>\n      <th>最終通話月</th>\n      <th>最終通話秒数</th>\n      <th>通話回数_販促中</th>\n      <th>前回販促後_経過日数</th>\n      <th>通話回数_販促前</th>\n      <th>前回販促結果</th>\n      <th>今回販促結果</th>\n    </tr>\n  </thead>\n  <tbody>\n    <tr>\n      <th>0</th>\n      <td>58</td>\n      <td>management</td>\n      <td>married</td>\n      <td>tertiary</td>\n      <td>no</td>\n      <td>2143</td>\n      <td>yes</td>\n      <td>no</td>\n      <td>unknown</td>\n      <td>5</td>\n      <td>may</td>\n      <td>261</td>\n      <td>1</td>\n      <td>-1</td>\n      <td>0</td>\n      <td>unknown</td>\n      <td>no</td>\n    </tr>\n    <tr>\n      <th>1</th>\n      <td>44</td>\n      <td>technician</td>\n      <td>single</td>\n      <td>secondary</td>\n      <td>no</td>\n      <td>29</td>\n      <td>yes</td>\n      <td>no</td>\n      <td>unknown</td>\n      <td>5</td>\n      <td>may</td>\n      <td>151</td>\n      <td>1</td>\n      <td>-1</td>\n      <td>0</td>\n      <td>unknown</td>\n      <td>no</td>\n    </tr>\n    <tr>\n      <th>2</th>\n      <td>33</td>\n      <td>entrepreneur</td>\n      <td>married</td>\n      <td>secondary</td>\n      <td>no</td>\n      <td>2</td>\n      <td>yes</td>\n      <td>yes</td>\n      <td>unknown</td>\n      <td>5</td>\n      <td>may</td>\n      <td>76</td>\n      <td>1</td>\n      <td>-1</td>\n      <td>0</td>\n      <td>unknown</td>\n      <td>no</td>\n    </tr>\n    <tr>\n      <th>3</th>\n      <td>47</td>\n      <td>blue-collar</td>\n      <td>married</td>\n      <td>unknown</td>\n      <td>no</td>\n      <td>1506</td>\n      <td>yes</td>\n      <td>no</td>\n      <td>unknown</td>\n      <td>5</td>\n      <td>may</td>\n      <td>92</td>\n      <td>1</td>\n      <td>-1</td>\n      <td>0</td>\n      <td>unknown</td>\n      <td>no</td>\n    </tr>\n    <tr>\n      <th>4</th>\n      <td>33</td>\n      <td>unknown</td>\n      <td>single</td>\n      <td>unknown</td>\n      <td>no</td>\n      <td>1</td>\n      <td>no</td>\n      <td>no</td>\n      <td>unknown</td>\n      <td>5</td>\n      <td>may</td>\n      <td>198</td>\n      <td>1</td>\n      <td>-1</td>\n      <td>0</td>\n      <td>unknown</td>\n      <td>no</td>\n    </tr>\n  </tbody>\n</table>\n</div>"
     },
     "metadata": {},
     "output_type": "display_data"
    }
   ],
   "source": [
    "display(df_all.head())"
   ],
   "metadata": {
    "collapsed": false,
    "pycharm": {
     "name": "#%%\n"
    }
   }
  },
  {
   "cell_type": "markdown",
   "source": [
    "かなりの項目値が Text Data になっている。\n",
    "機械学習 Model に入力できるような項目値が数値だけからなる Data に変換していく。"
   ],
   "metadata": {
    "collapsed": false,
    "pycharm": {
     "name": "#%% md\n"
    }
   }
  },
  {
   "cell_type": "markdown",
   "source": [
    "## Data の確認"
   ],
   "metadata": {
    "collapsed": false,
    "pycharm": {
     "name": "#%% md\n"
    }
   }
  },
  {
   "cell_type": "code",
   "execution_count": 11,
   "outputs": [
    {
     "name": "stdout",
     "output_type": "stream",
     "text": [
      "(45211, 17)\n",
      "\n",
      "no     39922\n",
      "yes     5289\n",
      "Name: 今回販促結果, dtype: int64\n",
      "\n",
      "営業成功率: 0.1170\n"
     ]
    }
   ],
   "source": [
    "# 学習 Data の件数と項目数確認\n",
    "print(df_all.shape)\n",
    "print()\n",
    "\n",
    "# 「今回販促結果」の値の分布確認\n",
    "print(df_all['今回販促結果'].value_counts())\n",
    "print()\n",
    "\n",
    "# 営業成功率\n",
    "rate = df_all['今回販促結果'].value_counts()['yes']/len(df_all)\n",
    "print(f'営業成功率: {rate:.4f}')"
   ],
   "metadata": {
    "collapsed": false,
    "pycharm": {
     "name": "#%%\n"
    }
   }
  },
  {
   "cell_type": "markdown",
   "source": [
    "## 欠損値の確認"
   ],
   "metadata": {
    "collapsed": false,
    "pycharm": {
     "name": "#%% md\n"
    }
   }
  },
  {
   "cell_type": "code",
   "execution_count": 13,
   "outputs": [
    {
     "name": "stdout",
     "output_type": "stream",
     "text": [
      "年齢            0\n",
      "職業            0\n",
      "婚姻            0\n",
      "学歴            0\n",
      "債務不履行         0\n",
      "平均残高          0\n",
      "住宅_Loan       0\n",
      "個人_Loan       0\n",
      "連絡手段          0\n",
      "最終通話日         0\n",
      "最終通話月         0\n",
      "最終通話秒数        0\n",
      "通話回数_販促中      0\n",
      "前回販促後_経過日数    0\n",
      "通話回数_販促前      0\n",
      "前回販促結果        0\n",
      "今回販促結果        0\n",
      "dtype: int64\n"
     ]
    }
   ],
   "source": [
    "# 欠損値の確認\n",
    "print(df_all.isnull().sum())"
   ],
   "metadata": {
    "collapsed": false,
    "pycharm": {
     "name": "#%%\n"
    }
   }
  },
  {
   "cell_type": "markdown",
   "source": [
    "欠損値は一切なく、対応不要。"
   ],
   "metadata": {
    "collapsed": false,
    "pycharm": {
     "name": "#%% md\n"
    }
   }
  },
  {
   "cell_type": "code",
   "execution_count": null,
   "outputs": [],
   "source": [],
   "metadata": {
    "collapsed": false,
    "pycharm": {
     "name": "#%%\n"
    }
   }
  }
 ],
 "metadata": {
  "kernelspec": {
   "display_name": "Python 3",
   "language": "python",
   "name": "python3"
  },
  "language_info": {
   "codemirror_mode": {
    "name": "ipython",
    "version": 2
   },
   "file_extension": ".py",
   "mimetype": "text/x-python",
   "name": "python",
   "nbconvert_exporter": "python",
   "pygments_lexer": "ipython2",
   "version": "2.7.6"
  }
 },
 "nbformat": 4,
 "nbformat_minor": 0
}