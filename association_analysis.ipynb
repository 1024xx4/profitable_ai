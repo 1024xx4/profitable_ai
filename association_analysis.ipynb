{
 "cells": [
  {
   "cell_type": "markdown",
   "metadata": {
    "collapsed": true,
    "pycharm": {
     "name": "#%% md\n"
    }
   },
   "source": [
    "# お薦め商品の提案（Association分析）"
   ]
  },
  {
   "cell_type": "markdown",
   "source": [
    "## 処理 Pattern と想定される業務利用 Sean\n",
    "### Association 分析\n",
    "- 大量の商品購入履歴 Data から「商品Ａと商品Ｂが同時に購入されることが多い」といった法則を見つけ出す分析手法。\n",
    "- 「商品Ａと商品Ｂを Set にして割り引き価格を設定する」といった Marketing施策を導く\n",
    "- 単価が少額の商品Ｘの仕入れを継続するか検討する時、分析の結果、高単価の商品Ｙと Set で売れており売上に貢献していることが判明。商品Ｘの仕入れを継続する判断を導く"
   ],
   "metadata": {
    "collapsed": false,
    "pycharm": {
     "name": "#%% md\n"
    }
   }
  },
  {
   "cell_type": "markdown",
   "source": [
    "## 教師なし学習（分析）の処理 Pattern\n",
    "単に分析結果を出しただけでは、AI の効果がでたことにならない。\n",
    "**得られた知見を基に、何か戦略を考え、その効果があって初めて分析の意味を持つ**\n",
    "\n",
    "### 教師あり学習との違い\n",
    "| 学習方法   | 特徴                                                                                           |\n",
    "|--------|----------------------------------------------------------------------------------------------|\n",
    "| 教師あり学習 | 正解 Data の収集が大変だが、Model構築までできれば業務での活用は比較的簡単なことが多い。                                            |\n",
    "| 教師なし学習 | 正解 Data の収集は不要なので Model構築は比較的簡単。しかし、業務での活用は「知見を基に戦略を考え、それが効果を出す」と1 Action 余分に必要なので比較的難易度が高い。 |"
   ],
   "metadata": {
    "collapsed": false,
    "pycharm": {
     "name": "#%% md\n"
    }
   }
  },
  {
   "cell_type": "markdown",
   "source": [
    "## 例題の Data 説明と Use case\n",
    "\n",
    "Data: UCI Dataset の「Online Retail Data Set 」（Online 小売り Data Set）を利用。\n",
    "イギリスを拠点とし、Gift 商品を中心に販売している EC Site の取引履歴 Data\n",
    "- 取引はまとまった単位で行なわれているので、一般顧客より小売業者が主な対象と考えられる。\n",
    "- Data 件数は総数で 54万件\n",
    "- 商品購買分析の例題でよく利用される Data.\n",
    "\n",
    "この Data からフランスの顧客からよく Set 購入されていることが商品を見つけだす。"
   ],
   "metadata": {
    "collapsed": false,
    "pycharm": {
     "name": "#%% md\n"
    }
   }
  },
  {
   "cell_type": "markdown",
   "source": [
    "## Model の概要\n",
    "Association分析で重要な概念\n",
    "- 支持度（support）\n",
    "- 確信度（confidence)\n",
    "- Lift値（lift）\n",
    "\n",
    "#### 支持度（support）\n",
    "計算の出発点になる指標値。\n",
    "**顧客全体の中で、今注目している商品を購入した顧客の比率**\n",
    "S = A/n\n",
    "S = B/n\n",
    "\n",
    "#### 確信度（confidence）\n",
    "Ａを買った人を全体とした時、そのうち何人がＢも一緒に購入したか\n",
    "S(A&B) / S(A)\n",
    "\n",
    "#### Lift値\n",
    "S(A&B) / S(A)*S(B)\n",
    "ＡとＢが独立な状態であれば Lift 値は１になる。逆に相関の関係があると Lift値は１より大きくなる。\n",
    "Lift値が高ければ高いほどＡとＢの相関は強い、ということになる。\n",
    "\n",
    "計算方法自体は、Simple だが実際には何万点、何十万点にも件数がなりえ、そうなると組み合わせの数が爆発して有限時間で計算できなくなる。\n",
    "そこで、「**支持度の閾値**」という概念がでてくる。\n",
    "\n",
    "### Association分析\n",
    "1. 探索開始時に支持度（対象事象の購入比率の下限値）を定める。\n",
    "2. この下限値より下の事象は、探索の対象から切り捨てる。（**アプリオリ分析**）\n",
    "3. 抽出した商品List から確信度、または Lift値の高い Rule を抽出する。\n",
    "\n",
    "購買履歴 -> アプリオリ分析（支持度で抽出）-> 商品List -> Rule抽出（Lift値 or 確信度で抽出）-> Association Rule\n",
    "\n",
    "アプリオリ分析の仕掛けがあるので、対象商品が沢山あっても有限時間で計算できる。\n",
    "一方、めったに売れない商品で支持度が低い場合、切り捨てられて、計算対象に入らなくなる。このため **「支持度の下限値」が Association分析で最も重要な Parameter** になる。"
   ],
   "metadata": {
    "collapsed": false,
    "pycharm": {
     "name": "#%% md\n"
    }
   }
  },
  {
   "cell_type": "code",
   "execution_count": null,
   "outputs": [],
   "source": [],
   "metadata": {
    "collapsed": false,
    "pycharm": {
     "name": "#%%\n"
    }
   }
  }
 ],
 "metadata": {
  "kernelspec": {
   "display_name": "Python 3",
   "language": "python",
   "name": "python3"
  },
  "language_info": {
   "codemirror_mode": {
    "name": "ipython",
    "version": 2
   },
   "file_extension": ".py",
   "mimetype": "text/x-python",
   "name": "python",
   "nbconvert_exporter": "python",
   "pygments_lexer": "ipython2",
   "version": "2.7.6"
  }
 },
 "nbformat": 4,
 "nbformat_minor": 0
}