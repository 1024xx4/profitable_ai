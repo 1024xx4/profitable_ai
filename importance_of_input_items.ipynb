{
 "cells": [
  {
   "cell_type": "markdown",
   "metadata": {
    "collapsed": true,
    "pycharm": {
     "name": "#%% md\n"
    }
   },
   "source": [
    "## 入力項目の重要度"
   ]
  },
  {
   "cell_type": "code",
   "execution_count": 1,
   "outputs": [],
   "source": [
    "# 余分な Warning を非表示にする\n",
    "import warnings\n",
    "\n",
    "warnings.filterwarnings('ignore')\n",
    "\n",
    "# Library の Import\n",
    "import pandas as pd\n",
    "import numpy as np\n",
    "import matplotlib.pyplot as plt\n",
    "from IPython.display import display\n",
    "import seaborn as sns\n",
    "from sklearn.ensemble import RandomForestClassifier\n",
    "\n",
    "# matplotlib 日本語化対応\n",
    "import japanize_matplotlib\n",
    "\n",
    "# 表示 Option の調整\n",
    "np.set_printoptions(suppress=True, precision=4)  # NumPy の浮動小数点の表示精度\n",
    "pd.options.display.float_format = '{:.4f}'.format  # pandas での浮動小数点の表示精度\n",
    "pd.set_option('display.max_columns', None)  # DataFrame ですべての項目を表示\n",
    "plt.rcParams['font.size'] = 14  # Graph の Default font 指定\n",
    "random_seed = 123  # 乱数の種"
   ],
   "metadata": {
    "collapsed": false,
    "pycharm": {
     "name": "#%%\n"
    }
   }
  },
  {
   "cell_type": "code",
   "execution_count": 2,
   "outputs": [
    {
     "data": {
      "text/plain": "RandomForestClassifier(random_state=123)"
     },
     "execution_count": 2,
     "metadata": {},
     "output_type": "execute_result"
    }
   ],
   "source": [
    "# Random Forest の Model を作るまで\n",
    "df_iris = sns.load_dataset('iris')\n",
    "columns_i = ['がく片長', 'がく片幅', '花弁長', '花弁幅', '種別']\n",
    "df_iris.columns = columns_i\n",
    "\n",
    "# 入力 Data x\n",
    "x = df_iris[['がく片長', 'がく片幅', '花弁長', '花弁幅']]\n",
    "\n",
    "# 正解 Data y\n",
    "y = df_iris['種別']\n",
    "\n",
    "# Algorithm の選択（Random Forest）\n",
    "algorithm = RandomForestClassifier(random_state=random_seed)\n",
    "\n",
    "# 学習\n",
    "algorithm.fit(x, y)"
   ],
   "metadata": {
    "collapsed": false,
    "pycharm": {
     "name": "#%%\n"
    }
   }
  },
  {
   "cell_type": "code",
   "execution_count": 2,
   "outputs": [],
   "source": [],
   "metadata": {
    "collapsed": false,
    "pycharm": {
     "name": "#%%\n"
    }
   }
  }
 ],
 "metadata": {
  "kernelspec": {
   "display_name": "Python 3",
   "language": "python",
   "name": "python3"
  },
  "language_info": {
   "codemirror_mode": {
    "name": "ipython",
    "version": 2
   },
   "file_extension": ".py",
   "mimetype": "text/x-python",
   "name": "python",
   "nbconvert_exporter": "python",
   "pygments_lexer": "ipython2",
   "version": "2.7.6"
  }
 },
 "nbformat": 4,
 "nbformat_minor": 0
}