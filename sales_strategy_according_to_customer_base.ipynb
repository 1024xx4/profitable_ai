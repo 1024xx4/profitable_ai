{
 "cells": [
  {
   "cell_type": "markdown",
   "metadata": {
    "collapsed": true,
    "pycharm": {
     "name": "#%% md\n"
    }
   },
   "source": [
    "# 顧客層に応じた販売戦略（Clustering, 次元圧縮）\n",
    "教師なし学習\n",
    "- Clustering\n",
    "- 次元圧縮\n",
    "\n",
    "の２つ"
   ]
  },
  {
   "cell_type": "markdown",
   "source": [
    "## 処理 Pattern と想定される業務利用 Sean\n",
    "### Clustering\n",
    "- 顧客を数学的手法に基づき Group 分けする。\n",
    "- グループ分けの根拠は分析者が後から判断しないといけないが、うまく説明がつけば各Group の特性に基づいた営業戦略を考えらえる\n",
    "\n",
    "### 次元圧縮\n",
    "- 何十次元や、何百次元のように項目数が多い入力Data を少ない次元に圧縮する数学的手法。\n",
    "- Data の行列の行（Case)の類似度で Group化するのが Clustering だとすると、列（項目）の類似度で集約するのが次元圧縮の Image.\n",
    "- 圧縮先した結果を散布図を表示することで特に重要な顧客を見つけられる可能性がある\n",
    "\n",
    "Clustering と次元圧縮はよく組み合わせて利用される。"
   ],
   "metadata": {
    "collapsed": false,
    "pycharm": {
     "name": "#%% md\n"
    }
   }
  },
  {
   "cell_type": "markdown",
   "source": [],
   "metadata": {
    "collapsed": false,
    "pycharm": {
     "name": "#%% md\n"
    }
   }
  },
  {
   "cell_type": "markdown",
   "source": [],
   "metadata": {
    "collapsed": false,
    "pycharm": {
     "name": "#%% md\n"
    }
   }
  }
 ],
 "metadata": {
  "kernelspec": {
   "display_name": "Python 3",
   "language": "python",
   "name": "python3"
  },
  "language_info": {
   "codemirror_mode": {
    "name": "ipython",
    "version": 2
   },
   "file_extension": ".py",
   "mimetype": "text/x-python",
   "name": "python",
   "nbconvert_exporter": "python",
   "pygments_lexer": "ipython2",
   "version": "2.7.6"
  }
 },
 "nbformat": 4,
 "nbformat_minor": 0
}