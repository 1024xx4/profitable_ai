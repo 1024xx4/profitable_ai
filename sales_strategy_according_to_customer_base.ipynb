{
 "cells": [
  {
   "cell_type": "code",
   "execution_count": 17,
   "outputs": [],
   "source": [
    "# 余分な Warning を非表示にする\n",
    "import warnings\n",
    "\n",
    "warnings.filterwarnings('ignore')\n",
    "\n",
    "# Library の import\n",
    "import pandas as pd\n",
    "import numpy as np\n",
    "import matplotlib.pyplot as plt\n",
    "\n",
    "# matplotlib に日本語化\n",
    "import japanize_matplotlib\n",
    "# DataFrame 表示用関数\n",
    "from IPython.display import display\n",
    "\n",
    "# Originals\n",
    "from pylab import rcParams\n",
    "from sklearn.cluster import KMeans\n",
    "\n",
    "# 表示 Option 調整\n",
    "# NumPy の浮動小数点の表示精度\n",
    "np.set_printoptions(suppress=True, precision=4)\n",
    "# pandas での浮動小数点の表示速度\n",
    "pd.options.display.float_format = '{:.4f}'.format\n",
    "# DataFrame ですべての項目を表示\n",
    "pd.set_option('display.max_columns', None)\n",
    "# Graph の Default Font 指定\n",
    "plt.rcParams['font.size'] = 14\n",
    "# 乱数の種\n",
    "random_seed = 123"
   ],
   "metadata": {
    "collapsed": false,
    "pycharm": {
     "name": "#%%\n"
    }
   }
  },
  {
   "cell_type": "markdown",
   "source": [
    "# 顧客層に応じた販売戦略（Clustering, 次元圧縮）\n",
    "教師なし学習\n",
    "- Clustering\n",
    "- 次元圧縮\n",
    "\n",
    "の２つ"
   ],
   "metadata": {
    "collapsed": false
   }
  },
  {
   "cell_type": "markdown",
   "source": [
    "## 処理 Pattern と想定される業務利用 Sean\n",
    "### Clustering\n",
    "- 顧客を数学的手法に基づき Group 分けする。\n",
    "- グループ分けの根拠は分析者が後から判断しないといけないが、うまく説明がつけば各Group の特性に基づいた営業戦略を考えらえる\n",
    "\n",
    "### 次元圧縮\n",
    "- 何十次元や、何百次元のように項目数が多い入力Data を少ない次元に圧縮する数学的手法。\n",
    "- Data の行列の行（Case)の類似度で Group化するのが Clustering だとすると、列（項目）の類似度で集約するのが次元圧縮の Image.\n",
    "- 圧縮先した結果を散布図を表示することで特に重要な顧客を見つけられる可能性がある\n",
    "\n",
    "Clustering と次元圧縮はよく組み合わせて利用される。"
   ],
   "metadata": {
    "collapsed": false
   }
  },
  {
   "cell_type": "markdown",
   "source": [
    "## 例題の Data説明と Use case\n",
    "Dataset: 「Wholesale customers Data Set」（卸売顧客 Dataset）\n",
    "全部で 440 の顧客Data が含まれる"
   ],
   "metadata": {
    "collapsed": false
   }
  },
  {
   "cell_type": "markdown",
   "source": [
    "## Model の概要\n",
    "### Clustering\n",
    "- 「分類」との違いは正解Data がない状態で学習をするか、になる。\n",
    "- 顧客 Marketing などの Use case で役立つことが多く、利用例の多い Pattern\n",
    "\n",
    "最もよく利用される Ｋ平均法（K-Means）という Algorithm を演習する\n",
    "\n",
    "### 次元圧縮\n",
    "機会学習Model の入力Data は、通常数十、場合によっては数百や数千もの項目数になる場合がある。個々の Data がどのようなものなのかを判断しづらくなるため、こうした Data の主要な部分を２次元や３次元に減らせば、散布図で表示できるので個々の Data 間の関係性を視覚的に理解しやすくなる"
   ],
   "metadata": {
    "collapsed": false
   }
  },
  {
   "cell_type": "markdown",
   "source": [
    "## Data の読み込みから Data確認まで"
   ],
   "metadata": {
    "collapsed": false
   }
  },
  {
   "cell_type": "code",
   "execution_count": 18,
   "outputs": [],
   "source": [
    "# Data 読み込み\n",
    "url = 'https://archive.ics.uci.edu/ml/machine-learning-databases/00292/Wholesale%20customers%20data.csv'\n",
    "\n",
    "df = pd.read_csv(url)\n",
    "\n",
    "# 日本語に変換\n",
    "columns = ['販売Chanel', '地域', '生鮮食品', '乳製品', '食料品', '冷凍食品', '洗剤_紙製品', '総菜']\n",
    "df.columns = columns"
   ],
   "metadata": {
    "collapsed": false,
    "pycharm": {
     "name": "#%%\n"
    }
   }
  },
  {
   "cell_type": "code",
   "execution_count": 19,
   "outputs": [
    {
     "data": {
      "text/plain": "   販売Chanel  地域   生鮮食品   乳製品   食料品  冷凍食品  洗剤_紙製品    総菜\n0         2   3  12669  9656  7561   214    2674  1338\n1         2   3   7057  9810  9568  1762    3293  1776\n2         2   3   6353  8808  7684  2405    3516  7844\n3         1   3  13265  1196  4221  6404     507  1788\n4         2   3  22615  5410  7198  3915    1777  5185",
      "text/html": "<div>\n<style scoped>\n    .dataframe tbody tr th:only-of-type {\n        vertical-align: middle;\n    }\n\n    .dataframe tbody tr th {\n        vertical-align: top;\n    }\n\n    .dataframe thead th {\n        text-align: right;\n    }\n</style>\n<table border=\"1\" class=\"dataframe\">\n  <thead>\n    <tr style=\"text-align: right;\">\n      <th></th>\n      <th>販売Chanel</th>\n      <th>地域</th>\n      <th>生鮮食品</th>\n      <th>乳製品</th>\n      <th>食料品</th>\n      <th>冷凍食品</th>\n      <th>洗剤_紙製品</th>\n      <th>総菜</th>\n    </tr>\n  </thead>\n  <tbody>\n    <tr>\n      <th>0</th>\n      <td>2</td>\n      <td>3</td>\n      <td>12669</td>\n      <td>9656</td>\n      <td>7561</td>\n      <td>214</td>\n      <td>2674</td>\n      <td>1338</td>\n    </tr>\n    <tr>\n      <th>1</th>\n      <td>2</td>\n      <td>3</td>\n      <td>7057</td>\n      <td>9810</td>\n      <td>9568</td>\n      <td>1762</td>\n      <td>3293</td>\n      <td>1776</td>\n    </tr>\n    <tr>\n      <th>2</th>\n      <td>2</td>\n      <td>3</td>\n      <td>6353</td>\n      <td>8808</td>\n      <td>7684</td>\n      <td>2405</td>\n      <td>3516</td>\n      <td>7844</td>\n    </tr>\n    <tr>\n      <th>3</th>\n      <td>1</td>\n      <td>3</td>\n      <td>13265</td>\n      <td>1196</td>\n      <td>4221</td>\n      <td>6404</td>\n      <td>507</td>\n      <td>1788</td>\n    </tr>\n    <tr>\n      <th>4</th>\n      <td>2</td>\n      <td>3</td>\n      <td>22615</td>\n      <td>5410</td>\n      <td>7198</td>\n      <td>3915</td>\n      <td>1777</td>\n      <td>5185</td>\n    </tr>\n  </tbody>\n</table>\n</div>"
     },
     "metadata": {},
     "output_type": "display_data"
    },
    {
     "name": "stdout",
     "output_type": "stream",
     "text": [
      "(440, 8)\n"
     ]
    }
   ],
   "source": [
    "# Data確認\n",
    "display(df.head())\n",
    "\n",
    "# Size 確認\n",
    "print(df.shape)"
   ],
   "metadata": {
    "collapsed": false,
    "pycharm": {
     "name": "#%%\n"
    }
   }
  },
  {
   "cell_type": "code",
   "execution_count": 20,
   "outputs": [
    {
     "name": "stdout",
     "output_type": "stream",
     "text": [
      "販売Chanel    0\n",
      "地域          0\n",
      "生鮮食品        0\n",
      "乳製品         0\n",
      "食料品         0\n",
      "冷凍食品        0\n",
      "洗剤_紙製品      0\n",
      "総菜          0\n",
      "dtype: int64\n"
     ]
    }
   ],
   "source": [
    "# 欠損値確認\n",
    "print(df.isnull().sum())"
   ],
   "metadata": {
    "collapsed": false,
    "pycharm": {
     "name": "#%%\n"
    }
   }
  },
  {
   "cell_type": "code",
   "execution_count": 21,
   "outputs": [
    {
     "name": "stdout",
     "output_type": "stream",
     "text": [
      "1    298\n",
      "2    142\n",
      "Name: 販売Chanel, dtype: int64\n",
      "\n",
      "3    316\n",
      "1     77\n",
      "2     47\n",
      "Name: 地域, dtype: int64\n"
     ]
    }
   ],
   "source": [
    "# 販売Chanel の Label値確認\n",
    "print(df['販売Chanel'].value_counts())\n",
    "print()\n",
    "\n",
    "# 地域の Label値確認\n",
    "print(df['地域'].value_counts())"
   ],
   "metadata": {
    "collapsed": false,
    "pycharm": {
     "name": "#%%\n"
    }
   }
  },
  {
   "cell_type": "markdown",
   "source": [
    "販売Chanel の Label値の意味\n",
    "1. Horeca（Hotel, Restaurant, Cafe)\n",
    "2. Retail（小売り）\n",
    "\n",
    "地域の Label値の意味\n",
    "1. Lisbon（リスボン）\n",
    "2. Oporto（オポルト or ポルト）\n",
    "3. Other Region（その他）"
   ],
   "metadata": {
    "collapsed": false,
    "pycharm": {
     "name": "#%% md\n"
    }
   }
  },
  {
   "cell_type": "code",
   "execution_count": 22,
   "outputs": [
    {
     "data": {
      "text/plain": "<Figure size 576x576 with 6 Axes>",
      "image/png": "[encoded data removed]"
     },
     "metadata": {
      "needs_background": "light"
     },
     "output_type": "display_data"
    }
   ],
   "source": [
    "# 販売Chanel と地域を落とした Data を作る\n",
    "df2 = df.drop(['販売Chanel', '地域'], axis=1)\n",
    "\n",
    "# 分析対象項目の Histogram 表示\n",
    "rcParams['figure.figsize'] = (8, 8)\n",
    "df2.hist(bins=20)\n",
    "plt.tight_layout()\n",
    "plt.show()"
   ],
   "metadata": {
    "collapsed": false,
    "pycharm": {
     "name": "#%%\n"
    }
   }
  },
  {
   "cell_type": "markdown",
   "source": [
    "Histogram の結果から６項目のすべてで、１番購入価格の低い Group の購入頻度が最も多く、購入価格が上がるについれ徐々に件数が減っていく形になっていることがわかった。"
   ],
   "metadata": {
    "collapsed": false,
    "pycharm": {
     "name": "#%% md\n"
    }
   }
  },
  {
   "cell_type": "markdown",
   "source": [
    "## Clustering の実施"
   ],
   "metadata": {
    "collapsed": false,
    "pycharm": {
     "name": "#%% md\n"
    }
   }
  },
  {
   "cell_type": "code",
   "execution_count": 23,
   "outputs": [],
   "source": [
    "# Data 前処理と Data 分割は不要\n",
    "\n",
    "# Group 数を定義\n",
    "clusters = 4\n",
    "\n",
    "# Algorithm の定義\n",
    "algorithm = KMeans(n_clusters=clusters, random_state=random_seed)"
   ],
   "metadata": {
    "collapsed": false,
    "pycharm": {
     "name": "#%%\n"
    }
   }
  },
  {
   "cell_type": "markdown",
   "source": [
    "Algorithm は、Clustering で最も一般的に使用されているＫ平均法（k-Means）を採用。\n",
    "※ Ｋ平均法の注意点として、初期設定の段階で分類後の Group数を決める必要がある。（引数`n_clusters=`で指定）"
   ],
   "metadata": {
    "collapsed": false,
    "pycharm": {
     "name": "#%% md\n"
    }
   }
  },
  {
   "cell_type": "code",
   "execution_count": 24,
   "outputs": [
    {
     "name": "stdout",
     "output_type": "stream",
     "text": [
      "[1 2 1 1 0 1 1 1 1 2 2 1 0 2 0 1 2 1 1 1]\n"
     ]
    }
   ],
   "source": [
    "# 学習、予測の実施\n",
    "y_pred = algorithm.fit_predict(df2)\n",
    "\n",
    "# 結果の一部確認\n",
    "print(y_pred[:20])"
   ],
   "metadata": {
    "collapsed": false,
    "pycharm": {
     "name": "#%%\n"
    }
   }
  },
  {
   "cell_type": "markdown",
   "source": [
    "## Clustering 結果の分析\n",
    "\n",
    "#### Group 別の平均値を計算\n",
    "最初に Group ごとの各項目の平均値を計算し、各 Group の特徴を調べる"
   ],
   "metadata": {
    "collapsed": false,
    "pycharm": {
     "name": "#%% md\n"
    }
   }
  },
  {
   "cell_type": "code",
   "execution_count": 25,
   "outputs": [
    {
     "data": {
      "text/plain": "        生鮮食品        乳製品        食料品      冷凍食品     洗剤_紙製品        総菜\n0 36144.4828  5471.4655  6128.7931 6298.6552  1064.0000 2316.7241\n1  9087.4638  3027.4275  3753.5145 2817.9855  1003.0036 1040.5254\n2  4808.8421 10525.0105 16909.7895 1462.5895  7302.4000 1650.8842\n3 19888.2727 36142.3636 45517.4545 6328.9091 21417.0909 8414.0000",
      "text/html": "<div>\n<style scoped>\n    .dataframe tbody tr th:only-of-type {\n        vertical-align: middle;\n    }\n\n    .dataframe tbody tr th {\n        vertical-align: top;\n    }\n\n    .dataframe thead th {\n        text-align: right;\n    }\n</style>\n<table border=\"1\" class=\"dataframe\">\n  <thead>\n    <tr style=\"text-align: right;\">\n      <th></th>\n      <th>生鮮食品</th>\n      <th>乳製品</th>\n      <th>食料品</th>\n      <th>冷凍食品</th>\n      <th>洗剤_紙製品</th>\n      <th>総菜</th>\n    </tr>\n  </thead>\n  <tbody>\n    <tr>\n      <th>0</th>\n      <td>36144.4828</td>\n      <td>5471.4655</td>\n      <td>6128.7931</td>\n      <td>6298.6552</td>\n      <td>1064.0000</td>\n      <td>2316.7241</td>\n    </tr>\n    <tr>\n      <th>1</th>\n      <td>9087.4638</td>\n      <td>3027.4275</td>\n      <td>3753.5145</td>\n      <td>2817.9855</td>\n      <td>1003.0036</td>\n      <td>1040.5254</td>\n    </tr>\n    <tr>\n      <th>2</th>\n      <td>4808.8421</td>\n      <td>10525.0105</td>\n      <td>16909.7895</td>\n      <td>1462.5895</td>\n      <td>7302.4000</td>\n      <td>1650.8842</td>\n    </tr>\n    <tr>\n      <th>3</th>\n      <td>19888.2727</td>\n      <td>36142.3636</td>\n      <td>45517.4545</td>\n      <td>6328.9091</td>\n      <td>21417.0909</td>\n      <td>8414.0000</td>\n    </tr>\n  </tbody>\n</table>\n</div>"
     },
     "metadata": {},
     "output_type": "display_data"
    }
   ],
   "source": [
    "# Group ごとの平均計算\n",
    "df_cluster = df2.groupby(y_pred).mean()\n",
    "display(df_cluster)"
   ],
   "metadata": {
    "collapsed": false,
    "pycharm": {
     "name": "#%%\n"
    }
   }
  },
  {
   "cell_type": "markdown",
   "source": [
    "#### Group 別の Graph 表示\n",
    "数字の羅列だとまだ傾向をつかみにくいので、結果を Graph にしてみる"
   ],
   "metadata": {
    "collapsed": false,
    "pycharm": {
     "name": "#%% md\n"
    }
   }
  },
  {
   "cell_type": "code",
   "execution_count": 26,
   "outputs": [
    {
     "data": {
      "text/plain": "<Figure size 720x432 with 1 Axes>",
      "image/png": "[encoded data removed]"
     },
     "metadata": {
      "needs_background": "light"
     },
     "output_type": "display_data"
    }
   ],
   "source": [
    "# Group 別の棒Graph 表示\n",
    "df_cluster.plot(kind='bar', stacked=True, figsize=(10, 6), colormap='jet')\n",
    "plt.show()"
   ],
   "metadata": {
    "collapsed": false,
    "pycharm": {
     "name": "#%%\n"
    }
   }
  },
  {
   "cell_type": "markdown",
   "source": [
    "#### Group の傾向\n",
    "- Group0: 生鮮食品の比率が高くなっているので「生鮮Group」\n",
    "- Group1: すべての項目で購入金額が少ないので「少量Group」\n",
    "- Group2: 食料品の比率が高いので「食品Group」\n",
    "- Group3: 全体的に購入金額が高い「大量Group」\n",
    "\n",
    "と考える。"
   ],
   "metadata": {
    "collapsed": false,
    "pycharm": {
     "name": "#%% md\n"
    }
   }
  },
  {
   "cell_type": "markdown",
   "source": [
    "今回の結果で最も特徴的なのは「生鮮Group」（Group0)。\n",
    "全体購入数額は「大量Group」と比較して相当少額であるにもかかわらず、生鮮食品の購入額は２倍近くあり、生鮮食品に対する志向が相当強そうである。\n",
    "この顧客層に向けて、生鮮食品の特売日を増やすなどの戦略が考えられる。"
   ],
   "metadata": {
    "collapsed": false,
    "pycharm": {
     "name": "#%% md\n"
    }
   }
  },
  {
   "cell_type": "markdown",
   "source": [
    "#### Group と販売Chanel, 地域の関係"
   ],
   "metadata": {
    "collapsed": false,
    "pycharm": {
     "name": "#%% md\n"
    }
   }
  },
  {
   "cell_type": "code",
   "execution_count": 27,
   "outputs": [
    {
     "name": "stdout",
     "output_type": "stream",
     "text": [
      "==== Group: 0 ====\n"
     ]
    },
    {
     "data": {
      "text/plain": "<Figure size 432x216 with 2 Axes>",
      "image/png": "[encoded data removed]"
     },
     "metadata": {
      "needs_background": "light"
     },
     "output_type": "display_data"
    },
    {
     "name": "stdout",
     "output_type": "stream",
     "text": [
      "==== Group: 1 ====\n"
     ]
    },
    {
     "data": {
      "text/plain": "<Figure size 432x216 with 2 Axes>",
      "image/png": "[encoded data removed]"
     },
     "metadata": {
      "needs_background": "light"
     },
     "output_type": "display_data"
    },
    {
     "name": "stdout",
     "output_type": "stream",
     "text": [
      "==== Group: 2 ====\n"
     ]
    },
    {
     "data": {
      "text/plain": "<Figure size 432x216 with 2 Axes>",
      "image/png": "[encoded data removed]"
     },
     "metadata": {
      "needs_background": "light"
     },
     "output_type": "display_data"
    },
    {
     "name": "stdout",
     "output_type": "stream",
     "text": [
      "==== Group: 3 ====\n"
     ]
    },
    {
     "data": {
      "text/plain": "<Figure size 432x216 with 2 Axes>",
      "image/png": "[encoded data removed]"
     },
     "metadata": {
      "needs_background": "light"
     },
     "output_type": "display_data"
    }
   ],
   "source": [
    "# Group と、Chanel, 地域の関係を調べる\n",
    "\n",
    "# 販売Chanel と地域のみを df3 に抽出\n",
    "df3 = df[['販売Chanel', '地域']]\n",
    "\n",
    "# Graph の大きさ設定\n",
    "rcParams['figure.figsize'] = (6, 3)\n",
    "\n",
    "# Group ごとの Graph 表示\n",
    "for i in range(clusters):\n",
    "    fig, ax = plt.subplots()\n",
    "    w = df3[y_pred==i]\n",
    "    print(f'==== Group: {i} ====')\n",
    "    w.hist(ax=ax)\n",
    "    plt.tight_layout()\n",
    "    plt.show()"
   ],
   "metadata": {
    "collapsed": false,
    "pycharm": {
     "name": "#%%\n"
    }
   }
  },
  {
   "cell_type": "markdown",
   "source": [
    "- Group0（生鮮）と Group1（少量）は、販売Chanel_1（Hotel, Restaurant, Cafe）と関連性が高い\n",
    "- Group2（食品）と Group3（大量）は、販売Chanel_2(小売り）と関連性が深い\n",
    "- 地域と Group の関連は特に見いだせない"
   ],
   "metadata": {
    "collapsed": false,
    "pycharm": {
     "name": "#%% md\n"
    }
   }
  },
  {
   "cell_type": "markdown",
   "source": [
    "## 次元圧縮の実施"
   ],
   "metadata": {
    "collapsed": false,
    "pycharm": {
     "name": "#%% md\n"
    }
   }
  },
  {
   "cell_type": "code",
   "execution_count": 28,
   "outputs": [],
   "source": [
    "# Algorithm の選択\n",
    "from sklearn.decomposition import PCA\n",
    "\n",
    "# Model生成\n",
    "# 散布図表示が目的のため２次元に圧縮\n",
    "pca = PCA(n_components=2)"
   ],
   "metadata": {
    "collapsed": false,
    "pycharm": {
     "name": "#%%\n"
    }
   }
  },
  {
   "cell_type": "markdown",
   "source": [
    "最も標準的に利用されている「PCA(Principal Component Analysis, 和訳: 主成分分析)」という Algorithm を利用する。"
   ],
   "metadata": {
    "collapsed": false,
    "pycharm": {
     "name": "#%% md\n"
    }
   }
  },
  {
   "cell_type": "code",
   "execution_count": 29,
   "outputs": [
    {
     "name": "stdout",
     "output_type": "stream",
     "text": [
      "[[  650.0221  1585.5191]\n",
      " [-4426.805   4042.4515]\n",
      " [-4841.9987  2578.7622]\n",
      " [  990.3464 -6279.806 ]\n",
      " [10657.9987 -2159.7258]]\n"
     ]
    }
   ],
   "source": [
    "# 学習・変換の実施\n",
    "d2 = pca.fit_transform(df2)\n",
    "\n",
    "# 結果の一部表示\n",
    "print(d2[:5,:])"
   ],
   "metadata": {
    "collapsed": false,
    "pycharm": {
     "name": "#%%\n"
    }
   }
  },
  {
   "cell_type": "markdown",
   "source": [
    "学習と変換を行なった２次元 Data を確認。"
   ],
   "metadata": {
    "collapsed": false,
    "pycharm": {
     "name": "#%% md\n"
    }
   }
  },
  {
   "cell_type": "markdown",
   "source": [
    "## 次元圧縮の活用方法\n",
    "\n",
    "#### 散布図表示\n",
    "圧縮した２次元 Data を Clustering の分類結果も含めれば、各Group の特徴をより深く理解できると仮定。"
   ],
   "metadata": {
    "collapsed": false,
    "pycharm": {
     "name": "#%% md\n"
    }
   }
  },
  {
   "cell_type": "code",
   "execution_count": 30,
   "outputs": [
    {
     "data": {
      "text/plain": "<Figure size 576x576 with 1 Axes>",
      "image/png": "[encoded data removed]"
     },
     "metadata": {
      "needs_background": "light"
     },
     "output_type": "display_data"
    }
   ],
   "source": [
    "# Groupごとに色分けし散布図表示\n",
    "\n",
    "plt.figure(figsize=(8, 8))\n",
    "marks = ['.', '+', 'x', '*']\n",
    "labels = ['生鮮', '少量', '食品', '大量']\n",
    "colors = ['gray', 'lightblue', 'blue', 'black']\n",
    "for i in range(clusters):\n",
    "    plt.scatter(d2[y_pred == i][:, 0], d2[y_pred == i][:, 1], marker=marks[i], label=labels[i], s=100, c=colors[i])\n",
    "\n",
    "plt.legend(fontsize=14)\n",
    "plt.show()"
   ],
   "metadata": {
    "collapsed": false,
    "pycharm": {
     "name": "#%%\n"
    }
   }
  },
  {
   "cell_type": "markdown",
   "source": [
    "少量Group: 元々小さい Group なので、１カ所に集中している。\n",
    "食品Group: ある程度まとまった状態。\n",
    "大量Group: 食品グループの延長線上にあり、単に全体金額が大きいGroupと判断できそう\n",
    "\n",
    "今回の散布図の結果と各 Group と販売Chanel の関係を併せて検討してみると同じ販売Chanelとの関連が深い\n",
    "1. 「少量Group」から「生鮮Group」\n",
    "2. 「食品Group」から「大量Group」\n",
    "\n",
    "それぞれの遷移は起こりやすいと考えらる。\n",
    "\n",
    "同じ分析を複数年で行ない、このような遷移をした顧客が実際にあったと仮定。かつ、この顧客が遷移した理由が、深堀りした調査で判明した場合は、他の顧客にも同じ働きかけをして矢印で示した遷移を実現できれば、収益の増大を図れる可能性が出てくる。"
   ],
   "metadata": {
    "collapsed": false,
    "pycharm": {
     "name": "#%% md\n"
    }
   }
  },
  {
   "cell_type": "markdown",
   "source": [
    "#### 例外値の調査\n",
    "Group 内の Data 個々の状態を視覚化できるのも、次元圧縮で得られる知見の１つ。"
   ],
   "metadata": {
    "collapsed": false,
    "pycharm": {
     "name": "#%% md\n"
    }
   }
  },
  {
   "cell_type": "code",
   "execution_count": 31,
   "outputs": [
    {
     "data": {
      "text/plain": "     販売Chanel  地域    生鮮食品    乳製品    食料品   冷凍食品  洗剤_紙製品    総菜\n181         1   3  112151  29627  18148  16745    4948  8550",
      "text/html": "<div>\n<style scoped>\n    .dataframe tbody tr th:only-of-type {\n        vertical-align: middle;\n    }\n\n    .dataframe tbody tr th {\n        vertical-align: top;\n    }\n\n    .dataframe thead th {\n        text-align: right;\n    }\n</style>\n<table border=\"1\" class=\"dataframe\">\n  <thead>\n    <tr style=\"text-align: right;\">\n      <th></th>\n      <th>販売Chanel</th>\n      <th>地域</th>\n      <th>生鮮食品</th>\n      <th>乳製品</th>\n      <th>食料品</th>\n      <th>冷凍食品</th>\n      <th>洗剤_紙製品</th>\n      <th>総菜</th>\n    </tr>\n  </thead>\n  <tbody>\n    <tr>\n      <th>181</th>\n      <td>1</td>\n      <td>3</td>\n      <td>112151</td>\n      <td>29627</td>\n      <td>18148</td>\n      <td>16745</td>\n      <td>4948</td>\n      <td>8550</td>\n    </tr>\n  </tbody>\n</table>\n</div>"
     },
     "metadata": {},
     "output_type": "display_data"
    }
   ],
   "source": [
    "# 生鮮 Group の例外値を調べる\n",
    "display(df[d2[:,0] > 100_000])"
   ],
   "metadata": {
    "collapsed": false,
    "pycharm": {
     "name": "#%%\n"
    }
   }
  },
  {
   "cell_type": "markdown",
   "source": [
    "- 生鮮食品の値が11万以上と非常に大きくなっている。\n",
    "- Histogram と見比べると、最大の可能性である。"
   ],
   "metadata": {
    "collapsed": false,
    "pycharm": {
     "name": "#%% md\n"
    }
   }
  },
  {
   "cell_type": "code",
   "execution_count": 34,
   "outputs": [
    {
     "data": {
      "text/plain": "    販売Chanel  地域   生鮮食品    乳製品    食料品  冷凍食品  洗剤_紙製品    総菜\n85         2   3  16117  46197  92780  1026   40827  2944",
      "text/html": "<div>\n<style scoped>\n    .dataframe tbody tr th:only-of-type {\n        vertical-align: middle;\n    }\n\n    .dataframe tbody tr th {\n        vertical-align: top;\n    }\n\n    .dataframe thead th {\n        text-align: right;\n    }\n</style>\n<table border=\"1\" class=\"dataframe\">\n  <thead>\n    <tr style=\"text-align: right;\">\n      <th></th>\n      <th>販売Chanel</th>\n      <th>地域</th>\n      <th>生鮮食品</th>\n      <th>乳製品</th>\n      <th>食料品</th>\n      <th>冷凍食品</th>\n      <th>洗剤_紙製品</th>\n      <th>総菜</th>\n    </tr>\n  </thead>\n  <tbody>\n    <tr>\n      <th>85</th>\n      <td>2</td>\n      <td>3</td>\n      <td>16117</td>\n      <td>46197</td>\n      <td>92780</td>\n      <td>1026</td>\n      <td>40827</td>\n      <td>2944</td>\n    </tr>\n  </tbody>\n</table>\n</div>"
     },
     "metadata": {},
     "output_type": "display_data"
    }
   ],
   "source": [
    "# 大量 Group の例外値を調べる\n",
    "# Graph から「y成分の値 > 80,000」という条件を抽出する\n",
    "display(df[d2[:,1] > 80_000])"
   ],
   "metadata": {
    "collapsed": false,
    "pycharm": {
     "name": "#%%\n"
    }
   }
  },
  {
   "cell_type": "markdown",
   "source": [
    "Histogram と比較すると\n",
    "- 食料品\n",
    "- 洗剤_紙製品\n",
    "\n",
    "の購入額が非常に高いことがわかる。"
   ],
   "metadata": {
    "collapsed": false,
    "pycharm": {
     "name": "#%% md\n"
    }
   }
  },
  {
   "cell_type": "markdown",
   "source": [
    "統計情報を調べ、今後の予想の裏付けをしていく。"
   ],
   "metadata": {
    "collapsed": false,
    "pycharm": {
     "name": "#%% md\n"
    }
   }
  },
  {
   "cell_type": "code",
   "execution_count": 35,
   "outputs": [
    {
     "data": {
      "text/plain": "             生鮮食品        乳製品        食料品       冷凍食品     洗剤_紙製品         総菜\ncount    440.0000   440.0000   440.0000   440.0000   440.0000   440.0000\nmean   12000.2977  5796.2659  7951.2773  3071.9318  2881.4932  1524.8705\nstd    12647.3289  7380.3772  9503.1628  4854.6733  4767.8544  2820.1059\nmin        3.0000    55.0000     3.0000    25.0000     3.0000     3.0000\n25%     3127.7500  1533.0000  2153.0000   742.2500   256.7500   408.2500\n50%     8504.0000  3627.0000  4755.5000  1526.0000   816.5000   965.5000\n75%    16933.7500  7190.2500 10655.7500  3554.2500  3922.0000  1820.2500\nmax   112151.0000 73498.0000 92780.0000 60869.0000 40827.0000 47943.0000",
      "text/html": "<div>\n<style scoped>\n    .dataframe tbody tr th:only-of-type {\n        vertical-align: middle;\n    }\n\n    .dataframe tbody tr th {\n        vertical-align: top;\n    }\n\n    .dataframe thead th {\n        text-align: right;\n    }\n</style>\n<table border=\"1\" class=\"dataframe\">\n  <thead>\n    <tr style=\"text-align: right;\">\n      <th></th>\n      <th>生鮮食品</th>\n      <th>乳製品</th>\n      <th>食料品</th>\n      <th>冷凍食品</th>\n      <th>洗剤_紙製品</th>\n      <th>総菜</th>\n    </tr>\n  </thead>\n  <tbody>\n    <tr>\n      <th>count</th>\n      <td>440.0000</td>\n      <td>440.0000</td>\n      <td>440.0000</td>\n      <td>440.0000</td>\n      <td>440.0000</td>\n      <td>440.0000</td>\n    </tr>\n    <tr>\n      <th>mean</th>\n      <td>12000.2977</td>\n      <td>5796.2659</td>\n      <td>7951.2773</td>\n      <td>3071.9318</td>\n      <td>2881.4932</td>\n      <td>1524.8705</td>\n    </tr>\n    <tr>\n      <th>std</th>\n      <td>12647.3289</td>\n      <td>7380.3772</td>\n      <td>9503.1628</td>\n      <td>4854.6733</td>\n      <td>4767.8544</td>\n      <td>2820.1059</td>\n    </tr>\n    <tr>\n      <th>min</th>\n      <td>3.0000</td>\n      <td>55.0000</td>\n      <td>3.0000</td>\n      <td>25.0000</td>\n      <td>3.0000</td>\n      <td>3.0000</td>\n    </tr>\n    <tr>\n      <th>25%</th>\n      <td>3127.7500</td>\n      <td>1533.0000</td>\n      <td>2153.0000</td>\n      <td>742.2500</td>\n      <td>256.7500</td>\n      <td>408.2500</td>\n    </tr>\n    <tr>\n      <th>50%</th>\n      <td>8504.0000</td>\n      <td>3627.0000</td>\n      <td>4755.5000</td>\n      <td>1526.0000</td>\n      <td>816.5000</td>\n      <td>965.5000</td>\n    </tr>\n    <tr>\n      <th>75%</th>\n      <td>16933.7500</td>\n      <td>7190.2500</td>\n      <td>10655.7500</td>\n      <td>3554.2500</td>\n      <td>3922.0000</td>\n      <td>1820.2500</td>\n    </tr>\n    <tr>\n      <th>max</th>\n      <td>112151.0000</td>\n      <td>73498.0000</td>\n      <td>92780.0000</td>\n      <td>60869.0000</td>\n      <td>40827.0000</td>\n      <td>47943.0000</td>\n    </tr>\n  </tbody>\n</table>\n</div>"
     },
     "metadata": {},
     "output_type": "display_data"
    }
   ],
   "source": [
    "# 統計情報確認\n",
    "display(df2.describe())"
   ],
   "metadata": {
    "collapsed": false,
    "pycharm": {
     "name": "#%%\n"
    }
   }
  },
  {
   "cell_type": "markdown",
   "source": [
    "- Index: 181 の顧客は「生鮮食品」\n",
    "- Index: 85  の顧客は「食料品」と「洗剤_紙製品」\n",
    "\n",
    "の最大値であった。\n",
    "\n",
    "Approach:\n",
    "1. **Noise になる可能性を考え除いて再度分析を行なう。**\n",
    "ある程度まとまった層を Target とする Clustering の場合に特異な事例は他の Group member を分析する際の Noise になる可能性がある為。\n",
    "※ 次元圧縮の結果に基づく散布図表示は、分析の Noise になる特異な事象を検出する用途でも活用できる。\n",
    "\n",
    "\n",
    "2. **「超重要顧客」として戸別訪問して注文の取り付け、商品配送を行なう。**\n",
    "Business の観点では平均的な顧客と比較して大量に購入している「超重要顧客」として扱い、より購入金額が増えるこもしれない為。\n",
    "※ 次元圧縮は、顧客個別の戦略を考える際の手がかりも提供してくれる。"
   ],
   "metadata": {
    "collapsed": false,
    "pycharm": {
     "name": "#%% md\n"
    }
   }
  },
  {
   "cell_type": "code",
   "execution_count": null,
   "outputs": [],
   "source": [],
   "metadata": {
    "collapsed": false,
    "pycharm": {
     "name": "#%%\n"
    }
   }
  }
 ],
 "metadata": {
  "kernelspec": {
   "display_name": "Python 3",
   "language": "python",
   "name": "python3"
  },
  "language_info": {
   "codemirror_mode": {
    "name": "ipython",
    "version": 2
   },
   "file_extension": ".py",
   "mimetype": "text/x-python",
   "name": "python",
   "nbconvert_exporter": "python",
   "pygments_lexer": "ipython2",
   "version": "2.7.6"
  }
 },
 "nbformat": 4,
 "nbformat_minor": 0
}