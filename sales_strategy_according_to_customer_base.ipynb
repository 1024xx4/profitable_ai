{
 "cells": [
  {
   "cell_type": "code",
   "execution_count": 11,
   "outputs": [],
   "source": [
    "# 余分な Warning を非表示にする\n",
    "import warnings\n",
    "\n",
    "warnings.filterwarnings('ignore')\n",
    "\n",
    "# Library の import\n",
    "import pandas as pd\n",
    "import numpy as np\n",
    "import matplotlib.pyplot as plt\n",
    "\n",
    "# matplotlib に日本語化\n",
    "import japanize_matplotlib\n",
    "\n",
    "# DataFrame 表示用関数\n",
    "from IPython.display import display\n",
    "\n",
    "# Originals\n",
    "from pylab import rcParams\n",
    "from sklearn.cluster import KMeans\n",
    "\n",
    "# 表示 Option 調整\n",
    "# NumPy の浮動小数点の表示精度\n",
    "np.set_printoptions(suppress=True, precision=4)\n",
    "# pandas での浮動小数点の表示速度\n",
    "pd.options.display.float_format = '{:.4f}'.format\n",
    "# DataFrame ですべての項目を表示\n",
    "pd.set_option('display.max_columns', None)\n",
    "# Graph の Default Font 指定\n",
    "plt.rcParams['font.size'] = 14\n",
    "# 乱数の種\n",
    "random_seed = 123"
   ],
   "metadata": {
    "collapsed": false,
    "pycharm": {
     "name": "#%%\n"
    }
   }
  },
  {
   "cell_type": "markdown",
   "source": [
    "# 顧客層に応じた販売戦略（Clustering, 次元圧縮）\n",
    "教師なし学習\n",
    "- Clustering\n",
    "- 次元圧縮\n",
    "\n",
    "の２つ"
   ],
   "metadata": {
    "collapsed": false
   }
  },
  {
   "cell_type": "markdown",
   "source": [
    "## 処理 Pattern と想定される業務利用 Sean\n",
    "### Clustering\n",
    "- 顧客を数学的手法に基づき Group 分けする。\n",
    "- グループ分けの根拠は分析者が後から判断しないといけないが、うまく説明がつけば各Group の特性に基づいた営業戦略を考えらえる\n",
    "\n",
    "### 次元圧縮\n",
    "- 何十次元や、何百次元のように項目数が多い入力Data を少ない次元に圧縮する数学的手法。\n",
    "- Data の行列の行（Case)の類似度で Group化するのが Clustering だとすると、列（項目）の類似度で集約するのが次元圧縮の Image.\n",
    "- 圧縮先した結果を散布図を表示することで特に重要な顧客を見つけられる可能性がある\n",
    "\n",
    "Clustering と次元圧縮はよく組み合わせて利用される。"
   ],
   "metadata": {
    "collapsed": false
   }
  },
  {
   "cell_type": "markdown",
   "source": [
    "## 例題の Data説明と Use case\n",
    "Dataset: 「Wholesale customers Data Set」（卸売顧客 Dataset）\n",
    "全部で 440 の顧客Data が含まれる"
   ],
   "metadata": {
    "collapsed": false
   }
  },
  {
   "cell_type": "markdown",
   "source": [
    "## Model の概要\n",
    "### Clustering\n",
    "- 「分類」との違いは正解Data がない状態で学習をするか、になる。\n",
    "- 顧客 Marketing などの Use case で役立つことが多く、利用例の多い Pattern\n",
    "\n",
    "最もよく利用される Ｋ平均法（K-Means）という Algorithm を演習する\n",
    "\n",
    "### 次元圧縮\n",
    "機会学習Model の入力Data は、通常数十、場合によっては数百や数千もの項目数になる場合がある。個々の Data がどのようなものなのかを判断しづらくなるため、こうした Data の主要な部分を２次元や３次元に減らせば、散布図で表示できるので個々の Data 間の関係性を視覚的に理解しやすくなる"
   ],
   "metadata": {
    "collapsed": false
   }
  },
  {
   "cell_type": "markdown",
   "source": [
    "## Data の読み込みから Data確認まで"
   ],
   "metadata": {
    "collapsed": false
   }
  },
  {
   "cell_type": "code",
   "execution_count": 12,
   "outputs": [],
   "source": [
    "# Data 読み込み\n",
    "url = 'https://archive.ics.uci.edu/ml/machine-learning-databases/00292/Wholesale%20customers%20data.csv'\n",
    "\n",
    "df = pd.read_csv(url)\n",
    "\n",
    "# 日本語に変換\n",
    "columns = ['販売Chanel', '地域', '生鮮食品', '乳製品', '食料品', '冷凍食品', '洗剤_紙製品', '総菜']\n",
    "df.columns = columns"
   ],
   "metadata": {
    "collapsed": false,
    "pycharm": {
     "name": "#%%\n"
    }
   }
  },
  {
   "cell_type": "code",
   "execution_count": 13,
   "outputs": [
    {
     "data": {
      "text/plain": "   販売Chanel  地域   生鮮食品   乳製品   食料品  冷凍食品  洗剤_紙製品    総菜\n0         2   3  12669  9656  7561   214    2674  1338\n1         2   3   7057  9810  9568  1762    3293  1776\n2         2   3   6353  8808  7684  2405    3516  7844\n3         1   3  13265  1196  4221  6404     507  1788\n4         2   3  22615  5410  7198  3915    1777  5185",
      "text/html": "<div>\n<style scoped>\n    .dataframe tbody tr th:only-of-type {\n        vertical-align: middle;\n    }\n\n    .dataframe tbody tr th {\n        vertical-align: top;\n    }\n\n    .dataframe thead th {\n        text-align: right;\n    }\n</style>\n<table border=\"1\" class=\"dataframe\">\n  <thead>\n    <tr style=\"text-align: right;\">\n      <th></th>\n      <th>販売Chanel</th>\n      <th>地域</th>\n      <th>生鮮食品</th>\n      <th>乳製品</th>\n      <th>食料品</th>\n      <th>冷凍食品</th>\n      <th>洗剤_紙製品</th>\n      <th>総菜</th>\n    </tr>\n  </thead>\n  <tbody>\n    <tr>\n      <th>0</th>\n      <td>2</td>\n      <td>3</td>\n      <td>12669</td>\n      <td>9656</td>\n      <td>7561</td>\n      <td>214</td>\n      <td>2674</td>\n      <td>1338</td>\n    </tr>\n    <tr>\n      <th>1</th>\n      <td>2</td>\n      <td>3</td>\n      <td>7057</td>\n      <td>9810</td>\n      <td>9568</td>\n      <td>1762</td>\n      <td>3293</td>\n      <td>1776</td>\n    </tr>\n    <tr>\n      <th>2</th>\n      <td>2</td>\n      <td>3</td>\n      <td>6353</td>\n      <td>8808</td>\n      <td>7684</td>\n      <td>2405</td>\n      <td>3516</td>\n      <td>7844</td>\n    </tr>\n    <tr>\n      <th>3</th>\n      <td>1</td>\n      <td>3</td>\n      <td>13265</td>\n      <td>1196</td>\n      <td>4221</td>\n      <td>6404</td>\n      <td>507</td>\n      <td>1788</td>\n    </tr>\n    <tr>\n      <th>4</th>\n      <td>2</td>\n      <td>3</td>\n      <td>22615</td>\n      <td>5410</td>\n      <td>7198</td>\n      <td>3915</td>\n      <td>1777</td>\n      <td>5185</td>\n    </tr>\n  </tbody>\n</table>\n</div>"
     },
     "metadata": {},
     "output_type": "display_data"
    },
    {
     "name": "stdout",
     "output_type": "stream",
     "text": [
      "(440, 8)\n"
     ]
    }
   ],
   "source": [
    "# Data確認\n",
    "display(df.head())\n",
    "\n",
    "# Size 確認\n",
    "print(df.shape)"
   ],
   "metadata": {
    "collapsed": false,
    "pycharm": {
     "name": "#%%\n"
    }
   }
  },
  {
   "cell_type": "code",
   "execution_count": 14,
   "outputs": [
    {
     "name": "stdout",
     "output_type": "stream",
     "text": [
      "販売Chanel    0\n",
      "地域          0\n",
      "生鮮食品        0\n",
      "乳製品         0\n",
      "食料品         0\n",
      "冷凍食品        0\n",
      "洗剤_紙製品      0\n",
      "総菜          0\n",
      "dtype: int64\n"
     ]
    }
   ],
   "source": [
    "# 欠損値確認\n",
    "print(df.isnull().sum())"
   ],
   "metadata": {
    "collapsed": false,
    "pycharm": {
     "name": "#%%\n"
    }
   }
  },
  {
   "cell_type": "code",
   "execution_count": 15,
   "outputs": [
    {
     "name": "stdout",
     "output_type": "stream",
     "text": [
      "1    298\n",
      "2    142\n",
      "Name: 販売Chanel, dtype: int64\n",
      "\n",
      "3    316\n",
      "1     77\n",
      "2     47\n",
      "Name: 地域, dtype: int64\n"
     ]
    }
   ],
   "source": [
    "# 販売Chanel の Label値確認\n",
    "print(df['販売Chanel'].value_counts())\n",
    "print()\n",
    "\n",
    "# 地域の Label値確認\n",
    "print(df['地域'].value_counts())"
   ],
   "metadata": {
    "collapsed": false,
    "pycharm": {
     "name": "#%%\n"
    }
   }
  },
  {
   "cell_type": "markdown",
   "source": [
    "販売Chanel の Label値の意味\n",
    "1. Horeca（Hotel, Restaurant, Cafe)\n",
    "2. Retail（小売り）\n",
    "\n",
    "地域の Label値の意味\n",
    "1. Lisbon（リスボン）\n",
    "2. Oporto（オポルト or ポルト）\n",
    "3. Other Region（その他）"
   ],
   "metadata": {
    "collapsed": false,
    "pycharm": {
     "name": "#%% md\n"
    }
   }
  },
  {
   "cell_type": "code",
   "execution_count": 16,
   "outputs": [
    {
     "data": {
      "text/plain": "<Figure size 576x576 with 6 Axes>",
      "image/png": "[encoded data removed]"
     },
     "metadata": {
      "needs_background": "light"
     },
     "output_type": "display_data"
    }
   ],
   "source": [
    "# 販売Chanel と地域を落とした Data を作る\n",
    "df2 = df.drop(['販売Chanel', '地域'], axis=1)\n",
    "\n",
    "# 分析対象項目の Histogram 表示\n",
    "rcParams['figure.figsize'] = (8, 8)\n",
    "df2.hist(bins=20)\n",
    "plt.tight_layout()\n",
    "plt.show()"
   ],
   "metadata": {
    "collapsed": false,
    "pycharm": {
     "name": "#%%\n"
    }
   }
  },
  {
   "cell_type": "markdown",
   "source": [
    "Histogram の結果から６項目のすべてで、１番購入価格の低い Group の購入頻度が最も多く、購入価格が上がるについれ徐々に件数が減っていく形になっていることがわかった。"
   ],
   "metadata": {
    "collapsed": false,
    "pycharm": {
     "name": "#%% md\n"
    }
   }
  },
  {
   "cell_type": "markdown",
   "source": [
    "## Clustering の実施"
   ],
   "metadata": {
    "collapsed": false,
    "pycharm": {
     "name": "#%% md\n"
    }
   }
  },
  {
   "cell_type": "code",
   "execution_count": 17,
   "outputs": [],
   "source": [
    "# Data 前処理と Data 分割は不要\n",
    "\n",
    "# Group 数を定義\n",
    "clusters = 4\n",
    "\n",
    "# Algorithm の定義\n",
    "algorithm = KMeans(n_clusters=clusters, random_state=random_seed)"
   ],
   "metadata": {
    "collapsed": false,
    "pycharm": {
     "name": "#%%\n"
    }
   }
  },
  {
   "cell_type": "markdown",
   "source": [
    "Algorithm は、Clustering で最も一般的に使用されているＫ平均法（k-Means）を採用。\n",
    "※ Ｋ平均法の注意点として、初期設定の段階で分類後の Group数を決める必要がある。（引数`n_clusters=`で指定）"
   ],
   "metadata": {
    "collapsed": false,
    "pycharm": {
     "name": "#%% md\n"
    }
   }
  },
  {
   "cell_type": "code",
   "execution_count": 20,
   "outputs": [
    {
     "name": "stdout",
     "output_type": "stream",
     "text": [
      "[1 2 1 1 0 1 1 1 1 2 2 1 0 2 0 1 2 1 1 1]\n"
     ]
    }
   ],
   "source": [
    "# 学習、予測の実施\n",
    "y_pred = algorithm.fit_predict(df2)\n",
    "\n",
    "# 結果の一部確認\n",
    "print(y_pred[:20])"
   ],
   "metadata": {
    "collapsed": false,
    "pycharm": {
     "name": "#%%\n"
    }
   }
  },
  {
   "cell_type": "markdown",
   "source": [
    "教師なし学習の場合、学習と予測は同時に行なう。\n"
   ],
   "metadata": {
    "collapsed": false,
    "pycharm": {
     "name": "#%% md\n"
    }
   }
  }
 ],
 "metadata": {
  "kernelspec": {
   "display_name": "Python 3",
   "language": "python",
   "name": "python3"
  },
  "language_info": {
   "codemirror_mode": {
    "name": "ipython",
    "version": 2
   },
   "file_extension": ".py",
   "mimetype": "text/x-python",
   "name": "python",
   "nbconvert_exporter": "python",
   "pygments_lexer": "ipython2",
   "version": "2.7.6"
  }
 },
 "nbformat": 4,
 "nbformat_minor": 0
}