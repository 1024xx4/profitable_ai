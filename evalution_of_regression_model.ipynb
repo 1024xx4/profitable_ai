{
 "cells": [
  {
   "cell_type": "markdown",
   "metadata": {
    "collapsed": true,
    "pycharm": {
     "name": "#%% md\n"
    }
   },
   "source": [
    "## 回帰 Model の評価方法"
   ]
  },
  {
   "cell_type": "code",
   "execution_count": 1,
   "outputs": [],
   "source": [
    "# 余分な Warning を非表示にする\n",
    "import warnings\n",
    "\n",
    "warnings.filterwarnings('ignore')\n",
    "\n",
    "# Library の Import\n",
    "import pandas as pd\n",
    "import numpy as np\n",
    "import matplotlib.pyplot as plt\n",
    "from IPython.display import display\n",
    "\n",
    "# matplotlib 日本語化対応\n",
    "import japanize_matplotlib\n",
    "\n",
    "# 表示 Option の調整\n",
    "np.set_printoptions(suppress=True, precision=4)  # NumPy の浮動小数点の表示精度\n",
    "pd.options.display.float_format = '{:.4f}'.format  # pandas での浮動小数点の表示精度\n",
    "pd.set_option('display.max_columns', None)  # DataFrame ですべての項目を表示\n",
    "plt.rcParams['font.size'] = 14  # Graph の Default font 指定\n",
    "random_seed = 123  # 乱数の種"
   ],
   "metadata": {
    "collapsed": false,
    "pycharm": {
     "name": "#%%\n"
    }
   }
  },
  {
   "cell_type": "code",
   "execution_count": 2,
   "outputs": [
    {
     "data": {
      "text/plain": "    CRIM      ZN  INDUS   CHAS    NOX     RM     AGE    DIS    RAD      TAX  \\\n0 0.0063 18.0000 2.3100 0.0000 0.5380 6.5750 65.2000 4.0900 1.0000 296.0000   \n1 0.0273  0.0000 7.0700 0.0000 0.4690 6.4210 78.9000 4.9671 2.0000 242.0000   \n2 0.0273  0.0000 7.0700 0.0000 0.4690 7.1850 61.1000 4.9671 2.0000 242.0000   \n3 0.0324  0.0000 2.1800 0.0000 0.4580 6.9980 45.8000 6.0622 3.0000 222.0000   \n4 0.0691  0.0000 2.1800 0.0000 0.4580 7.1470 54.2000 6.0622 3.0000 222.0000   \n\n   PTRATIO        B  LSTAT  \n0  15.3000 396.9000 4.9800  \n1  17.8000 396.9000 9.1400  \n2  17.8000 392.8300 4.0300  \n3  18.7000 394.6300 2.9400  \n4  18.7000 396.9000 5.3300  ",
      "text/html": "<div>\n<style scoped>\n    .dataframe tbody tr th:only-of-type {\n        vertical-align: middle;\n    }\n\n    .dataframe tbody tr th {\n        vertical-align: top;\n    }\n\n    .dataframe thead th {\n        text-align: right;\n    }\n</style>\n<table border=\"1\" class=\"dataframe\">\n  <thead>\n    <tr style=\"text-align: right;\">\n      <th></th>\n      <th>CRIM</th>\n      <th>ZN</th>\n      <th>INDUS</th>\n      <th>CHAS</th>\n      <th>NOX</th>\n      <th>RM</th>\n      <th>AGE</th>\n      <th>DIS</th>\n      <th>RAD</th>\n      <th>TAX</th>\n      <th>PTRATIO</th>\n      <th>B</th>\n      <th>LSTAT</th>\n    </tr>\n  </thead>\n  <tbody>\n    <tr>\n      <th>0</th>\n      <td>0.0063</td>\n      <td>18.0000</td>\n      <td>2.3100</td>\n      <td>0.0000</td>\n      <td>0.5380</td>\n      <td>6.5750</td>\n      <td>65.2000</td>\n      <td>4.0900</td>\n      <td>1.0000</td>\n      <td>296.0000</td>\n      <td>15.3000</td>\n      <td>396.9000</td>\n      <td>4.9800</td>\n    </tr>\n    <tr>\n      <th>1</th>\n      <td>0.0273</td>\n      <td>0.0000</td>\n      <td>7.0700</td>\n      <td>0.0000</td>\n      <td>0.4690</td>\n      <td>6.4210</td>\n      <td>78.9000</td>\n      <td>4.9671</td>\n      <td>2.0000</td>\n      <td>242.0000</td>\n      <td>17.8000</td>\n      <td>396.9000</td>\n      <td>9.1400</td>\n    </tr>\n    <tr>\n      <th>2</th>\n      <td>0.0273</td>\n      <td>0.0000</td>\n      <td>7.0700</td>\n      <td>0.0000</td>\n      <td>0.4690</td>\n      <td>7.1850</td>\n      <td>61.1000</td>\n      <td>4.9671</td>\n      <td>2.0000</td>\n      <td>242.0000</td>\n      <td>17.8000</td>\n      <td>392.8300</td>\n      <td>4.0300</td>\n    </tr>\n    <tr>\n      <th>3</th>\n      <td>0.0324</td>\n      <td>0.0000</td>\n      <td>2.1800</td>\n      <td>0.0000</td>\n      <td>0.4580</td>\n      <td>6.9980</td>\n      <td>45.8000</td>\n      <td>6.0622</td>\n      <td>3.0000</td>\n      <td>222.0000</td>\n      <td>18.7000</td>\n      <td>394.6300</td>\n      <td>2.9400</td>\n    </tr>\n    <tr>\n      <th>4</th>\n      <td>0.0691</td>\n      <td>0.0000</td>\n      <td>2.1800</td>\n      <td>0.0000</td>\n      <td>0.4580</td>\n      <td>7.1470</td>\n      <td>54.2000</td>\n      <td>6.0622</td>\n      <td>3.0000</td>\n      <td>222.0000</td>\n      <td>18.7000</td>\n      <td>396.9000</td>\n      <td>5.3300</td>\n    </tr>\n  </tbody>\n</table>\n</div>"
     },
     "metadata": {},
     "output_type": "display_data"
    },
    {
     "data": {
      "text/plain": "      RM\n0 6.5750\n1 6.4210\n2 7.1850\n3 6.9980\n4 7.1470",
      "text/html": "<div>\n<style scoped>\n    .dataframe tbody tr th:only-of-type {\n        vertical-align: middle;\n    }\n\n    .dataframe tbody tr th {\n        vertical-align: top;\n    }\n\n    .dataframe thead th {\n        text-align: right;\n    }\n</style>\n<table border=\"1\" class=\"dataframe\">\n  <thead>\n    <tr style=\"text-align: right;\">\n      <th></th>\n      <th>RM</th>\n    </tr>\n  </thead>\n  <tbody>\n    <tr>\n      <th>0</th>\n      <td>6.5750</td>\n    </tr>\n    <tr>\n      <th>1</th>\n      <td>6.4210</td>\n    </tr>\n    <tr>\n      <th>2</th>\n      <td>7.1850</td>\n    </tr>\n    <tr>\n      <th>3</th>\n      <td>6.9980</td>\n    </tr>\n    <tr>\n      <th>4</th>\n      <td>7.1470</td>\n    </tr>\n  </tbody>\n</table>\n</div>"
     },
     "metadata": {},
     "output_type": "display_data"
    },
    {
     "name": "stdout",
     "output_type": "stream",
     "text": [
      "[24.  21.6 34.7 33.4 36.2]\n"
     ]
    }
   ],
   "source": [
    "# Data の読み込みから Data 分割まで\n",
    "\n",
    "# Data 読み込み（Boston･Dataset）\n",
    "from sklearn.datasets import load_boston\n",
    "boston = load_boston()\n",
    "\n",
    "# df: 入力 Data\n",
    "df = pd.DataFrame(boston.data, columns=boston.feature_names)\n",
    "\n",
    "# y: 正解 Data\n",
    "y = boston.target\n",
    "\n",
    "# １項目だけの入力 Data df1 を作る\n",
    "df1 = df[['RM']]\n",
    "\n",
    "# 結果確認\n",
    "display(df.head())\n",
    "display(df1.head())\n",
    "print(y[:5])"
   ],
   "metadata": {
    "collapsed": false,
    "pycharm": {
     "name": "#%%\n"
    }
   }
  },
  {
   "cell_type": "code",
   "execution_count": 3,
   "outputs": [],
   "source": [
    "# Algorithm 選定から予測まで\n",
    "\n",
    "# Algorithm: XGBRegressor\n",
    "from xgboost import XGBRegressor\n",
    "algorithm1 = XGBRegressor(objective = 'reg:squarederror', random_state=random_seed)\n",
    "\n",
    "# 学習（入力 Data に df1 を利用）\n",
    "algorithm1.fit(df1, y)\n",
    "\n",
    "# 予測\n",
    "y_pred1 = algorithm1.predict(df1)\n",
    "\n",
    "# Algorithm: XGBRegressor\n",
    "algorithm2 = XGBRegressor(objective='reg:squarederror', random_state=random_seed)\n",
    "\n",
    "# 学習（入力 Data に df を利用）\n",
    "algorithm2.fit(df, y)\n",
    "\n",
    "# 予測\n",
    "y_pred2 = algorithm2.predict(df)"
   ],
   "metadata": {
    "collapsed": false,
    "pycharm": {
     "name": "#%%\n"
    }
   }
  },
  {
   "cell_type": "code",
   "execution_count": 4,
   "outputs": [
    {
     "name": "stdout",
     "output_type": "stream",
     "text": [
      "y[:5] [24.  21.6 34.7 33.4 36.2]\n",
      "y_pred1[:5] [24.2265 20.5349 34.8044 32.9725 35.9762]\n",
      "y_pred2[:5] [24.0193 21.5997 34.7074 33.4074 36.1893]\n"
     ]
    }
   ],
   "source": [
    "# 結果表示\n",
    "print(f'y[:5] {y[:5]}')\n",
    "print(f'y_pred1[:5] {y_pred1[:5]}')\n",
    "print(f'y_pred2[:5] {y_pred2[:5]}')"
   ],
   "metadata": {
    "collapsed": false,
    "pycharm": {
     "name": "#%%\n"
    }
   }
  },
  {
   "cell_type": "markdown",
   "source": [
    "- y_pred1\n",
    "- y_pred2\n",
    "\n",
    "この２つの予測結果が正解 Data にどの程度近いのか調べていく。\n",
    "\n",
    "#### ２つの評価方法\n",
    "1. x 軸に正解 Data, y 軸に予測結果、とした散布図を描画する。\n",
    "  ※全ての予測結果が正解 Data にぴったり一致した理想的な結果の場合散布図のすべてに点は y=x の直線上にのるはず。そこで、この直線から個々の点がどの程度離れているかを見えることで、視覚的に Model の性能を確認する。\n",
    "2. **「決定係数」** を算出して、その値を基に判断する。"
   ],
   "metadata": {
    "collapsed": false,
    "pycharm": {
     "name": "#%% md\n"
    }
   }
  },
  {
   "cell_type": "code",
   "execution_count": 5,
   "outputs": [
    {
     "name": "stdout",
     "output_type": "stream",
     "text": [
      "[ 5. 50.]\n"
     ]
    }
   ],
   "source": [
    "# y の最大値と最小値の計算\n",
    "y_range = np.array([y.min(), y.max()])\n",
    "\n",
    "# 結果確認\n",
    "print(y_range)"
   ],
   "metadata": {
    "collapsed": false,
    "pycharm": {
     "name": "#%%\n"
    }
   }
  },
  {
   "cell_type": "code",
   "execution_count": 6,
   "outputs": [
    {
     "data": {
      "text/plain": "<Figure size 432x432 with 1 Axes>",
      "image/png": "[encoded data removed]"
     },
     "metadata": {
      "needs_background": "light"
     },
     "output_type": "display_data"
    }
   ],
   "source": [
    "# 散布図による結果確認（１入力変数）\n",
    "\n",
    "# 描画 Size 指定\n",
    "plt.figure(figsize=(6, 6))\n",
    "\n",
    "# 散布図\n",
    "plt.scatter(y, y_pred1)\n",
    "\n",
    "# 正解 Data = 予測結果の直線\n",
    "plt.plot(y_range, y_range, 'k--')\n",
    "\n",
    "# Label･Title\n",
    "plt.xlabel('正解 Data')\n",
    "plt.ylabel('予測結果')\n",
    "plt.title('正解 Data と予測結果の散布図表示（１入力変数）')\n",
    "\n",
    "plt.show()"
   ],
   "metadata": {
    "collapsed": false,
    "pycharm": {
     "name": "#%%\n"
    }
   }
  },
  {
   "cell_type": "markdown",
   "source": [
    "点線に近いところにある点が多く、ある程度の正しい予測はできていそうな感じ。"
   ],
   "metadata": {
    "collapsed": false,
    "pycharm": {
     "name": "#%% md\n"
    }
   }
  },
  {
   "cell_type": "code",
   "execution_count": null,
   "outputs": [],
   "source": [],
   "metadata": {
    "collapsed": false,
    "pycharm": {
     "name": "#%%\n"
    }
   }
  }
 ],
 "metadata": {
  "kernelspec": {
   "display_name": "Python 3",
   "language": "python",
   "name": "python3"
  },
  "language_info": {
   "codemirror_mode": {
    "name": "ipython",
    "version": 2
   },
   "file_extension": ".py",
   "mimetype": "text/x-python",
   "name": "python",
   "nbconvert_exporter": "python",
   "pygments_lexer": "ipython2",
   "version": "2.7.6"
  }
 },
 "nbformat": 4,
 "nbformat_minor": 0
}