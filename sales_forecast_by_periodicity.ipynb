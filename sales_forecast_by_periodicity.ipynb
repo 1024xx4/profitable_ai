{
 "cells": [
  {
   "cell_type": "markdown",
   "metadata": {
    "collapsed": true,
    "pycharm": {
     "name": "#%% md\n"
    }
   },
   "source": [
    "# 季節などの周期性で売り上げ予測（時系列分析）"
   ]
  },
  {
   "cell_type": "markdown",
   "source": [
    "## 処理 Pattern と想定される業務利用 Sean\n",
    "時系列分析の根本にある考えは、**周期性を前提とした予測** ということなる。\n",
    "具体的には目的変数の数値 Data を「日単位」「週単位」「年単位」の周期関数と「Trend」と呼ばれる長期間の変化の和、と考える。\n",
    "過去の履歴 Data に対して最もよく適合した「周期関数」と「Trend」を見つけることで、将来の予測をする、ということになる。\n",
    "\n",
    "#### 時系列 Data が活用できる業務 Sean\n",
    "業務利用 Sean = **値が予測できたらそれをどのように業務に活かすか**\n",
    "「回帰」と「時系列分析」は目的とする値がまったく同じなので、業務利用 Sean もほぼ同じになるが「実際に予測するための前提条件」という別の観点がある。\n",
    "1. 時系列分析の為に必要な Data は「過去の日ごとの売上額とその日付」だけ。比較的簡単に試せるのは「回帰」より「時系列分析」と考えられる。\n",
    "2. 時系列分析の特徴として「信頼区間」という考え方がある。単に予測結果を算出するだけでなく「ここからここまでの範囲に予測結果が確率80%の可能性で入る」という形で予測できる。この結果を活用するとうまく Risk control できる。\n",
    "3. 時系列分析は３ケ月先あるいは1年先といった、中長期的な予測が可能になる。社員の配置人数を考える、などの目的には時系列分析が向いている。"
   ],
   "metadata": {
    "collapsed": false,
    "pycharm": {
     "name": "#%% md\n"
    }
   }
  },
  {
   "cell_type": "code",
   "execution_count": null,
   "outputs": [],
   "source": [],
   "metadata": {
    "collapsed": false,
    "pycharm": {
     "name": "#%%\n"
    }
   }
  }
 ],
 "metadata": {
  "kernelspec": {
   "display_name": "Python 3",
   "language": "python",
   "name": "python3"
  },
  "language_info": {
   "codemirror_mode": {
    "name": "ipython",
    "version": 2
   },
   "file_extension": ".py",
   "mimetype": "text/x-python",
   "name": "python",
   "nbconvert_exporter": "python",
   "pygments_lexer": "ipython2",
   "version": "2.7.6"
  }
 },
 "nbformat": 4,
 "nbformat_minor": 0
}