{
 "cells": [
  {
   "cell_type": "code",
   "execution_count": 1,
   "outputs": [],
   "source": [
    "# 余分な Warning を非表示にする\n",
    "import warnings\n",
    "\n",
    "warnings.filterwarnings('ignore')\n",
    "\n",
    "# Library の Import\n",
    "import pandas as pd\n",
    "import numpy as np\n",
    "import matplotlib.pyplot as plt\n",
    "\n",
    "# matplotlib 日本語化対応\n",
    "import japanize_matplotlib\n",
    "\n",
    "# 表示 Option の調整\n",
    "np.set_printoptions(suppress=True, precision=4)  # NumPy の浮動小数点の表示精度\n",
    "pd.options.display.float_format = '{:.4f}'.format  # pandas での浮動小数点の表示精度\n",
    "pd.set_option('display.max_columns', None)  # DataFrame ですべての項目を表示\n",
    "plt.rcParams['font.size'] = 14  # Graph の Default font 指定\n",
    "random_seed = 123  # 乱数の種"
   ],
   "metadata": {
    "collapsed": false,
    "pycharm": {
     "name": "#%%\n"
    }
   }
  },
  {
   "cell_type": "code",
   "execution_count": 2,
   "outputs": [
    {
     "data": {
      "text/plain": "   生存  等室      性別      年齢  兄弟配偶者数  両親子供数      料金 乗船港 Code    等室名   男女子供  \\\n0   0   3    male 22.0000       1      0  7.2500        S  Third    man   \n1   1   1  female 38.0000       1      0 71.2833        C  First  woman   \n2   1   3  female 26.0000       0      0  7.9250        S  Third  woman   \n3   1   1  female 35.0000       1      0 53.1000        S  First  woman   \n4   0   3    male 35.0000       0      0  8.0500        S  Third    man   \n\n    成人男子 Deck          乗船港 生存可否     独身  \n0   True  NaN  Southampton   no  False  \n1  False    C    Cherbourg  yes  False  \n2  False  NaN  Southampton  yes   True  \n3  False    C  Southampton  yes  False  \n4   True  NaN  Southampton   no   True  ",
      "text/html": "<div>\n<style scoped>\n    .dataframe tbody tr th:only-of-type {\n        vertical-align: middle;\n    }\n\n    .dataframe tbody tr th {\n        vertical-align: top;\n    }\n\n    .dataframe thead th {\n        text-align: right;\n    }\n</style>\n<table border=\"1\" class=\"dataframe\">\n  <thead>\n    <tr style=\"text-align: right;\">\n      <th></th>\n      <th>生存</th>\n      <th>等室</th>\n      <th>性別</th>\n      <th>年齢</th>\n      <th>兄弟配偶者数</th>\n      <th>両親子供数</th>\n      <th>料金</th>\n      <th>乗船港 Code</th>\n      <th>等室名</th>\n      <th>男女子供</th>\n      <th>成人男子</th>\n      <th>Deck</th>\n      <th>乗船港</th>\n      <th>生存可否</th>\n      <th>独身</th>\n    </tr>\n  </thead>\n  <tbody>\n    <tr>\n      <th>0</th>\n      <td>0</td>\n      <td>3</td>\n      <td>male</td>\n      <td>22.0000</td>\n      <td>1</td>\n      <td>0</td>\n      <td>7.2500</td>\n      <td>S</td>\n      <td>Third</td>\n      <td>man</td>\n      <td>True</td>\n      <td>NaN</td>\n      <td>Southampton</td>\n      <td>no</td>\n      <td>False</td>\n    </tr>\n    <tr>\n      <th>1</th>\n      <td>1</td>\n      <td>1</td>\n      <td>female</td>\n      <td>38.0000</td>\n      <td>1</td>\n      <td>0</td>\n      <td>71.2833</td>\n      <td>C</td>\n      <td>First</td>\n      <td>woman</td>\n      <td>False</td>\n      <td>C</td>\n      <td>Cherbourg</td>\n      <td>yes</td>\n      <td>False</td>\n    </tr>\n    <tr>\n      <th>2</th>\n      <td>1</td>\n      <td>3</td>\n      <td>female</td>\n      <td>26.0000</td>\n      <td>0</td>\n      <td>0</td>\n      <td>7.9250</td>\n      <td>S</td>\n      <td>Third</td>\n      <td>woman</td>\n      <td>False</td>\n      <td>NaN</td>\n      <td>Southampton</td>\n      <td>yes</td>\n      <td>True</td>\n    </tr>\n    <tr>\n      <th>3</th>\n      <td>1</td>\n      <td>1</td>\n      <td>female</td>\n      <td>35.0000</td>\n      <td>1</td>\n      <td>0</td>\n      <td>53.1000</td>\n      <td>S</td>\n      <td>First</td>\n      <td>woman</td>\n      <td>False</td>\n      <td>C</td>\n      <td>Southampton</td>\n      <td>yes</td>\n      <td>False</td>\n    </tr>\n    <tr>\n      <th>4</th>\n      <td>0</td>\n      <td>3</td>\n      <td>male</td>\n      <td>35.0000</td>\n      <td>0</td>\n      <td>0</td>\n      <td>8.0500</td>\n      <td>S</td>\n      <td>Third</td>\n      <td>man</td>\n      <td>True</td>\n      <td>NaN</td>\n      <td>Southampton</td>\n      <td>no</td>\n      <td>True</td>\n    </tr>\n  </tbody>\n</table>\n</div>"
     },
     "metadata": {},
     "output_type": "display_data"
    }
   ],
   "source": [
    "# 追加 Library の import\n",
    "import seaborn as sns\n",
    "\n",
    "# Sample data の読み込み\n",
    "df_titanic  = sns.load_dataset('titanic')\n",
    "\n",
    "# 項目名の日本語化\n",
    "columns = ['生存', '等室', '性別', '年齢', '兄弟配偶者数', '両親子供数', '料金', '乗船港 Code', '等室名', '男女子供', '成人男子', 'Deck', '乗船港', '生存可否', '独身']\n",
    "df_titanic.columns = columns\n",
    "\n",
    "# Data の内容\n",
    "display(df_titanic.head())"
   ],
   "metadata": {
    "collapsed": false,
    "pycharm": {
     "name": "#%%\n"
    }
   }
  },
  {
   "cell_type": "code",
   "execution_count": 3,
   "metadata": {
    "collapsed": true
   },
   "outputs": [
    {
     "data": {
      "text/plain": "   生存  等室      性別      年齢  兄弟配偶者数  両親子供数      料金 乗船港 Code   男女子供   成人男子 Deck  \\\n0   0   3    male 22.0000       1      0  7.2500        S    man   True  NaN   \n1   1   1  female 38.0000       1      0 71.2833        C  woman  False    C   \n2   1   3  female 26.0000       0      0  7.9250        S  woman  False  NaN   \n3   1   1  female 35.0000       1      0 53.1000        S  woman  False    C   \n4   0   3    male 35.0000       0      0  8.0500        S    man   True  NaN   \n\n      独身  \n0  False  \n1  False  \n2   True  \n3  False  \n4   True  ",
      "text/html": "<div>\n<style scoped>\n    .dataframe tbody tr th:only-of-type {\n        vertical-align: middle;\n    }\n\n    .dataframe tbody tr th {\n        vertical-align: top;\n    }\n\n    .dataframe thead th {\n        text-align: right;\n    }\n</style>\n<table border=\"1\" class=\"dataframe\">\n  <thead>\n    <tr style=\"text-align: right;\">\n      <th></th>\n      <th>生存</th>\n      <th>等室</th>\n      <th>性別</th>\n      <th>年齢</th>\n      <th>兄弟配偶者数</th>\n      <th>両親子供数</th>\n      <th>料金</th>\n      <th>乗船港 Code</th>\n      <th>男女子供</th>\n      <th>成人男子</th>\n      <th>Deck</th>\n      <th>独身</th>\n    </tr>\n  </thead>\n  <tbody>\n    <tr>\n      <th>0</th>\n      <td>0</td>\n      <td>3</td>\n      <td>male</td>\n      <td>22.0000</td>\n      <td>1</td>\n      <td>0</td>\n      <td>7.2500</td>\n      <td>S</td>\n      <td>man</td>\n      <td>True</td>\n      <td>NaN</td>\n      <td>False</td>\n    </tr>\n    <tr>\n      <th>1</th>\n      <td>1</td>\n      <td>1</td>\n      <td>female</td>\n      <td>38.0000</td>\n      <td>1</td>\n      <td>0</td>\n      <td>71.2833</td>\n      <td>C</td>\n      <td>woman</td>\n      <td>False</td>\n      <td>C</td>\n      <td>False</td>\n    </tr>\n    <tr>\n      <th>2</th>\n      <td>1</td>\n      <td>3</td>\n      <td>female</td>\n      <td>26.0000</td>\n      <td>0</td>\n      <td>0</td>\n      <td>7.9250</td>\n      <td>S</td>\n      <td>woman</td>\n      <td>False</td>\n      <td>NaN</td>\n      <td>True</td>\n    </tr>\n    <tr>\n      <th>3</th>\n      <td>1</td>\n      <td>1</td>\n      <td>female</td>\n      <td>35.0000</td>\n      <td>1</td>\n      <td>0</td>\n      <td>53.1000</td>\n      <td>S</td>\n      <td>woman</td>\n      <td>False</td>\n      <td>C</td>\n      <td>False</td>\n    </tr>\n    <tr>\n      <th>4</th>\n      <td>0</td>\n      <td>3</td>\n      <td>male</td>\n      <td>35.0000</td>\n      <td>0</td>\n      <td>0</td>\n      <td>8.0500</td>\n      <td>S</td>\n      <td>man</td>\n      <td>True</td>\n      <td>NaN</td>\n      <td>True</td>\n    </tr>\n  </tbody>\n</table>\n</div>"
     },
     "metadata": {},
     "output_type": "display_data"
    }
   ],
   "source": [
    "# 余分な列削除\n",
    "\n",
    "# 「等室名」（「等室」との同じ）\n",
    "df1 = df_titanic.drop('等室名', axis=1)\n",
    "\n",
    "# 「乗船港」（「乗船港 Code」と同じ\n",
    "df2 = df1.drop('乗船港', axis=1)\n",
    "\n",
    "# 「生存可否」（「生存」と同じ）\n",
    "df3 = df2.drop('生存可否', axis=1)\n",
    "\n",
    "# 結果確認\n",
    "display(df3.head())"
   ]
  },
  {
   "cell_type": "markdown",
   "source": [
    "## 欠損値の対応"
   ],
   "metadata": {
    "collapsed": false,
    "pycharm": {
     "name": "#%% md\n"
    }
   }
  },
  {
   "cell_type": "code",
   "execution_count": 4,
   "outputs": [
    {
     "name": "stdout",
     "output_type": "stream",
     "text": [
      "生存            0\n",
      "等室            0\n",
      "性別            0\n",
      "年齢          177\n",
      "兄弟配偶者数        0\n",
      "両親子供数         0\n",
      "料金            0\n",
      "乗船港 Code      2\n",
      "男女子供          0\n",
      "成人男子          0\n",
      "Deck        688\n",
      "独身            0\n",
      "dtype: int64\n"
     ]
    }
   ],
   "source": [
    "# 欠損値確認\n",
    "print(df3.isnull().sum())"
   ],
   "metadata": {
    "collapsed": false,
    "pycharm": {
     "name": "#%%\n"
    }
   }
  },
  {
   "cell_type": "code",
   "execution_count": 5,
   "outputs": [
    {
     "data": {
      "text/plain": "C    59\nB    47\nD    33\nE    32\nA    15\nF    13\nG     4\nName: Deck, dtype: int64"
     },
     "metadata": {},
     "output_type": "display_data"
    }
   ],
   "source": [
    "display(df3['Deck'].value_counts())"
   ],
   "metadata": {
    "collapsed": false,
    "pycharm": {
     "name": "#%%\n"
    }
   }
  },
  {
   "cell_type": "code",
   "execution_count": 6,
   "outputs": [],
   "source": [
    "# 乗船港 Code: 欠損行数が２件と少ない\n",
    "# -> 行ごと削除する\n",
    "\n",
    "# dropna 関数を利用する\n",
    "df4 = df3.dropna(subset=['乗船港 Code'])\n",
    "\n",
    "# 年齢: 数値 Data であり欠損行数が177行とかなり多い\n",
    "# -> 他 Data の平均値で代用\n",
    "\n",
    "# 平均値の計算\n",
    "age_average = df4['年齢'].mean()\n",
    "\n",
    "# fillna 関数の利用\n",
    "df5 = df4.fillna({'年齢': age_average})\n",
    "\n",
    "# Deck: Label 値 Data であり欠損行数が688行と相当多い\n",
    "# -> 欠損値を意味する Dummy code を振って全行を処理対象とする\n",
    "\n",
    "# replace 関数の利用（Dummy code は'N'とする Deck 項目を Category 型から str 型に変更する）\n",
    "df5['Deck'] = df5['Deck'].astype(np.str)\n",
    "df6 = df5.replace({'Deck': {'nan': 'N'}})"
   ],
   "metadata": {
    "collapsed": false,
    "pycharm": {
     "name": "#%%\n"
    }
   }
  },
  {
   "cell_type": "code",
   "execution_count": 7,
   "outputs": [
    {
     "name": "stdout",
     "output_type": "stream",
     "text": [
      "生存          0\n",
      "等室          0\n",
      "性別          0\n",
      "年齢          0\n",
      "兄弟配偶者数      0\n",
      "両親子供数       0\n",
      "料金          0\n",
      "乗船港 Code    0\n",
      "男女子供        0\n",
      "成人男子        0\n",
      "Deck        0\n",
      "独身          0\n",
      "dtype: int64\n"
     ]
    },
    {
     "data": {
      "text/plain": "   生存  等室      性別      年齢  兄弟配偶者数  両親子供数      料金 乗船港 Code   男女子供   成人男子 Deck  \\\n0   0   3    male 22.0000       1      0  7.2500        S    man   True    N   \n1   1   1  female 38.0000       1      0 71.2833        C  woman  False    C   \n2   1   3  female 26.0000       0      0  7.9250        S  woman  False    N   \n3   1   1  female 35.0000       1      0 53.1000        S  woman  False    C   \n4   0   3    male 35.0000       0      0  8.0500        S    man   True    N   \n\n      独身  \n0  False  \n1  False  \n2   True  \n3  False  \n4   True  ",
      "text/html": "<div>\n<style scoped>\n    .dataframe tbody tr th:only-of-type {\n        vertical-align: middle;\n    }\n\n    .dataframe tbody tr th {\n        vertical-align: top;\n    }\n\n    .dataframe thead th {\n        text-align: right;\n    }\n</style>\n<table border=\"1\" class=\"dataframe\">\n  <thead>\n    <tr style=\"text-align: right;\">\n      <th></th>\n      <th>生存</th>\n      <th>等室</th>\n      <th>性別</th>\n      <th>年齢</th>\n      <th>兄弟配偶者数</th>\n      <th>両親子供数</th>\n      <th>料金</th>\n      <th>乗船港 Code</th>\n      <th>男女子供</th>\n      <th>成人男子</th>\n      <th>Deck</th>\n      <th>独身</th>\n    </tr>\n  </thead>\n  <tbody>\n    <tr>\n      <th>0</th>\n      <td>0</td>\n      <td>3</td>\n      <td>male</td>\n      <td>22.0000</td>\n      <td>1</td>\n      <td>0</td>\n      <td>7.2500</td>\n      <td>S</td>\n      <td>man</td>\n      <td>True</td>\n      <td>N</td>\n      <td>False</td>\n    </tr>\n    <tr>\n      <th>1</th>\n      <td>1</td>\n      <td>1</td>\n      <td>female</td>\n      <td>38.0000</td>\n      <td>1</td>\n      <td>0</td>\n      <td>71.2833</td>\n      <td>C</td>\n      <td>woman</td>\n      <td>False</td>\n      <td>C</td>\n      <td>False</td>\n    </tr>\n    <tr>\n      <th>2</th>\n      <td>1</td>\n      <td>3</td>\n      <td>female</td>\n      <td>26.0000</td>\n      <td>0</td>\n      <td>0</td>\n      <td>7.9250</td>\n      <td>S</td>\n      <td>woman</td>\n      <td>False</td>\n      <td>N</td>\n      <td>True</td>\n    </tr>\n    <tr>\n      <th>3</th>\n      <td>1</td>\n      <td>1</td>\n      <td>female</td>\n      <td>35.0000</td>\n      <td>1</td>\n      <td>0</td>\n      <td>53.1000</td>\n      <td>S</td>\n      <td>woman</td>\n      <td>False</td>\n      <td>C</td>\n      <td>False</td>\n    </tr>\n    <tr>\n      <th>4</th>\n      <td>0</td>\n      <td>3</td>\n      <td>male</td>\n      <td>35.0000</td>\n      <td>0</td>\n      <td>0</td>\n      <td>8.0500</td>\n      <td>S</td>\n      <td>man</td>\n      <td>True</td>\n      <td>N</td>\n      <td>True</td>\n    </tr>\n  </tbody>\n</table>\n</div>"
     },
     "metadata": {},
     "output_type": "display_data"
    }
   ],
   "source": [
    "# 結果確認\n",
    "print(df6.isnull().sum())\n",
    "\n",
    "display(df6.head())"
   ],
   "metadata": {
    "collapsed": false,
    "pycharm": {
     "name": "#%%\n"
    }
   }
  },
  {
   "cell_type": "code",
   "execution_count": 8,
   "outputs": [],
   "source": [
    "## 値 Label の数値化"
   ],
   "metadata": {
    "collapsed": false,
    "pycharm": {
     "name": "#%%\n"
    }
   }
  },
  {
   "cell_type": "code",
   "execution_count": 9,
   "outputs": [
    {
     "data": {
      "text/plain": "   生存  等室  性別      年齢  兄弟配偶者数  両親子供数      料金 乗船港 Code   男女子供   成人男子 Deck  \\\n0   0   3   1 22.0000       1      0  7.2500        S    man   True    N   \n1   1   1   0 38.0000       1      0 71.2833        C  woman  False    C   \n2   1   3   0 26.0000       0      0  7.9250        S  woman  False    N   \n3   1   1   0 35.0000       1      0 53.1000        S  woman  False    C   \n4   0   3   1 35.0000       0      0  8.0500        S    man   True    N   \n\n      独身  \n0  False  \n1  False  \n2   True  \n3  False  \n4   True  ",
      "text/html": "<div>\n<style scoped>\n    .dataframe tbody tr th:only-of-type {\n        vertical-align: middle;\n    }\n\n    .dataframe tbody tr th {\n        vertical-align: top;\n    }\n\n    .dataframe thead th {\n        text-align: right;\n    }\n</style>\n<table border=\"1\" class=\"dataframe\">\n  <thead>\n    <tr style=\"text-align: right;\">\n      <th></th>\n      <th>生存</th>\n      <th>等室</th>\n      <th>性別</th>\n      <th>年齢</th>\n      <th>兄弟配偶者数</th>\n      <th>両親子供数</th>\n      <th>料金</th>\n      <th>乗船港 Code</th>\n      <th>男女子供</th>\n      <th>成人男子</th>\n      <th>Deck</th>\n      <th>独身</th>\n    </tr>\n  </thead>\n  <tbody>\n    <tr>\n      <th>0</th>\n      <td>0</td>\n      <td>3</td>\n      <td>1</td>\n      <td>22.0000</td>\n      <td>1</td>\n      <td>0</td>\n      <td>7.2500</td>\n      <td>S</td>\n      <td>man</td>\n      <td>True</td>\n      <td>N</td>\n      <td>False</td>\n    </tr>\n    <tr>\n      <th>1</th>\n      <td>1</td>\n      <td>1</td>\n      <td>0</td>\n      <td>38.0000</td>\n      <td>1</td>\n      <td>0</td>\n      <td>71.2833</td>\n      <td>C</td>\n      <td>woman</td>\n      <td>False</td>\n      <td>C</td>\n      <td>False</td>\n    </tr>\n    <tr>\n      <th>2</th>\n      <td>1</td>\n      <td>3</td>\n      <td>0</td>\n      <td>26.0000</td>\n      <td>0</td>\n      <td>0</td>\n      <td>7.9250</td>\n      <td>S</td>\n      <td>woman</td>\n      <td>False</td>\n      <td>N</td>\n      <td>True</td>\n    </tr>\n    <tr>\n      <th>3</th>\n      <td>1</td>\n      <td>1</td>\n      <td>0</td>\n      <td>35.0000</td>\n      <td>1</td>\n      <td>0</td>\n      <td>53.1000</td>\n      <td>S</td>\n      <td>woman</td>\n      <td>False</td>\n      <td>C</td>\n      <td>False</td>\n    </tr>\n    <tr>\n      <th>4</th>\n      <td>0</td>\n      <td>3</td>\n      <td>1</td>\n      <td>35.0000</td>\n      <td>0</td>\n      <td>0</td>\n      <td>8.0500</td>\n      <td>S</td>\n      <td>man</td>\n      <td>True</td>\n      <td>N</td>\n      <td>True</td>\n    </tr>\n  </tbody>\n</table>\n</div>"
     },
     "metadata": {},
     "output_type": "display_data"
    }
   ],
   "source": [
    "# 辞書 mf_map の定義\n",
    "mf_map = {'male': 1, 'female': 0}\n",
    "\n",
    "# map 関数を利用して数値化\n",
    "df7 = df6.copy()\n",
    "df7['性別'] = df7['性別'].map(mf_map)\n",
    "\n",
    "# 結果確認\n",
    "display(df7.head())"
   ],
   "metadata": {
    "collapsed": false,
    "pycharm": {
     "name": "#%%\n"
    }
   }
  },
  {
   "cell_type": "code",
   "execution_count": 10,
   "outputs": [
    {
     "data": {
      "text/plain": "   生存  等室  性別      年齢  兄弟配偶者数  両親子供数      料金 乗船港 Code   男女子供  成人男子 Deck  独身\n0   0   3   1 22.0000       1      0  7.2500        S    man     1    N   0\n1   1   1   0 38.0000       1      0 71.2833        C  woman     0    C   0\n2   1   3   0 26.0000       0      0  7.9250        S  woman     0    N   1\n3   1   1   0 35.0000       1      0 53.1000        S  woman     0    C   0\n4   0   3   1 35.0000       0      0  8.0500        S    man     1    N   1",
      "text/html": "<div>\n<style scoped>\n    .dataframe tbody tr th:only-of-type {\n        vertical-align: middle;\n    }\n\n    .dataframe tbody tr th {\n        vertical-align: top;\n    }\n\n    .dataframe thead th {\n        text-align: right;\n    }\n</style>\n<table border=\"1\" class=\"dataframe\">\n  <thead>\n    <tr style=\"text-align: right;\">\n      <th></th>\n      <th>生存</th>\n      <th>等室</th>\n      <th>性別</th>\n      <th>年齢</th>\n      <th>兄弟配偶者数</th>\n      <th>両親子供数</th>\n      <th>料金</th>\n      <th>乗船港 Code</th>\n      <th>男女子供</th>\n      <th>成人男子</th>\n      <th>Deck</th>\n      <th>独身</th>\n    </tr>\n  </thead>\n  <tbody>\n    <tr>\n      <th>0</th>\n      <td>0</td>\n      <td>3</td>\n      <td>1</td>\n      <td>22.0000</td>\n      <td>1</td>\n      <td>0</td>\n      <td>7.2500</td>\n      <td>S</td>\n      <td>man</td>\n      <td>1</td>\n      <td>N</td>\n      <td>0</td>\n    </tr>\n    <tr>\n      <th>1</th>\n      <td>1</td>\n      <td>1</td>\n      <td>0</td>\n      <td>38.0000</td>\n      <td>1</td>\n      <td>0</td>\n      <td>71.2833</td>\n      <td>C</td>\n      <td>woman</td>\n      <td>0</td>\n      <td>C</td>\n      <td>0</td>\n    </tr>\n    <tr>\n      <th>2</th>\n      <td>1</td>\n      <td>3</td>\n      <td>0</td>\n      <td>26.0000</td>\n      <td>0</td>\n      <td>0</td>\n      <td>7.9250</td>\n      <td>S</td>\n      <td>woman</td>\n      <td>0</td>\n      <td>N</td>\n      <td>1</td>\n    </tr>\n    <tr>\n      <th>3</th>\n      <td>1</td>\n      <td>1</td>\n      <td>0</td>\n      <td>35.0000</td>\n      <td>1</td>\n      <td>0</td>\n      <td>53.1000</td>\n      <td>S</td>\n      <td>woman</td>\n      <td>0</td>\n      <td>C</td>\n      <td>0</td>\n    </tr>\n    <tr>\n      <th>4</th>\n      <td>0</td>\n      <td>3</td>\n      <td>1</td>\n      <td>35.0000</td>\n      <td>0</td>\n      <td>0</td>\n      <td>8.0500</td>\n      <td>S</td>\n      <td>man</td>\n      <td>1</td>\n      <td>N</td>\n      <td>1</td>\n    </tr>\n  </tbody>\n</table>\n</div>"
     },
     "metadata": {},
     "output_type": "display_data"
    }
   ],
   "source": [
    "# 辞書 tf_map の定義\n",
    "tf_map = {True: 1, False: 0}\n",
    "\n",
    "# map 関数を利用して数値化\n",
    "df8 = df7.copy()\n",
    "df8['成人男子'] = df8['成人男子'].map(tf_map)\n",
    "\n",
    "# map関数を利用して数値化\n",
    "df9 = df8.copy()\n",
    "df9['独身'] = df8['独身'].map(tf_map)\n",
    "\n",
    "# 結果確認\n",
    "display(df9.head())"
   ],
   "metadata": {
    "collapsed": false,
    "pycharm": {
     "name": "#%%\n"
    }
   }
  },
  {
   "cell_type": "code",
   "execution_count": null,
   "outputs": [],
   "source": [],
   "metadata": {
    "collapsed": false,
    "pycharm": {
     "name": "#%%\n"
    }
   }
  }
 ],
 "metadata": {
  "kernelspec": {
   "display_name": "Python 3",
   "language": "python",
   "name": "python3"
  },
  "language_info": {
   "codemirror_mode": {
    "name": "ipython",
    "version": 2
   },
   "file_extension": ".py",
   "mimetype": "text/x-python",
   "name": "python",
   "nbconvert_exporter": "python",
   "pygments_lexer": "ipython2",
   "version": "2.7.6"
  }
 },
 "nbformat": 4,
 "nbformat_minor": 0
}