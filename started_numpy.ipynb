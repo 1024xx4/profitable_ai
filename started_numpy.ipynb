{
 "cells": [
  {
   "cell_type": "markdown",
   "metadata": {
    "collapsed": true,
    "pycharm": {
     "name": "#%% md\n"
    }
   },
   "source": [
    "# NumPy 入門"
   ]
  },
  {
   "cell_type": "code",
   "execution_count": 2,
   "outputs": [],
   "source": [
    "# Library の import\n",
    "import numpy as np\n",
    "\n",
    "# numpy の浮動小数点の表示精度\n",
    "np.set_printoptions(suppress=True, precision=4)\n",
    "# `suppress=True`: 指数表記の禁止\n",
    "# `precision=4`: 小数点以下４まで表示"
   ],
   "metadata": {
    "collapsed": false,
    "pycharm": {
     "name": "#%%\n"
    }
   }
  },
  {
   "cell_type": "code",
   "execution_count": 6,
   "outputs": [],
   "source": [
    "# NumPy Data 定義\n",
    "\n",
    "# １次元配列変数の定義\n",
    "a = np.array(range(1, 8))\n",
    "\n",
    "# ２次元配列の定義\n",
    "b = np.array([[1, 2, 3], [4, 5, 6], [7, 8, 9], [10, 11, 12]])"
   ],
   "metadata": {
    "collapsed": false,
    "pycharm": {
     "name": "#%%\n"
    }
   }
  },
  {
   "cell_type": "code",
   "execution_count": 7,
   "outputs": [
    {
     "name": "stdout",
     "output_type": "stream",
     "text": [
      "[1 2 3 4 5 6 7]\n",
      "[[ 1  2  3]\n",
      " [ 4  5  6]\n",
      " [ 7  8  9]\n",
      " [10 11 12]]\n"
     ]
    }
   ],
   "source": [
    "# １次元配列変数の表示\n",
    "print(a)\n",
    "\n",
    "# ２次元配列変数の表示\n",
    "print(b)"
   ],
   "metadata": {
    "collapsed": false,
    "pycharm": {
     "name": "#%%\n"
    }
   }
  },
  {
   "cell_type": "markdown",
   "source": [
    "NumPy配列は区切り文字がないのが特徴"
   ],
   "metadata": {
    "collapsed": false,
    "pycharm": {
     "name": "#%% md\n"
    }
   }
  },
  {
   "cell_type": "code",
   "execution_count": 8,
   "outputs": [
    {
     "name": "stdout",
     "output_type": "stream",
     "text": [
      "(7,)\n",
      "(4, 3)\n",
      "7\n",
      "4\n"
     ]
    }
   ],
   "source": [
    "# 要素数の確認\n",
    "\n",
    "# １次元配列変数の表示\n",
    "print(a.shape)\n",
    "\n",
    "# ２次元配列h寸数の表示\n",
    "print(b.shape)\n",
    "\n",
    "# len 関数の利用\n",
    "print(len(a))\n",
    "print(len(b))"
   ],
   "metadata": {
    "collapsed": false,
    "pycharm": {
     "name": "#%%\n"
    }
   }
  },
  {
   "cell_type": "code",
   "execution_count": 16,
   "outputs": [
    {
     "name": "stdout",
     "output_type": "stream",
     "text": [
      "[ 1  4  7 10]\n",
      "[[ 1  2]\n",
      " [ 4  5]\n",
      " [ 7  8]\n",
      " [10 11]]\n"
     ]
    }
   ],
   "source": [
    "# 特定例の抽出\n",
    "\n",
    "# ０列\n",
    "c = b[:, 0]\n",
    "print(c)\n",
    "\n",
    "# [0, 1] 列\n",
    "d = b[:, :2]\n",
    "print(d)"
   ],
   "metadata": {
    "collapsed": false,
    "pycharm": {
     "name": "#%%\n"
    }
   }
  },
  {
   "cell_type": "code",
   "execution_count": 19,
   "outputs": [
    {
     "name": "stdout",
     "output_type": "stream",
     "text": [
      "[ 0  1  2  3  4  5  6  7  8  9 10 11]\n",
      "[[ 0  1  2  3]\n",
      " [ 4  5  6  7]\n",
      " [ 8  9 10 11]]\n"
     ]
    }
   ],
   "source": [
    "# reshape関数\n",
    "l = np.array(range(12))\n",
    "print(l)\n",
    "\n",
    "# ３行４列に変換\n",
    "m = l.reshape((3, 4))\n",
    "print(m)"
   ],
   "metadata": {
    "collapsed": false,
    "pycharm": {
     "name": "#%%\n"
    }
   }
  },
  {
   "cell_type": "code",
   "execution_count": 20,
   "outputs": [
    {
     "name": "stdout",
     "output_type": "stream",
     "text": [
      "元の変数: [1 2 3 4 5 6 7]\n",
      "和: 28\n",
      "平均: 4.0\n",
      "最大値: 7\n",
      "最小値: 1\n"
     ]
    }
   ],
   "source": [
    "# 統計関数\n",
    "print(f'元の変数: {a}')\n",
    "\n",
    "a_sum = np.sum(a)\n",
    "print(f'和: {a_sum}')\n",
    "\n",
    "a_mean = np.mean(a)\n",
    "print(f'平均: {a_mean}')\n",
    "\n",
    "a_max = np.max(a)\n",
    "print(f'最大値: {a_max}')\n",
    "\n",
    "a_min = a.min()\n",
    "print(f'最小値: {a_min}')"
   ],
   "metadata": {
    "collapsed": false,
    "pycharm": {
     "name": "#%%\n"
    }
   }
  },
  {
   "cell_type": "code",
   "execution_count": 22,
   "outputs": [
    {
     "name": "stdout",
     "output_type": "stream",
     "text": [
      "[1 1 0 1 0 1 1 0 1 1]\n",
      "[1 1 0 1 0 1 1 1 1 1]\n"
     ]
    }
   ],
   "source": [
    "# ２つの NumPy 配列の準備\n",
    "yt = np.array([1, 1, 0, 1, 0, 1, 1, 0, 1, 1])\n",
    "yp = np.array([1, 1, 0, 1, 0, 1, 1, 1, 1, 1])\n",
    "print(yt)\n",
    "print(yp)"
   ],
   "metadata": {
    "collapsed": false,
    "pycharm": {
     "name": "#%%\n"
    }
   }
  },
  {
   "cell_type": "code",
   "execution_count": 23,
   "outputs": [
    {
     "name": "stdout",
     "output_type": "stream",
     "text": [
      "[ True  True  True  True  True  True  True False  True  True]\n"
     ]
    }
   ],
   "source": [
    "# 配列の各要素を同時に比較する\n",
    "w = (yt == yp)\n",
    "print(w)"
   ],
   "metadata": {
    "collapsed": false,
    "pycharm": {
     "name": "#%%\n"
    }
   }
  },
  {
   "cell_type": "code",
   "execution_count": 24,
   "outputs": [
    {
     "name": "stdout",
     "output_type": "stream",
     "text": [
      "9\n"
     ]
    }
   ],
   "source": [
    "# さらにこの結果に sum関数をかける\n",
    "print(w.sum())"
   ],
   "metadata": {
    "collapsed": false,
    "pycharm": {
     "name": "#%%\n"
    }
   }
  },
  {
   "cell_type": "code",
   "execution_count": 25,
   "outputs": [
    {
     "name": "stdout",
     "output_type": "stream",
     "text": [
      "[1 2 3 4 5 6 7]\n",
      "[0.     0.1667 0.3333 0.5    0.6667 0.8333 1.    ]\n"
     ]
    }
   ],
   "source": [
    "# Broadcast 機能\n",
    "print(a)\n",
    "\n",
    "c = (a - np.min(a)) / (np.max(a) - np.min(a))\n",
    "\n",
    "print(c)"
   ],
   "metadata": {
    "collapsed": false,
    "pycharm": {
     "name": "#%%\n"
    }
   }
  }
 ],
 "metadata": {
  "kernelspec": {
   "display_name": "Python 3",
   "language": "python",
   "name": "python3"
  },
  "language_info": {
   "codemirror_mode": {
    "name": "ipython",
    "version": 2
   },
   "file_extension": ".py",
   "mimetype": "text/x-python",
   "name": "python",
   "nbconvert_exporter": "python",
   "pygments_lexer": "ipython2",
   "version": "2.7.6"
  }
 },
 "nbformat": 4,
 "nbformat_minor": 0
}