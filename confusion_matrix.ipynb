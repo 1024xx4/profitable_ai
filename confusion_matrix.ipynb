{
 "cells": [
  {
   "cell_type": "code",
   "execution_count": 7,
   "outputs": [],
   "source": [
    "# 余分な Warning を非表示にする\n",
    "import warnings\n",
    "\n",
    "warnings.filterwarnings('ignore')\n",
    "\n",
    "# Library の Import\n",
    "import pandas as pd\n",
    "import numpy as np\n",
    "import matplotlib.pyplot as plt\n",
    "from sklearn.datasets import load_breast_cancer\n",
    "from sklearn.model_selection import train_test_split\n",
    "\n",
    "# matplotlib 日本語化対応\n",
    "import japanize_matplotlib\n",
    "\n",
    "# 表示 Option の調整\n",
    "np.set_printoptions(suppress=True, precision=4)  # NumPy の浮動小数点の表示精度\n",
    "pd.options.display.float_format = '{:.4f}'.format  # pandas での浮動小数点の表示精度\n",
    "pd.set_option('display.max_columns', None)  # DataFrame ですべての項目を表示\n",
    "plt.rcParams['font.size'] = 14  # Graph の Default font 指定\n",
    "random_seed = 123  # 乱数の種"
   ],
   "metadata": {
    "collapsed": false,
    "pycharm": {
     "name": "#%%\n"
    }
   }
  },
  {
   "cell_type": "code",
   "execution_count": 12,
   "outputs": [],
   "source": [
    "# Data の Load\n",
    "cancer = load_breast_cancer()\n",
    "\n",
    "# 入力 Data x\n",
    "x = cancer.data\n",
    "x\n",
    "# 正解 Data y\n",
    "# 良性: 0, 悪性: 1 に値を変更する\n",
    "y = 1 - cancer.target\n",
    "\n",
    "# 入力 Data を２次元に絞り込み\n",
    "x2 = x[:, :2]\n",
    "\n",
    "# Data 分割\n",
    "x_train, x_test, y_train, y_test = train_test_split(x2, y, train_size=0.7, test_size=0.3, random_state=random_seed)"
   ],
   "metadata": {
    "collapsed": false,
    "pycharm": {
     "name": "#%%\n"
    }
   }
  },
  {
   "cell_type": "code",
   "execution_count": null,
   "outputs": [],
   "source": [],
   "metadata": {
    "collapsed": false,
    "pycharm": {
     "name": "#%%\n"
    }
   }
  }
 ],
 "metadata": {
  "kernelspec": {
   "display_name": "Python 3",
   "language": "python",
   "name": "python3"
  },
  "language_info": {
   "codemirror_mode": {
    "name": "ipython",
    "version": 2
   },
   "file_extension": ".py",
   "mimetype": "text/x-python",
   "name": "python",
   "nbconvert_exporter": "python",
   "pygments_lexer": "ipython2",
   "version": "2.7.6"
  }
 },
 "nbformat": 4,
 "nbformat_minor": 0
}