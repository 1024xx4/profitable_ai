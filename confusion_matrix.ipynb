{
 "cells": [
  {
   "cell_type": "code",
   "execution_count": 10,
   "outputs": [],
   "source": [
    "# 余分な Warning を非表示にする\n",
    "import warnings\n",
    "\n",
    "warnings.filterwarnings('ignore')\n",
    "\n",
    "# Library の Import\n",
    "import pandas as pd\n",
    "import numpy as np\n",
    "import matplotlib.pyplot as plt\n",
    "from IPython.display import display\n",
    "from sklearn.datasets import load_breast_cancer\n",
    "from sklearn.model_selection import train_test_split\n",
    "from sklearn.linear_model import LogisticRegression\n",
    "from sklearn.metrics import confusion_matrix\n",
    "from sklearn.metrics import precision_recall_fscore_support\n",
    "\n",
    "# matplotlib 日本語化対応\n",
    "import japanize_matplotlib\n",
    "\n",
    "# 表示 Option の調整\n",
    "np.set_printoptions(suppress=True, precision=4)  # NumPy の浮動小数点の表示精度\n",
    "pd.options.display.float_format = '{:.4f}'.format  # pandas での浮動小数点の表示精度\n",
    "pd.set_option('display.max_columns', None)  # DataFrame ですべての項目を表示\n",
    "plt.rcParams['font.size'] = 14  # Graph の Default font 指定\n",
    "random_seed = 123  # 乱数の種"
   ],
   "metadata": {
    "collapsed": false,
    "pycharm": {
     "name": "#%%\n"
    }
   }
  },
  {
   "cell_type": "markdown",
   "source": [
    "## 乳がん疾患 Dataset を取得して、Data 分割を行なう"
   ],
   "metadata": {
    "collapsed": false,
    "pycharm": {
     "name": "#%% md\n"
    }
   }
  },
  {
   "cell_type": "code",
   "execution_count": 2,
   "outputs": [],
   "source": [
    "# Data の Load\n",
    "cancer = load_breast_cancer()\n",
    "\n",
    "# 入力 Data x\n",
    "x = cancer.data\n",
    "x\n",
    "# 正解 Data y\n",
    "# 良性: 0, 悪性: 1 に値を変更する\n",
    "y = 1 - cancer.target\n",
    "\n",
    "# 入力 Data を２次元に絞り込み\n",
    "x2 = x[:, :2]\n",
    "\n",
    "# Data 分割\n",
    "x_train, x_test, y_train, y_test = train_test_split(x2, y, train_size=0.7, test_size=0.3, random_state=random_seed)"
   ],
   "metadata": {
    "collapsed": false,
    "pycharm": {
     "name": "#%%\n"
    }
   }
  },
  {
   "cell_type": "markdown",
   "source": [
    "## Algorithm を選択し評価する"
   ],
   "metadata": {
    "collapsed": false,
    "pycharm": {
     "name": "#%% md\n"
    }
   }
  },
  {
   "cell_type": "code",
   "execution_count": 4,
   "outputs": [
    {
     "name": "stdout",
     "output_type": "stream",
     "text": [
      "score: 0.8772\n"
     ]
    }
   ],
   "source": [
    "# Algorithm 選択から評価まで\n",
    "\n",
    "# Algorithm 選択（Logistic 回帰）\n",
    "algorithm = LogisticRegression(random_state=random_seed)\n",
    "\n",
    "# 学習\n",
    "algorithm.fit(x_train, y_train)\n",
    "\n",
    "# 予測\n",
    "y_pred = algorithm.predict(x_test)\n",
    "\n",
    "# 評価\n",
    "score = algorithm.score(x_test, y_test)\n",
    "\n",
    "# 結果確認\n",
    "print(f'score: {score:.4f}')"
   ],
   "metadata": {
    "collapsed": false,
    "pycharm": {
     "name": "#%%\n"
    }
   }
  },
  {
   "cell_type": "markdown",
   "source": [
    "## 混合行列の作成"
   ],
   "metadata": {
    "collapsed": false,
    "pycharm": {
     "name": "#%% md\n"
    }
   }
  },
  {
   "cell_type": "code",
   "execution_count": 6,
   "outputs": [
    {
     "name": "stdout",
     "output_type": "stream",
     "text": [
      "[[101   2]\n",
      " [ 19  49]]\n"
     ]
    }
   ],
   "source": [
    "# 混合行列の計算\n",
    "\n",
    "# 混合行列の生成\n",
    "# y_test: 検証 Data の正解 Data\n",
    "# y_pred: 検証 Data の予測結果\n",
    "matrix = confusion_matrix(y_test, y_pred)\n",
    "\n",
    "# 結果確認\n",
    "print(matrix)"
   ],
   "metadata": {
    "collapsed": false,
    "pycharm": {
     "name": "#%%\n"
    }
   }
  },
  {
   "cell_type": "markdown",
   "source": [
    "## 視認性の高い混合行列を表示させる関数の定義"
   ],
   "metadata": {
    "collapsed": false,
    "pycharm": {
     "name": "#%% md\n"
    }
   }
  },
  {
   "cell_type": "code",
   "execution_count": 7,
   "outputs": [],
   "source": [
    "# 混合行列表示用関数\n",
    "\n",
    "def make_cm(matrix, columns):\n",
    "    # matrix numpy 配列\n",
    "\n",
    "    # columns 項目 List\n",
    "    n = len(columns)\n",
    "\n",
    "    # 正解 Data を n 回繰り返す List 生成\n",
    "    act = ['正解 Data'] * n\n",
    "    pred = ['予測結果'] * n\n",
    "\n",
    "    # DataFrame 生成\n",
    "    cm = pd.DataFrame(matrix, columns=[pred, columns], index=[act, columns])\n",
    "    return cm"
   ],
   "metadata": {
    "collapsed": false,
    "pycharm": {
     "name": "#%%\n"
    }
   }
  },
  {
   "cell_type": "code",
   "execution_count": 9,
   "outputs": [
    {
     "data": {
      "text/plain": "           予測結果    \n             良性  悪性\n正解 Data 良性  101   2\n        悪性   19  49",
      "text/html": "<div>\n<style scoped>\n    .dataframe tbody tr th:only-of-type {\n        vertical-align: middle;\n    }\n\n    .dataframe tbody tr th {\n        vertical-align: top;\n    }\n\n    .dataframe thead tr th {\n        text-align: left;\n    }\n</style>\n<table border=\"1\" class=\"dataframe\">\n  <thead>\n    <tr>\n      <th></th>\n      <th></th>\n      <th colspan=\"2\" halign=\"left\">予測結果</th>\n    </tr>\n    <tr>\n      <th></th>\n      <th></th>\n      <th>良性</th>\n      <th>悪性</th>\n    </tr>\n  </thead>\n  <tbody>\n    <tr>\n      <th rowspan=\"2\" valign=\"top\">正解 Data</th>\n      <th>良性</th>\n      <td>101</td>\n      <td>2</td>\n    </tr>\n    <tr>\n      <th>悪性</th>\n      <td>19</td>\n      <td>49</td>\n    </tr>\n  </tbody>\n</table>\n</div>"
     },
     "metadata": {},
     "output_type": "display_data"
    }
   ],
   "source": [
    "# make_cm を使った混合行列の表示\n",
    "cm = make_cm(matrix, ['良性', '悪性'])\n",
    "display(cm)"
   ],
   "metadata": {
    "collapsed": false,
    "pycharm": {
     "name": "#%%\n"
    }
   }
  },
  {
   "cell_type": "markdown",
   "source": [
    "## 適合率・再現率・F 値の計算"
   ],
   "metadata": {
    "collapsed": false,
    "pycharm": {
     "name": "#%% md\n"
    }
   }
  },
  {
   "cell_type": "code",
   "execution_count": 11,
   "outputs": [
    {
     "name": "stdout",
     "output_type": "stream",
     "text": [
      "適合率:  0.9608\n",
      "再現率:  0.7206\n",
      "F 値:  0.8235\n"
     ]
    }
   ],
   "source": [
    "# 適合率・再現率・F 値の計算\n",
    "precision, recall, fscore, _ = precision_recall_fscore_support(y_test, y_pred, average='binary', pos_label=1)\n",
    "\n",
    "# 結果の確認\n",
    "print(f'適合率: {precision: .4f}')\n",
    "print(f'再現率: {recall: .4f}')\n",
    "print(f'F 値: {fscore: .4f}')"
   ],
   "metadata": {
    "collapsed": false,
    "pycharm": {
     "name": "#%%\n"
    }
   }
  },
  {
   "cell_type": "code",
   "execution_count": null,
   "outputs": [],
   "source": [],
   "metadata": {
    "collapsed": false,
    "pycharm": {
     "name": "#%%\n"
    }
   }
  }
 ],
 "metadata": {
  "kernelspec": {
   "display_name": "Python 3",
   "language": "python",
   "name": "python3"
  },
  "language_info": {
   "codemirror_mode": {
    "name": "ipython",
    "version": 2
   },
   "file_extension": ".py",
   "mimetype": "text/x-python",
   "name": "python",
   "nbconvert_exporter": "python",
   "pygments_lexer": "ipython2",
   "version": "2.7.6"
  }
 },
 "nbformat": 4,
 "nbformat_minor": 0
}