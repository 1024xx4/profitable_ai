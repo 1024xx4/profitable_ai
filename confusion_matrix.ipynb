{
 "cells": [
  {
   "cell_type": "code",
   "execution_count": 15,
   "outputs": [],
   "source": [
    "# 余分な Warning を非表示にする\n",
    "import warnings\n",
    "\n",
    "warnings.filterwarnings('ignore')\n",
    "\n",
    "# Library の Import\n",
    "import pandas as pd\n",
    "import numpy as np\n",
    "import matplotlib.pyplot as plt\n",
    "from IPython.display import display\n",
    "from sklearn.datasets import load_breast_cancer\n",
    "from sklearn.model_selection import train_test_split\n",
    "from sklearn.linear_model import LogisticRegression\n",
    "from sklearn.metrics import confusion_matrix\n",
    "from sklearn.metrics import precision_recall_fscore_support\n",
    "from sklearn.metrics import precision_recall_curve\n",
    "\n",
    "# matplotlib 日本語化対応\n",
    "import japanize_matplotlib\n",
    "\n",
    "# 表示 Option の調整\n",
    "np.set_printoptions(suppress=True, precision=4)  # NumPy の浮動小数点の表示精度\n",
    "pd.options.display.float_format = '{:.4f}'.format  # pandas での浮動小数点の表示精度\n",
    "pd.set_option('display.max_columns', None)  # DataFrame ですべての項目を表示\n",
    "plt.rcParams['font.size'] = 14  # Graph の Default font 指定\n",
    "random_seed = 123  # 乱数の種"
   ],
   "metadata": {
    "collapsed": false,
    "pycharm": {
     "name": "#%%\n"
    }
   }
  },
  {
   "cell_type": "markdown",
   "source": [
    "## 乳がん疾患 Dataset を取得して、Data 分割を行なう"
   ],
   "metadata": {
    "collapsed": false,
    "pycharm": {
     "name": "#%% md\n"
    }
   }
  },
  {
   "cell_type": "code",
   "execution_count": 2,
   "outputs": [],
   "source": [
    "# Data の Load\n",
    "cancer = load_breast_cancer()\n",
    "\n",
    "# 入力 Data x\n",
    "x = cancer.data\n",
    "x\n",
    "# 正解 Data y\n",
    "# 良性: 0, 悪性: 1 に値を変更する\n",
    "y = 1 - cancer.target\n",
    "\n",
    "# 入力 Data を２次元に絞り込み\n",
    "x2 = x[:, :2]\n",
    "\n",
    "# Data 分割\n",
    "x_train, x_test, y_train, y_test = train_test_split(x2, y, train_size=0.7, test_size=0.3, random_state=random_seed)"
   ],
   "metadata": {
    "collapsed": false,
    "pycharm": {
     "name": "#%%\n"
    }
   }
  },
  {
   "cell_type": "markdown",
   "source": [
    "## Algorithm を選択し評価する"
   ],
   "metadata": {
    "collapsed": false,
    "pycharm": {
     "name": "#%% md\n"
    }
   }
  },
  {
   "cell_type": "code",
   "execution_count": 3,
   "outputs": [
    {
     "name": "stdout",
     "output_type": "stream",
     "text": [
      "score: 0.8772\n"
     ]
    }
   ],
   "source": [
    "# Algorithm 選択から評価まで\n",
    "\n",
    "# Algorithm 選択（Logistic 回帰）\n",
    "algorithm = LogisticRegression(random_state=random_seed)\n",
    "\n",
    "# 学習\n",
    "algorithm.fit(x_train, y_train)\n",
    "\n",
    "# 予測\n",
    "y_pred = algorithm.predict(x_test)\n",
    "\n",
    "# 評価\n",
    "score = algorithm.score(x_test, y_test)\n",
    "\n",
    "# 結果確認\n",
    "print(f'score: {score:.4f}')"
   ],
   "metadata": {
    "collapsed": false,
    "pycharm": {
     "name": "#%%\n"
    }
   }
  },
  {
   "cell_type": "markdown",
   "source": [
    "## 混合行列の作成"
   ],
   "metadata": {
    "collapsed": false,
    "pycharm": {
     "name": "#%% md\n"
    }
   }
  },
  {
   "cell_type": "code",
   "execution_count": 4,
   "outputs": [
    {
     "name": "stdout",
     "output_type": "stream",
     "text": [
      "[[101   2]\n",
      " [ 19  49]]\n"
     ]
    }
   ],
   "source": [
    "# 混合行列の計算\n",
    "\n",
    "# 混合行列の生成\n",
    "# y_test: 検証 Data の正解 Data\n",
    "# y_pred: 検証 Data の予測結果\n",
    "matrix = confusion_matrix(y_test, y_pred)\n",
    "\n",
    "# 結果確認\n",
    "print(matrix)"
   ],
   "metadata": {
    "collapsed": false,
    "pycharm": {
     "name": "#%%\n"
    }
   }
  },
  {
   "cell_type": "markdown",
   "source": [
    "## 視認性の高い混合行列を表示させる関数の定義"
   ],
   "metadata": {
    "collapsed": false,
    "pycharm": {
     "name": "#%% md\n"
    }
   }
  },
  {
   "cell_type": "code",
   "execution_count": 5,
   "outputs": [],
   "source": [
    "# 混合行列表示用関数\n",
    "\n",
    "def make_cm(matrix, columns):\n",
    "    # matrix numpy 配列\n",
    "\n",
    "    # columns 項目 List\n",
    "    n = len(columns)\n",
    "\n",
    "    # 正解 Data を n 回繰り返す List 生成\n",
    "    act = ['正解 Data'] * n\n",
    "    pred = ['予測結果'] * n\n",
    "\n",
    "    # DataFrame 生成\n",
    "    cm = pd.DataFrame(matrix, columns=[pred, columns], index=[act, columns])\n",
    "    return cm"
   ],
   "metadata": {
    "collapsed": false,
    "pycharm": {
     "name": "#%%\n"
    }
   }
  },
  {
   "cell_type": "code",
   "execution_count": 6,
   "outputs": [
    {
     "data": {
      "text/plain": "           予測結果    \n             良性  悪性\n正解 Data 良性  101   2\n        悪性   19  49",
      "text/html": "<div>\n<style scoped>\n    .dataframe tbody tr th:only-of-type {\n        vertical-align: middle;\n    }\n\n    .dataframe tbody tr th {\n        vertical-align: top;\n    }\n\n    .dataframe thead tr th {\n        text-align: left;\n    }\n</style>\n<table border=\"1\" class=\"dataframe\">\n  <thead>\n    <tr>\n      <th></th>\n      <th></th>\n      <th colspan=\"2\" halign=\"left\">予測結果</th>\n    </tr>\n    <tr>\n      <th></th>\n      <th></th>\n      <th>良性</th>\n      <th>悪性</th>\n    </tr>\n  </thead>\n  <tbody>\n    <tr>\n      <th rowspan=\"2\" valign=\"top\">正解 Data</th>\n      <th>良性</th>\n      <td>101</td>\n      <td>2</td>\n    </tr>\n    <tr>\n      <th>悪性</th>\n      <td>19</td>\n      <td>49</td>\n    </tr>\n  </tbody>\n</table>\n</div>"
     },
     "metadata": {},
     "output_type": "display_data"
    }
   ],
   "source": [
    "# make_cm を使った混合行列の表示\n",
    "cm = make_cm(matrix, ['良性', '悪性'])\n",
    "display(cm)"
   ],
   "metadata": {
    "collapsed": false,
    "pycharm": {
     "name": "#%%\n"
    }
   }
  },
  {
   "cell_type": "markdown",
   "source": [
    "## 適合率・再現率・F 値の計算"
   ],
   "metadata": {
    "collapsed": false,
    "pycharm": {
     "name": "#%% md\n"
    }
   }
  },
  {
   "cell_type": "code",
   "execution_count": 7,
   "outputs": [
    {
     "name": "stdout",
     "output_type": "stream",
     "text": [
      "適合率:  0.9608\n",
      "再現率:  0.7206\n",
      "F 値:  0.8235\n"
     ]
    }
   ],
   "source": [
    "# 適合率・再現率・F 値の計算\n",
    "precision, recall, fscore, _ = precision_recall_fscore_support(y_test, y_pred, average='binary', pos_label=1)\n",
    "\n",
    "# 結果の確認\n",
    "print(f'適合率: {precision: .4f}')\n",
    "print(f'再現率: {recall: .4f}')\n",
    "print(f'F 値: {fscore: .4f}')"
   ],
   "metadata": {
    "collapsed": false,
    "pycharm": {
     "name": "#%%\n"
    }
   }
  },
  {
   "cell_type": "markdown",
   "source": [
    "## 確率値と閾値"
   ],
   "metadata": {
    "collapsed": false,
    "pycharm": {
     "name": "#%% md\n"
    }
   }
  },
  {
   "cell_type": "code",
   "execution_count": 9,
   "outputs": [
    {
     "name": "stdout",
     "output_type": "stream",
     "text": [
      "[[0.9925 0.0075]\n",
      " [0.9981 0.0019]\n",
      " [0.0719 0.9281]\n",
      " [0.8134 0.1866]\n",
      " [0.0345 0.9655]\n",
      " [0.6376 0.3624]\n",
      " [0.9694 0.0306]\n",
      " [0.9743 0.0257]\n",
      " [0.76   0.24  ]\n",
      " [0.9775 0.0225]]\n"
     ]
    }
   ],
   "source": [
    "# 確率値の取得\n",
    "y_proba = algorithm.predict_proba(x_test)\n",
    "print(y_proba[:10, :])"
   ],
   "metadata": {
    "collapsed": false,
    "pycharm": {
     "name": "#%%\n"
    }
   }
  },
  {
   "cell_type": "code",
   "execution_count": 10,
   "outputs": [
    {
     "name": "stdout",
     "output_type": "stream",
     "text": [
      "[0 1 1 0 1 0 0 0 0 0]\n",
      "[0 1 0 0 1 0 0 0 0 0]\n",
      "[0.2111 0.9188 0.1617 0.0609 0.631  0.0549 0.0601 0.0506 0.0383 0.0164]\n"
     ]
    }
   ],
   "source": [
    "# positive(1)の確率値の取得\n",
    "y_proba1 = y_proba[:, 1]\n",
    "\n",
    "# 結果確認\n",
    "print(y_test[10:20])\n",
    "print(y_pred[10:20])\n",
    "print(y_proba1[10:20])"
   ],
   "metadata": {
    "collapsed": false,
    "pycharm": {
     "name": "#%%\n"
    }
   }
  },
  {
   "cell_type": "code",
   "execution_count": 11,
   "outputs": [
    {
     "name": "stdout",
     "output_type": "stream",
     "text": [
      "[0 1 0 0 1 0 0 0 0 0]\n",
      "[0 1 0 0 0 0 0 0 0 0]\n"
     ]
    }
   ],
   "source": [
    "# 閾値を変化させる\n",
    "thres = 0.5\n",
    "print((y_proba1[10:20] > thres).astype(int))\n",
    "\n",
    "thres = 0.7\n",
    "print((y_proba1[10:20] > thres).astype(int))"
   ],
   "metadata": {
    "collapsed": false,
    "pycharm": {
     "name": "#%%\n"
    }
   }
  },
  {
   "cell_type": "code",
   "execution_count": 13,
   "outputs": [],
   "source": [
    "# 閾値を変更した場合の予測関数の定義\n",
    "def pred(algorithm, x, thres):\n",
    "    # 確率値の取得\n",
    "    y_proba = algorithm.predict_proba(x)\n",
    "\n",
    "    # 予測結果１の確率値\n",
    "    y_proba1 = y_proba[:, 1]\n",
    "\n",
    "    # 予測結果１の確率値 > 閾値\n",
    "    y_pred = (y_proba1 > thres).astype(int)\n",
    "    return y_pred"
   ],
   "metadata": {
    "collapsed": false,
    "pycharm": {
     "name": "#%%\n"
    }
   }
  },
  {
   "cell_type": "code",
   "execution_count": 14,
   "outputs": [
    {
     "name": "stdout",
     "output_type": "stream",
     "text": [
      "[0 1 0 0 1 0 0 0 0 0]\n",
      "[0 1 0 0 0 0 0 0 0 0]\n"
     ]
    }
   ],
   "source": [
    "# 閾値 0.5 で予測結果取得\n",
    "pred_05 = pred(algorithm, x_test, 0.5)\n",
    "\n",
    "# 閾値 0.7 で予測結果取得\n",
    "pred_07 = pred(algorithm, x_test, 0.7)\n",
    "\n",
    "# 結果確認\n",
    "print(pred_05[10:20])\n",
    "print(pred_07[10:20])"
   ],
   "metadata": {
    "collapsed": false,
    "pycharm": {
     "name": "#%%\n"
    }
   }
  },
  {
   "cell_type": "code",
   "execution_count": 17,
   "outputs": [
    {
     "data": {
      "text/plain": "        閾値    適合率    再現率\n52  0.1473 0.7901 0.9412\n62  0.2027 0.8310 0.8676\n72  0.3371 0.9344 0.8382\n82  0.5347 0.9608 0.7206\n92  0.7763 0.9756 0.5882\n102 0.9025 1.0000 0.4559\n112 0.9829 1.0000 0.3088",
      "text/html": "<div>\n<style scoped>\n    .dataframe tbody tr th:only-of-type {\n        vertical-align: middle;\n    }\n\n    .dataframe tbody tr th {\n        vertical-align: top;\n    }\n\n    .dataframe thead th {\n        text-align: right;\n    }\n</style>\n<table border=\"1\" class=\"dataframe\">\n  <thead>\n    <tr style=\"text-align: right;\">\n      <th></th>\n      <th>閾値</th>\n      <th>適合率</th>\n      <th>再現率</th>\n    </tr>\n  </thead>\n  <tbody>\n    <tr>\n      <th>52</th>\n      <td>0.1473</td>\n      <td>0.7901</td>\n      <td>0.9412</td>\n    </tr>\n    <tr>\n      <th>62</th>\n      <td>0.2027</td>\n      <td>0.8310</td>\n      <td>0.8676</td>\n    </tr>\n    <tr>\n      <th>72</th>\n      <td>0.3371</td>\n      <td>0.9344</td>\n      <td>0.8382</td>\n    </tr>\n    <tr>\n      <th>82</th>\n      <td>0.5347</td>\n      <td>0.9608</td>\n      <td>0.7206</td>\n    </tr>\n    <tr>\n      <th>92</th>\n      <td>0.7763</td>\n      <td>0.9756</td>\n      <td>0.5882</td>\n    </tr>\n    <tr>\n      <th>102</th>\n      <td>0.9025</td>\n      <td>1.0000</td>\n      <td>0.4559</td>\n    </tr>\n    <tr>\n      <th>112</th>\n      <td>0.9829</td>\n      <td>1.0000</td>\n      <td>0.3088</td>\n    </tr>\n  </tbody>\n</table>\n</div>"
     },
     "metadata": {},
     "output_type": "display_data"
    }
   ],
   "source": [
    "# 適合率、制限率、閾値の取得\n",
    "# scikit-learn の precision_recall_curve 関数で正解 Data y_test と予測の確率値 y_proba1 を引数に手企業率、再現率とその時の閾値の配列で取得する。\n",
    "precision, recall, thresholds = precision_recall_curve(y_test, y_proba1)\n",
    "\n",
    "# 結果を DataFrame にする\n",
    "df_pr = pd.DataFrame([thresholds, precision, recall]).T # DataFrame 化した後に「T」という Property で転置行列する。\n",
    "df_pr.columns = ['閾値', '適合率', '再現率'] # 列 Title を追加する。\n",
    "\n",
    "# 閾値 0.5 の周辺を表示\n",
    "display(df_pr[52:122:10]) # 閾値0.5の時を含む行を10行刻みで抽出し表紙する。"
   ],
   "metadata": {
    "collapsed": false,
    "pycharm": {
     "name": "#%%\n"
    }
   }
  },
  {
   "cell_type": "code",
   "execution_count": null,
   "outputs": [],
   "source": [],
   "metadata": {
    "collapsed": false,
    "pycharm": {
     "name": "#%%\n"
    }
   }
  }
 ],
 "metadata": {
  "kernelspec": {
   "display_name": "Python 3",
   "language": "python",
   "name": "python3"
  },
  "language_info": {
   "codemirror_mode": {
    "name": "ipython",
    "version": 2
   },
   "file_extension": ".py",
   "mimetype": "text/x-python",
   "name": "python",
   "nbconvert_exporter": "python",
   "pygments_lexer": "ipython2",
   "version": "2.7.6"
  }
 },
 "nbformat": 4,
 "nbformat_minor": 0
}