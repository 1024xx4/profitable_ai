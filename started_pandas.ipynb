{
 "cells": [
  {
   "cell_type": "markdown",
   "metadata": {
    "collapsed": true,
    "pycharm": {
     "name": "#%% md\n"
    }
   },
   "source": [
    "# pandas 入門"
   ]
  },
  {
   "cell_type": "code",
   "execution_count": 17,
   "outputs": [],
   "source": [
    "# Library の import\n",
    "\n",
    "# NumPy用 Library\n",
    "import numpy as np\n",
    "\n",
    "# pandas用 Library\n",
    "import pandas as pd\n",
    "\n",
    "# DataFrame表示用関数\n",
    "# from IPython.display import display\n",
    "\n",
    "# DataFrame での表示精度\n",
    "pd.options.display.float_format = '{:.4f}'.format\n",
    "\n",
    "# DataFrame ですべての項目を表示\n",
    "pd.set_option(\"display.max_columns\", None)"
   ],
   "metadata": {
    "collapsed": false,
    "pycharm": {
     "name": "#%%\n"
    }
   }
  },
  {
   "cell_type": "code",
   "execution_count": 18,
   "outputs": [
    {
     "name": "stdout",
     "output_type": "stream",
     "text": [
      "[[ 1.  2.  1.]\n",
      " [ 4.  5.  2.]\n",
      " [ 7.  8.  2.]\n",
      " [10. nan  1.]\n",
      " [13. 10.  2.]]\n"
     ]
    }
   ],
   "source": [
    "# ２次元 NumPy 配列の定義\n",
    "b = np.array([[1, 2, 1], [4, 5, 2], [7, 8, 2], [10, np.nan, 1], [13, 10, 2]])\n",
    "\n",
    "# 結果確認\n",
    "print(b)"
   ],
   "metadata": {
    "collapsed": false,
    "pycharm": {
     "name": "#%%\n"
    }
   }
  },
  {
   "cell_type": "code",
   "execution_count": 19,
   "outputs": [
    {
     "name": "stdout",
     "output_type": "stream",
     "text": [
      "<class 'pandas.core.frame.DataFrame'>\n"
     ]
    },
    {
     "data": {
      "text/plain": "    col_a   col_b  col_c\n0  1.0000  2.0000 1.0000\n1  4.0000  5.0000 2.0000\n2  7.0000  8.0000 2.0000\n3 10.0000     NaN 1.0000\n4 13.0000 10.0000 2.0000",
      "text/html": "<div>\n<style scoped>\n    .dataframe tbody tr th:only-of-type {\n        vertical-align: middle;\n    }\n\n    .dataframe tbody tr th {\n        vertical-align: top;\n    }\n\n    .dataframe thead th {\n        text-align: right;\n    }\n</style>\n<table border=\"1\" class=\"dataframe\">\n  <thead>\n    <tr style=\"text-align: right;\">\n      <th></th>\n      <th>col_a</th>\n      <th>col_b</th>\n      <th>col_c</th>\n    </tr>\n  </thead>\n  <tbody>\n    <tr>\n      <th>0</th>\n      <td>1.0000</td>\n      <td>2.0000</td>\n      <td>1.0000</td>\n    </tr>\n    <tr>\n      <th>1</th>\n      <td>4.0000</td>\n      <td>5.0000</td>\n      <td>2.0000</td>\n    </tr>\n    <tr>\n      <th>2</th>\n      <td>7.0000</td>\n      <td>8.0000</td>\n      <td>2.0000</td>\n    </tr>\n    <tr>\n      <th>3</th>\n      <td>10.0000</td>\n      <td>NaN</td>\n      <td>1.0000</td>\n    </tr>\n    <tr>\n      <th>4</th>\n      <td>13.0000</td>\n      <td>10.0000</td>\n      <td>2.0000</td>\n    </tr>\n  </tbody>\n</table>\n</div>"
     },
     "metadata": {},
     "output_type": "display_data"
    }
   ],
   "source": [
    "# DataFrame の定義\n",
    "df = pd.DataFrame(b, columns=['col_a', 'col_b', 'col_c'])\n",
    "\n",
    "# 型表示\n",
    "print(type(df))\n",
    "\n",
    "# display 関数による整形表示\n",
    "display(df)"
   ],
   "metadata": {
    "collapsed": false,
    "pycharm": {
     "name": "#%%\n"
    }
   }
  },
  {
   "cell_type": "code",
   "execution_count": 20,
   "outputs": [
    {
     "name": "stdout",
     "output_type": "stream",
     "text": [
      "列名 Index(['col_a', 'col_b', 'col_c'], dtype='object')\n",
      "行名 RangeIndex(start=0, stop=5, step=1)\n",
      "Data本体\n",
      " [[ 1.  2.  1.]\n",
      " [ 4.  5.  2.]\n",
      " [ 7.  8.  2.]\n",
      " [10. nan  1.]\n",
      " [13. 10.  2.]]\n"
     ]
    }
   ],
   "source": [
    "# DataFrame の各部品表示\n",
    "\n",
    "# 列名\n",
    "print('列名', df.columns)\n",
    "print('行名', df.index)\n",
    "\n",
    "# Data本体\n",
    "print('Data本体\\n', df.values)"
   ],
   "metadata": {
    "collapsed": false,
    "pycharm": {
     "name": "#%%\n"
    }
   }
  },
  {
   "cell_type": "code",
   "execution_count": 22,
   "outputs": [
    {
     "data": {
      "text/plain": "    col_a   col_b  col_c\n0  1.0000  2.0000 1.0000\n1  4.0000  5.0000 2.0000\n2  7.0000  8.0000 2.0000\n3 10.0000     NaN 1.0000\n4 13.0000 10.0000 2.0000",
      "text/html": "<div>\n<style scoped>\n    .dataframe tbody tr th:only-of-type {\n        vertical-align: middle;\n    }\n\n    .dataframe tbody tr th {\n        vertical-align: top;\n    }\n\n    .dataframe thead th {\n        text-align: right;\n    }\n</style>\n<table border=\"1\" class=\"dataframe\">\n  <thead>\n    <tr style=\"text-align: right;\">\n      <th></th>\n      <th>col_a</th>\n      <th>col_b</th>\n      <th>col_c</th>\n    </tr>\n  </thead>\n  <tbody>\n    <tr>\n      <th>0</th>\n      <td>1.0000</td>\n      <td>2.0000</td>\n      <td>1.0000</td>\n    </tr>\n    <tr>\n      <th>1</th>\n      <td>4.0000</td>\n      <td>5.0000</td>\n      <td>2.0000</td>\n    </tr>\n    <tr>\n      <th>2</th>\n      <td>7.0000</td>\n      <td>8.0000</td>\n      <td>2.0000</td>\n    </tr>\n    <tr>\n      <th>3</th>\n      <td>10.0000</td>\n      <td>NaN</td>\n      <td>1.0000</td>\n    </tr>\n    <tr>\n      <th>4</th>\n      <td>13.0000</td>\n      <td>10.0000</td>\n      <td>2.0000</td>\n    </tr>\n  </tbody>\n</table>\n</div>"
     },
     "metadata": {},
     "output_type": "display_data"
    }
   ],
   "source": [
    "# CSV File からの読み込み\n",
    "\n",
    "# 読み込み元 URL\n",
    "csv_url = 'https://raw.githubusercontent.com/makaishi2/sample-data/master/data/df-sample.csv'\n",
    "\n",
    "# Data 読み込み\n",
    "df_csv = pd.read_csv(csv_url)\n",
    "\n",
    "# 結果確認\n",
    "display(df_csv)"
   ],
   "metadata": {
    "collapsed": false,
    "pycharm": {
     "name": "#%%\n"
    }
   }
  },
  {
   "cell_type": "code",
   "execution_count": 23,
   "outputs": [
    {
     "data": {
      "text/plain": "       A列      B列     C列\n0  1.0000  2.0000 1.0000\n1  4.0000  5.0000 2.0000\n2  7.0000  8.0000 2.0000\n3 10.0000     NaN 1.0000\n4 13.0000 10.0000 2.0000",
      "text/html": "<div>\n<style scoped>\n    .dataframe tbody tr th:only-of-type {\n        vertical-align: middle;\n    }\n\n    .dataframe tbody tr th {\n        vertical-align: top;\n    }\n\n    .dataframe thead th {\n        text-align: right;\n    }\n</style>\n<table border=\"1\" class=\"dataframe\">\n  <thead>\n    <tr style=\"text-align: right;\">\n      <th></th>\n      <th>A列</th>\n      <th>B列</th>\n      <th>C列</th>\n    </tr>\n  </thead>\n  <tbody>\n    <tr>\n      <th>0</th>\n      <td>1.0000</td>\n      <td>2.0000</td>\n      <td>1.0000</td>\n    </tr>\n    <tr>\n      <th>1</th>\n      <td>4.0000</td>\n      <td>5.0000</td>\n      <td>2.0000</td>\n    </tr>\n    <tr>\n      <th>2</th>\n      <td>7.0000</td>\n      <td>8.0000</td>\n      <td>2.0000</td>\n    </tr>\n    <tr>\n      <th>3</th>\n      <td>10.0000</td>\n      <td>NaN</td>\n      <td>1.0000</td>\n    </tr>\n    <tr>\n      <th>4</th>\n      <td>13.0000</td>\n      <td>10.0000</td>\n      <td>2.0000</td>\n    </tr>\n  </tbody>\n</table>\n</div>"
     },
     "metadata": {},
     "output_type": "display_data"
    }
   ],
   "source": [
    "# File 読み込み後の列名変更\n",
    "columns = ['A列', 'B列', 'C列']\n",
    "df_csv.columns = columns\n",
    "\n",
    "# 結果確認\n",
    "display(df_csv)"
   ],
   "metadata": {
    "collapsed": false,
    "pycharm": {
     "name": "#%%\n"
    }
   }
  }
 ],
 "metadata": {
  "kernelspec": {
   "display_name": "Python 3",
   "language": "python",
   "name": "python3"
  },
  "language_info": {
   "codemirror_mode": {
    "name": "ipython",
    "version": 2
   },
   "file_extension": ".py",
   "mimetype": "text/x-python",
   "name": "python",
   "nbconvert_exporter": "python",
   "pygments_lexer": "ipython2",
   "version": "2.7.6"
  }
 },
 "nbformat": 4,
 "nbformat_minor": 0
}